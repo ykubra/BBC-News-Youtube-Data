{
 "cells": [
  {
   "cell_type": "markdown",
   "metadata": {},
   "source": [
    "# Exploratory Data Analysis Using Youtube Video Data from BBC News"
   ]
  },
  {
   "cell_type": "markdown",
   "metadata": {},
   "source": [
    "## 1.Introduction"
   ]
  },
  {
   "cell_type": "markdown",
   "metadata": {},
   "source": [
    "YouTube is an American online video sharing and social media platform headquartered in San Bruno, California. It was launched on February 14, 2005, by Steve Chen, Chad Hurley, and Jawed Karim. It is currently owned by Google, and is the second most visited website, after Google Search. YouTube has more than 2.5 billion monthly users who collectively watch more than one billion hours of videos each day. As of May 2019, videos were being uploaded at a rate of more than 500 hours of content per minute.[1]"
   ]
  },
  {
   "cell_type": "markdown",
   "metadata": {},
   "source": [
    "## 2. Dataset"
   ]
  },
  {
   "cell_type": "markdown",
   "metadata": {},
   "source": [
    "The YouTube Data API (v3), which is used in this analysis, lets you incorporate YouTube functionality into your own application. You can use the API to fetch search results and to retrieve, insert, update, and delete resources like videos or playlists.[2]\n",
    "\n",
    "In conjunction with the YouTube Player APIs and the YouTube Analytics API, the API lets your application provide a full-fledged YouTube experience that includes search and discovery, content creation, video playback, account management, and viewer statistics.[2]"
   ]
  },
  {
   "cell_type": "markdown",
   "metadata": {},
   "source": [
    "Additionally; BBC News youtube channel created Apr 8, 2006. Has over 12900000 subscribers and 16972 videos in total from the founding date of the channel to end of the 2022, and their videos viewed crassly 4.000.000.000 times."
   ]
  },
  {
   "cell_type": "markdown",
   "metadata": {},
   "source": [
    "### What I covered in this analysis?\n",
    "\n",
    "- Data Cleaning; including changing data types and replacing NaN and Null values with 0. \n",
    "\n",
    "\n",
    "- Enriching data; adding new columns by processing relevant columns. Also creating categorical data type to help grouping large amount of information.\n",
    "\n",
    "\n",
    "- Basic statistics covered; max min and average values. Additionally the most interacted 9 videos plotted.\n",
    "\n",
    "\n",
    "- To understand what is the relationship between view, like, comment, duration etc. scatterplot used and interpreted. Questions which are answered:\n",
    "\n",
    "\n",
    "\n",
    "            \n",
    "    1.Does the number of views and comments  have an effect on like number?\n",
    "\n",
    "\n",
    "    2.Does video duration matter for video to get more likes and views?\n",
    "\n",
    "\n",
    "    3.Does tag numbers affect to view counts?\n",
    "\n",
    "\n",
    "    4.Does title length matter for views?\n",
    "\n",
    "\n",
    "- The number of videos published are visualized by year, month, week and daily. 2 of the days with the highest number of videos published were determined and Natural language processing (NLP) was used to understand what event took place on these days. \n"
   ]
  },
  {
   "cell_type": "markdown",
   "metadata": {},
   "source": [
    "### IMPORT LIBRARIES"
   ]
  },
  {
   "cell_type": "code",
   "execution_count": 80,
   "metadata": {},
   "outputs": [],
   "source": [
    "import pandas as pd\n",
    "import numpy as np\n",
    "import calendar\n",
    "from datetime import date\n",
    "import isodate\n",
    "import math\n",
    "#data viz. libraries\n",
    "import seaborn as sns\n",
    "import matplotlib.pyplot as plt\n",
    "import matplotlib.ticker as ticker\n",
    "# bokeh\n",
    "from bokeh.io import output_file, show,  output_notebook\n",
    "from bokeh.plotting import figure\n",
    "from bokeh.models import NumeralTickFormatter\n",
    "from bokeh.layouts import column\n",
    "\n",
    "#NLTK\n",
    "import re\n",
    "import string\n",
    "import nltk\n",
    "from collections import Counter\n",
    "from nltk.tokenize import word_tokenize\n",
    "from nltk.corpus import stopwords\n",
    "from nltk.stem.porter import PorterStemmer\n",
    "from IPython.display import display_html\n",
    "\n"
   ]
  },
  {
   "cell_type": "markdown",
   "metadata": {},
   "source": [
    "# IMPORT CSV FILE"
   ]
  },
  {
   "cell_type": "code",
   "execution_count": 81,
   "metadata": {},
   "outputs": [
    {
     "name": "stderr",
     "output_type": "stream",
     "text": [
      "/var/folders/4g/_fkh_sts2kvc493cdc8s9szm0000gn/T/ipykernel_18156/3652881321.py:1: FutureWarning: Passing a negative integer is deprecated in version 1.0 and will not be supported in future version. Instead, use None to not limit the column width.\n",
      "  pd.set_option('display.max_colwidth', -1)\n"
     ]
    }
   ],
   "source": [
    "pd.set_option('display.max_colwidth', -1)"
   ]
  },
  {
   "cell_type": "code",
   "execution_count": 82,
   "metadata": {},
   "outputs": [],
   "source": [
    "df = pd.read_csv(r'/Users/user/Documents/BBC News Youtube Data/Data/bbc_news_341_pages_v5.csv',\n",
    "                 lineterminator='\\n')\n"
   ]
  },
  {
   "cell_type": "code",
   "execution_count": 83,
   "metadata": {},
   "outputs": [
    {
     "data": {
      "text/html": [
       "<div>\n",
       "<style scoped>\n",
       "    .dataframe tbody tr th:only-of-type {\n",
       "        vertical-align: middle;\n",
       "    }\n",
       "\n",
       "    .dataframe tbody tr th {\n",
       "        vertical-align: top;\n",
       "    }\n",
       "\n",
       "    .dataframe thead th {\n",
       "        text-align: right;\n",
       "    }\n",
       "</style>\n",
       "<table border=\"1\" class=\"dataframe\">\n",
       "  <thead>\n",
       "    <tr style=\"text-align: right;\">\n",
       "      <th></th>\n",
       "      <th>Unnamed: 0</th>\n",
       "      <th>video_id</th>\n",
       "      <th>channel_title</th>\n",
       "      <th>video_title</th>\n",
       "      <th>tags</th>\n",
       "      <th>publishedAt</th>\n",
       "      <th>view_count</th>\n",
       "      <th>like_count</th>\n",
       "      <th>commentCount</th>\n",
       "      <th>duration</th>\n",
       "      <th>definition</th>\n",
       "      <th>description</th>\n",
       "    </tr>\n",
       "  </thead>\n",
       "  <tbody>\n",
       "    <tr>\n",
       "      <th>0</th>\n",
       "      <td>0</td>\n",
       "      <td>Y8l3zzlyM4M</td>\n",
       "      <td>BBC News</td>\n",
       "      <td>US President Biden shakes hands with Chinese President Xi Jinping in Bali – BBC News</td>\n",
       "      <td>['bbc', 'bbc news', 'news']</td>\n",
       "      <td>2022-11-14</td>\n",
       "      <td>151642.0</td>\n",
       "      <td>2879.0</td>\n",
       "      <td>1318.0</td>\n",
       "      <td>PT7M33S</td>\n",
       "      <td>hd</td>\n",
       "      <td>The leaders of the US and China have met face-to-face in Bali, in a conversation where the importance of avoiding conflict was stressed.\\n\\nJoe Biden and Xi Jinping met for the first time in five years, and the first time since Mr Biden was elected president.\\n\\nPresident Biden said he was \"committed to keeping the line of communications between us open\" so that the two countries could \"work together on urgent global issues\" including climate change and insecurity.\\n\\nThe leaders are in Indonesia for the G20 meeting, with the ongoing situation in Taiwan expected to top the agenda.\\n\\nPlease subscribe HERE http://bit.ly/1rbfUog\\n\\n#China #G20 #BBCNews</td>\n",
       "    </tr>\n",
       "    <tr>\n",
       "      <th>1</th>\n",
       "      <td>1</td>\n",
       "      <td>ma1Jny_cOjU</td>\n",
       "      <td>BBC News</td>\n",
       "      <td>Suspect arrested after six killed in Istanbul blast – BBC News</td>\n",
       "      <td>['bbc', 'bbc news', 'news']</td>\n",
       "      <td>2022-11-14</td>\n",
       "      <td>72879.0</td>\n",
       "      <td>1085.0</td>\n",
       "      <td>499.0</td>\n",
       "      <td>PT6M56S</td>\n",
       "      <td>hd</td>\n",
       "      <td>Turkish authorities say a suspect has been arrested after at least six people were killed and 81 wounded in an explosion in a busy area of central Istanbul.\\n\\nThe blast happened at about 16:20 local time (13:20 GMT) on Sunday on a shopping street in the Taksim Square area.\\n\\nVice-President Fuat Oktay earlier said the blast was thought to be a terrorist attack\\n\\nInterior Minister Suleyman Soylu said a person suspected of having left the bomb had been arrested by police, and accused the Kurdistan Workers' Party (PKK) of responsibility.\\n\\nNo one has so far claimed responsibility for the blast.\\n\\n#Turkey #BBCNews\\n\\nPlease subscribe HERE http://bit.ly/1rbfUog\\n\\n#BBCNews</td>\n",
       "    </tr>\n",
       "    <tr>\n",
       "      <th>2</th>\n",
       "      <td>2</td>\n",
       "      <td>VD_BegNj3rs</td>\n",
       "      <td>BBC News</td>\n",
       "      <td>Can AI-generated improvised comedy be funny? - BBC News</td>\n",
       "      <td>['bbc', 'bbc news', 'news']</td>\n",
       "      <td>2022-11-13</td>\n",
       "      <td>22076.0</td>\n",
       "      <td>366.0</td>\n",
       "      <td>253.0</td>\n",
       "      <td>PT4M25S</td>\n",
       "      <td>hd</td>\n",
       "      <td>Artificial intelligence (AI) is being used in live comedy shows to make people laugh – so how does it work?\\n\\nImprobotics is an improvised science comedy show using a chatbot alongside a human cast.\\n\\nOne of the actors works to type in the words spoken by the cast and manually selects the best response from a list of suggested next lines.\\n\\n“Essentially you’re improvising with this really rogue element – somebody who can’t say yes to you,” said actor Sarah Castell.\\n\\nIn theory, if you give the chatbot a topic and a line of dialogue it should be able to give you something reasonable to say next.\\n\\nThis film is from Click - the BBC’s weekly technology show.\\n\\nPlease subscribe HERE http://bit.ly/1rbfUog\\n\\n#AI #Comedy #BBCNews</td>\n",
       "    </tr>\n",
       "    <tr>\n",
       "      <th>3</th>\n",
       "      <td>3</td>\n",
       "      <td>WeGIK9qi-KU</td>\n",
       "      <td>BBC News</td>\n",
       "      <td>World War Two: 'I thought I was going on a daytrip when I was evacuated' - BBC News</td>\n",
       "      <td>['bbc', 'bbc news', 'news']</td>\n",
       "      <td>2022-11-13</td>\n",
       "      <td>28744.0</td>\n",
       "      <td>770.0</td>\n",
       "      <td>169.0</td>\n",
       "      <td>PT3M25S</td>\n",
       "      <td>hd</td>\n",
       "      <td>“I thought I was going on a day trip.”\\n\\nSeptember 1, 1939 was Kitty Baxter’s ninth birthday.\\n\\nIt was also the day her life and millions of other people’s changed with the beginning of World War Two.\\n\\nKitty was among the hundreds of thousands of children taken out of UK cities and into the countryside, away from the risk of German bombs.\\n\\nPlease subscribe HERE http://bit.ly/1rbfUog\\n\\n#BBCNews</td>\n",
       "    </tr>\n",
       "    <tr>\n",
       "      <th>4</th>\n",
       "      <td>4</td>\n",
       "      <td>qu4RdyQVGZs</td>\n",
       "      <td>BBC News</td>\n",
       "      <td>How could real and virtual people connect in the metaverse? - BBC News</td>\n",
       "      <td>['bbc', 'bbc news', 'news']</td>\n",
       "      <td>2022-11-13</td>\n",
       "      <td>22392.0</td>\n",
       "      <td>478.0</td>\n",
       "      <td>317.0</td>\n",
       "      <td>PT5M7S</td>\n",
       "      <td>hd</td>\n",
       "      <td>Digital people have become part of the latest developments for the so-called metaverse, which is made up of online virtual realms.\\n\\nReal humans could be sharing the metaverse with digital people, according to Greg Cross, co-founder and CEO of Soul Machines, which specialises in AI.\\n\\n“One of the most interesting things we have learnt about deploying digital people in health and education, is people often prefer to interact with digital people because it removes the fear of human judgement,” he said.\\n\\nRoblox chief business officer, Craig Donato, said for younger users who have grown up with interactive online gaming, the metaverse was “already here”.\\n\\nThis film is from Click - the BBC’s weekly technology show.\\n\\nPlease subscribe HERE http://bit.ly/1rbfUog\\n\\n#Metaverse #Click #BBCNews</td>\n",
       "    </tr>\n",
       "    <tr>\n",
       "      <th>...</th>\n",
       "      <td>...</td>\n",
       "      <td>...</td>\n",
       "      <td>...</td>\n",
       "      <td>...</td>\n",
       "      <td>...</td>\n",
       "      <td>...</td>\n",
       "      <td>...</td>\n",
       "      <td>...</td>\n",
       "      <td>...</td>\n",
       "      <td>...</td>\n",
       "      <td>...</td>\n",
       "      <td>...</td>\n",
       "    </tr>\n",
       "    <tr>\n",
       "      <th>17042</th>\n",
       "      <td>17042</td>\n",
       "      <td>VOilMejK2tk</td>\n",
       "      <td>BBC News</td>\n",
       "      <td>GIANT SINKHOLE SWALLOWS TREES - BBC NEWS</td>\n",
       "      <td>['US', 'bbc news', 'British Broadcasting Corporation Business Operation', 'giant sinkhole', 'bbc', 'sinkhole', 'giant', 'news', 'Louisiana', 'amazing', 'and finally']</td>\n",
       "      <td>2013-08-22</td>\n",
       "      <td>489.0</td>\n",
       "      <td>7.0</td>\n",
       "      <td>4.0</td>\n",
       "      <td>PT31S</td>\n",
       "      <td>sd</td>\n",
       "      <td>Subscribe to BBC News www.youtube.com/bbcnews\\nFootage from the US state of Louisiana show a giant sinkhole swallowing everything in its path.\\n\\nSubscribe http://www.youtube.com/bbcnews\\n\\nCheck out our website: http://www.bbc.com/news \\nFacebook: http://www.facebook.com/bbcworldnews \\nTwitter: http://www.twitter.com/bbcworld\\nInstagram: http://instagram.com/bbcnews</td>\n",
       "    </tr>\n",
       "    <tr>\n",
       "      <th>17043</th>\n",
       "      <td>17043</td>\n",
       "      <td>SnPKetrLNLk</td>\n",
       "      <td>BBC News</td>\n",
       "      <td>NORTHERN LIGHTS ON DISPLAY IN SCOTLAND - BBC NEWS</td>\n",
       "      <td>['scotland', 'Bbc News', 'northern lights', 'Caithness', 'British Broadcasting Corporation Business Operation', 'Bbc', 'celestial', 'News', 'clouds', 'aurora borealis', 'amazing', 'aurora', 'borealis', 'and finally']</td>\n",
       "      <td>2013-08-22</td>\n",
       "      <td>4744.0</td>\n",
       "      <td>26.0</td>\n",
       "      <td>2.0</td>\n",
       "      <td>PT2M22S</td>\n",
       "      <td>sd</td>\n",
       "      <td>Subscribe to BBC News www.youtube.com/bbcnews\\nCheck out this stunning time-lapse video of a rare celestial show that's been captured by an amateur astronomer in Scotland.\\nThe recording is extraordinary because while Maciej Winiayczyk was filming the\"night-shining\"clouds above Caithness, the aurora borealis also put on a vivid display.\\nVideo courtesy of Maciej Winiayczyk\\n\\nSubscribe http://www.youtube.com/bbcnews\\n\\nCheck out our website: http://www.bbc.com/news \\nFacebook: http://www.facebook.com/bbcworldnews \\nTwitter: http://www.twitter.com/bbcworld\\nInstagram: http://instagram.com/bbcnews</td>\n",
       "    </tr>\n",
       "    <tr>\n",
       "      <th>17044</th>\n",
       "      <td>17044</td>\n",
       "      <td>46v2jtu45-0</td>\n",
       "      <td>BBC News</td>\n",
       "      <td>Russia: Military Hovercraft Shocks Sunbathers - BBC NEWS</td>\n",
       "      <td>['russia', 'russia hovercraft', 'beach', 'British Broadcasting Corporation Business Operation', 'Bbc News', 'russia military', 'News', 'Bbc', 'military', 'hovercraft', 'amazing', 'and finally', 'Military Hovercraft Shocks Sunbathers']</td>\n",
       "      <td>2013-08-22</td>\n",
       "      <td>6132.0</td>\n",
       "      <td>85.0</td>\n",
       "      <td>12.0</td>\n",
       "      <td>PT51S</td>\n",
       "      <td>sd</td>\n",
       "      <td>Sunseekers on Russia's Baltic Coast were in for a chock when a military hovercraft made an unannounced beach landing. \\n\\nSubscribe http://www.youtube.com/bbcnews\\n\\nCheck out our website: http://www.bbc.com/news \\nFacebook: http://www.facebook.com/bbcworldnews \\nTwitter: http://www.twitter.com/bbcworld\\nInstagram: http://instagram.com/bbcnews</td>\n",
       "    </tr>\n",
       "    <tr>\n",
       "      <th>17045</th>\n",
       "      <td>17045</td>\n",
       "      <td>BO_7gT3XpTE</td>\n",
       "      <td>BBC News</td>\n",
       "      <td>Tariq Ramadan: 'Egypt's Return to A Mubarak Style Era' - BBC NEWS</td>\n",
       "      <td>['Tariq Ramadan (Author)', 'news', 'bbc', 'bbc news', 'egypt', 'mubarak', 'Mishal Husain (TV Personality)', 'egypt news', 'muslim brotherhood', 'mbs', 'muslims', 'muslim brothers', 'islam']</td>\n",
       "      <td>2013-08-21</td>\n",
       "      <td>812.0</td>\n",
       "      <td>12.0</td>\n",
       "      <td>11.0</td>\n",
       "      <td>PT6M44S</td>\n",
       "      <td>sd</td>\n",
       "      <td>Tariq Ramadan, a Muslim theologian whose grandfather is one of the founding members of the Muslim Brotherhood, told BBC World News that Egypt is on the verge of returning to a 'Mubarak style' era.\\n\\nProfessor Ramadan added that he does not believe that its members are behind the recent attacks on Coptic churches.\\n\\nVisit http://www.bbc.com/news for all the latest news \\n\\nBBC World News Facebook http://www.facebook.com/bbcworldnews \\nBBC World Twitter http://www.twitter.com/bbcworld\\nSubscribe to BBC News: http://www.youtube.com/bbcnews</td>\n",
       "    </tr>\n",
       "    <tr>\n",
       "      <th>17046</th>\n",
       "      <td>17046</td>\n",
       "      <td>RvwIab2likY</td>\n",
       "      <td>BBC News</td>\n",
       "      <td>China: Rooftop 'Rock Villa' On Beijing's Skyline - BBC NEWS</td>\n",
       "      <td>['China', 'Bbc News', 'Beijing (City/Town/Village)', 'British Broadcasting Corporation (Business Operation)', 'Bbc', 'News', 'Rooftop', 'AND FINALLY', 'china', 'china news', 'bbc china', 'bbc chinese']</td>\n",
       "      <td>2013-08-13</td>\n",
       "      <td>13345.0</td>\n",
       "      <td>147.0</td>\n",
       "      <td>50.0</td>\n",
       "      <td>PT35S</td>\n",
       "      <td>sd</td>\n",
       "      <td>A Chinese businessman has been ordered to demolish a bizarre rooftop villa that he's built illegally on top of a 26 storey apartment block in Beijing. \\n\\nWith its trees, shrubs and rocks, the city flat, in the densely packed district of Haidian, looks more like a mountain-top home. \\nNewspaper reports say other residents in the tower block have long complained that the villa complex - built over 6 years - has damaged pipes and the structural integrity of the building.  Officials have given the owner 15 days to take it down.\\n\\nSubscribe http://www.youtube.com/bbcnews\\n\\nCheck out our website: http://www.bbc.com/news \\nFacebook: http://www.facebook.com/bbcworldnews \\nTwitter: http://www.twitter.com/bbcworld\\nInstagram: http://instagram.com/bbcnews</td>\n",
       "    </tr>\n",
       "  </tbody>\n",
       "</table>\n",
       "<p>17047 rows × 12 columns</p>\n",
       "</div>"
      ],
      "text/plain": [
       "       Unnamed: 0     video_id channel_title  \\\n",
       "0      0           Y8l3zzlyM4M  BBC News       \n",
       "1      1           ma1Jny_cOjU  BBC News       \n",
       "2      2           VD_BegNj3rs  BBC News       \n",
       "3      3           WeGIK9qi-KU  BBC News       \n",
       "4      4           qu4RdyQVGZs  BBC News       \n",
       "...   ..                   ...       ...       \n",
       "17042  17042       VOilMejK2tk  BBC News       \n",
       "17043  17043       SnPKetrLNLk  BBC News       \n",
       "17044  17044       46v2jtu45-0  BBC News       \n",
       "17045  17045       BO_7gT3XpTE  BBC News       \n",
       "17046  17046       RvwIab2likY  BBC News       \n",
       "\n",
       "                                                                                video_title  \\\n",
       "0      US President Biden shakes hands with Chinese President Xi Jinping in Bali – BBC News   \n",
       "1      Suspect arrested after six killed in Istanbul blast – BBC News                         \n",
       "2      Can AI-generated improvised comedy be funny? - BBC News                                \n",
       "3      World War Two: 'I thought I was going on a daytrip when I was evacuated' - BBC News    \n",
       "4      How could real and virtual people connect in the metaverse? - BBC News                 \n",
       "...                                                                       ...                 \n",
       "17042  GIANT SINKHOLE SWALLOWS TREES - BBC NEWS                                               \n",
       "17043  NORTHERN LIGHTS ON DISPLAY IN SCOTLAND - BBC NEWS                                      \n",
       "17044  Russia: Military Hovercraft Shocks Sunbathers - BBC NEWS                               \n",
       "17045  Tariq Ramadan: 'Egypt's Return to A Mubarak Style Era' - BBC NEWS                      \n",
       "17046  China: Rooftop 'Rock Villa' On Beijing's Skyline - BBC NEWS                            \n",
       "\n",
       "                                                                                                                                                                                                                                             tags  \\\n",
       "0      ['bbc', 'bbc news', 'news']                                                                                                                                                                                                                  \n",
       "1      ['bbc', 'bbc news', 'news']                                                                                                                                                                                                                  \n",
       "2      ['bbc', 'bbc news', 'news']                                                                                                                                                                                                                  \n",
       "3      ['bbc', 'bbc news', 'news']                                                                                                                                                                                                                  \n",
       "4      ['bbc', 'bbc news', 'news']                                                                                                                                                                                                                  \n",
       "...                            ...                                                                                                                                                                                                                  \n",
       "17042  ['US', 'bbc news', 'British Broadcasting Corporation Business Operation', 'giant sinkhole', 'bbc', 'sinkhole', 'giant', 'news', 'Louisiana', 'amazing', 'and finally']                                                                       \n",
       "17043  ['scotland', 'Bbc News', 'northern lights', 'Caithness', 'British Broadcasting Corporation Business Operation', 'Bbc', 'celestial', 'News', 'clouds', 'aurora borealis', 'amazing', 'aurora', 'borealis', 'and finally']                     \n",
       "17044  ['russia', 'russia hovercraft', 'beach', 'British Broadcasting Corporation Business Operation', 'Bbc News', 'russia military', 'News', 'Bbc', 'military', 'hovercraft', 'amazing', 'and finally', 'Military Hovercraft Shocks Sunbathers']   \n",
       "17045  ['Tariq Ramadan (Author)', 'news', 'bbc', 'bbc news', 'egypt', 'mubarak', 'Mishal Husain (TV Personality)', 'egypt news', 'muslim brotherhood', 'mbs', 'muslims', 'muslim brothers', 'islam']                                                \n",
       "17046  ['China', 'Bbc News', 'Beijing (City/Town/Village)', 'British Broadcasting Corporation (Business Operation)', 'Bbc', 'News', 'Rooftop', 'AND FINALLY', 'china', 'china news', 'bbc china', 'bbc chinese']                                    \n",
       "\n",
       "      publishedAt  view_count  like_count  commentCount duration definition  \\\n",
       "0      2022-11-14  151642.0    2879.0      1318.0        PT7M33S  hd          \n",
       "1      2022-11-14  72879.0     1085.0      499.0         PT6M56S  hd          \n",
       "2      2022-11-13  22076.0     366.0       253.0         PT4M25S  hd          \n",
       "3      2022-11-13  28744.0     770.0       169.0         PT3M25S  hd          \n",
       "4      2022-11-13  22392.0     478.0       317.0         PT5M7S   hd          \n",
       "...           ...      ...       ...         ...            ...   ..          \n",
       "17042  2013-08-22  489.0       7.0         4.0           PT31S    sd          \n",
       "17043  2013-08-22  4744.0      26.0        2.0           PT2M22S  sd          \n",
       "17044  2013-08-22  6132.0      85.0        12.0          PT51S    sd          \n",
       "17045  2013-08-21  812.0       12.0        11.0          PT6M44S  sd          \n",
       "17046  2013-08-13  13345.0     147.0       50.0          PT35S    sd          \n",
       "\n",
       "                                                                                                                                                                                                                                                                                                                                                                                                                                                                                                                                                                                                                                                                                                                                                                                                                              description  \n",
       "0      The leaders of the US and China have met face-to-face in Bali, in a conversation where the importance of avoiding conflict was stressed.\\n\\nJoe Biden and Xi Jinping met for the first time in five years, and the first time since Mr Biden was elected president.\\n\\nPresident Biden said he was \"committed to keeping the line of communications between us open\" so that the two countries could \"work together on urgent global issues\" including climate change and insecurity.\\n\\nThe leaders are in Indonesia for the G20 meeting, with the ongoing situation in Taiwan expected to top the agenda.\\n\\nPlease subscribe HERE http://bit.ly/1rbfUog\\n\\n#China #G20 #BBCNews                                                                                                                                                  \n",
       "1      Turkish authorities say a suspect has been arrested after at least six people were killed and 81 wounded in an explosion in a busy area of central Istanbul.\\n\\nThe blast happened at about 16:20 local time (13:20 GMT) on Sunday on a shopping street in the Taksim Square area.\\n\\nVice-President Fuat Oktay earlier said the blast was thought to be a terrorist attack\\n\\nInterior Minister Suleyman Soylu said a person suspected of having left the bomb had been arrested by police, and accused the Kurdistan Workers' Party (PKK) of responsibility.\\n\\nNo one has so far claimed responsibility for the blast.\\n\\n#Turkey #BBCNews\\n\\nPlease subscribe HERE http://bit.ly/1rbfUog\\n\\n#BBCNews                                                                                                                            \n",
       "2      Artificial intelligence (AI) is being used in live comedy shows to make people laugh – so how does it work?\\n\\nImprobotics is an improvised science comedy show using a chatbot alongside a human cast.\\n\\nOne of the actors works to type in the words spoken by the cast and manually selects the best response from a list of suggested next lines.\\n\\n“Essentially you’re improvising with this really rogue element – somebody who can’t say yes to you,” said actor Sarah Castell.\\n\\nIn theory, if you give the chatbot a topic and a line of dialogue it should be able to give you something reasonable to say next.\\n\\nThis film is from Click - the BBC’s weekly technology show.\\n\\nPlease subscribe HERE http://bit.ly/1rbfUog\\n\\n#AI #Comedy #BBCNews                                                                 \n",
       "3      “I thought I was going on a day trip.”\\n\\nSeptember 1, 1939 was Kitty Baxter’s ninth birthday.\\n\\nIt was also the day her life and millions of other people’s changed with the beginning of World War Two.\\n\\nKitty was among the hundreds of thousands of children taken out of UK cities and into the countryside, away from the risk of German bombs.\\n\\nPlease subscribe HERE http://bit.ly/1rbfUog\\n\\n#BBCNews                                                                                                                                                                                                                                                                                                                                                                                                                 \n",
       "4      Digital people have become part of the latest developments for the so-called metaverse, which is made up of online virtual realms.\\n\\nReal humans could be sharing the metaverse with digital people, according to Greg Cross, co-founder and CEO of Soul Machines, which specialises in AI.\\n\\n“One of the most interesting things we have learnt about deploying digital people in health and education, is people often prefer to interact with digital people because it removes the fear of human judgement,” he said.\\n\\nRoblox chief business officer, Craig Donato, said for younger users who have grown up with interactive online gaming, the metaverse was “already here”.\\n\\nThis film is from Click - the BBC’s weekly technology show.\\n\\nPlease subscribe HERE http://bit.ly/1rbfUog\\n\\n#Metaverse #Click #BBCNews  \n",
       "...                                                                                                                                                                                                                                                                                                                                                                                                                                                                                                                                                                                                                                                                                                                                                                                                                                   ...  \n",
       "17042  Subscribe to BBC News www.youtube.com/bbcnews\\nFootage from the US state of Louisiana show a giant sinkhole swallowing everything in its path.\\n\\nSubscribe http://www.youtube.com/bbcnews\\n\\nCheck out our website: http://www.bbc.com/news \\nFacebook: http://www.facebook.com/bbcworldnews \\nTwitter: http://www.twitter.com/bbcworld\\nInstagram: http://instagram.com/bbcnews                                                                                                                                                                                                                                                                                                                                                                                                                                                   \n",
       "17043  Subscribe to BBC News www.youtube.com/bbcnews\\nCheck out this stunning time-lapse video of a rare celestial show that's been captured by an amateur astronomer in Scotland.\\nThe recording is extraordinary because while Maciej Winiayczyk was filming the\"night-shining\"clouds above Caithness, the aurora borealis also put on a vivid display.\\nVideo courtesy of Maciej Winiayczyk\\n\\nSubscribe http://www.youtube.com/bbcnews\\n\\nCheck out our website: http://www.bbc.com/news \\nFacebook: http://www.facebook.com/bbcworldnews \\nTwitter: http://www.twitter.com/bbcworld\\nInstagram: http://instagram.com/bbcnews                                                                                                                                                                                                          \n",
       "17044  Sunseekers on Russia's Baltic Coast were in for a chock when a military hovercraft made an unannounced beach landing. \\n\\nSubscribe http://www.youtube.com/bbcnews\\n\\nCheck out our website: http://www.bbc.com/news \\nFacebook: http://www.facebook.com/bbcworldnews \\nTwitter: http://www.twitter.com/bbcworld\\nInstagram: http://instagram.com/bbcnews                                                                                                                                                                                                                                                                                                                                                                                                                                                                           \n",
       "17045  Tariq Ramadan, a Muslim theologian whose grandfather is one of the founding members of the Muslim Brotherhood, told BBC World News that Egypt is on the verge of returning to a 'Mubarak style' era.\\n\\nProfessor Ramadan added that he does not believe that its members are behind the recent attacks on Coptic churches.\\n\\nVisit http://www.bbc.com/news for all the latest news \\n\\nBBC World News Facebook http://www.facebook.com/bbcworldnews \\nBBC World Twitter http://www.twitter.com/bbcworld\\nSubscribe to BBC News: http://www.youtube.com/bbcnews                                                                                                                                                                                                                                                                    \n",
       "17046  A Chinese businessman has been ordered to demolish a bizarre rooftop villa that he's built illegally on top of a 26 storey apartment block in Beijing. \\n\\nWith its trees, shrubs and rocks, the city flat, in the densely packed district of Haidian, looks more like a mountain-top home. \\nNewspaper reports say other residents in the tower block have long complained that the villa complex - built over 6 years - has damaged pipes and the structural integrity of the building.  Officials have given the owner 15 days to take it down.\\n\\nSubscribe http://www.youtube.com/bbcnews\\n\\nCheck out our website: http://www.bbc.com/news \\nFacebook: http://www.facebook.com/bbcworldnews \\nTwitter: http://www.twitter.com/bbcworld\\nInstagram: http://instagram.com/bbcnews                                               \n",
       "\n",
       "[17047 rows x 12 columns]"
      ]
     },
     "execution_count": 83,
     "metadata": {},
     "output_type": "execute_result"
    }
   ],
   "source": [
    "df"
   ]
  },
  {
   "cell_type": "code",
   "execution_count": 84,
   "metadata": {},
   "outputs": [
    {
     "data": {
      "text/html": [
       "<div>\n",
       "<style scoped>\n",
       "    .dataframe tbody tr th:only-of-type {\n",
       "        vertical-align: middle;\n",
       "    }\n",
       "\n",
       "    .dataframe tbody tr th {\n",
       "        vertical-align: top;\n",
       "    }\n",
       "\n",
       "    .dataframe thead th {\n",
       "        text-align: right;\n",
       "    }\n",
       "</style>\n",
       "<table border=\"1\" class=\"dataframe\">\n",
       "  <thead>\n",
       "    <tr style=\"text-align: right;\">\n",
       "      <th></th>\n",
       "      <th>Unnamed: 0</th>\n",
       "      <th>video_id</th>\n",
       "      <th>channel_title</th>\n",
       "      <th>video_title</th>\n",
       "      <th>tags</th>\n",
       "      <th>publishedAt</th>\n",
       "      <th>view_count</th>\n",
       "      <th>like_count</th>\n",
       "      <th>commentCount</th>\n",
       "      <th>duration</th>\n",
       "      <th>definition</th>\n",
       "      <th>description</th>\n",
       "    </tr>\n",
       "  </thead>\n",
       "  <tbody>\n",
       "    <tr>\n",
       "      <th>17037</th>\n",
       "      <td>17037</td>\n",
       "      <td>KtarVns7wJU</td>\n",
       "      <td>BBC News</td>\n",
       "      <td>CHINA MAN GROWS A NOSE ON HIS FOREHEAD BBC NEWS</td>\n",
       "      <td>['China', 'nose', 'china nose', 'man grows nose on his forehead', 'forehead', 'medicine', 'medical first', 'news', 'bbc', 'bbc news', 'amazing']</td>\n",
       "      <td>2013-09-25</td>\n",
       "      <td>14913.0</td>\n",
       "      <td>125.0</td>\n",
       "      <td>39.0</td>\n",
       "      <td>PT52S</td>\n",
       "      <td>sd</td>\n",
       "      <td>Subscribe to BBC News www.youtube.com/bbcnews\\nAn almost unbelievable story from the Fujian province in China where a man has had a new nose grown on his forehead. The 22 year-old man damaged his nose in a traffic accident in August two thousand and twelve but failed to seek treatment. This lead to an infection, meaning surgeons were unable to save his nose.  Instead, in a medical first, they've grown a new one on his forehead, using exisitng skin and cartilege from one of his ribs.  Doctors say the final stage, actually transplanting it, will take place \"soon\".\\n\\nSubscribe http://www.youtube.com/bbcnews\\n\\nCheck out our website: http://www.bbc.com/news \\nFacebook: http://www.facebook.com/bbcworldnews \\nTwitter: http://www.twitter.com/bbcworld\\nInstagram: http://instagram.com/bbcnews</td>\n",
       "    </tr>\n",
       "    <tr>\n",
       "      <th>17038</th>\n",
       "      <td>17038</td>\n",
       "      <td>TKIX8RaQjgY</td>\n",
       "      <td>BBC News</td>\n",
       "      <td>AMAZING BOULDER ESCAPE CAUGHT ON CAMERA - BBC NEWS</td>\n",
       "      <td>['taiwan', 'boulder', 'taiwan boulder', 'escape', 'survival', 'amazing escape', 'lucky', 'driver', 'caught on camera', 'AND FINALLY']</td>\n",
       "      <td>2013-09-02</td>\n",
       "      <td>1603.0</td>\n",
       "      <td>24.0</td>\n",
       "      <td>2.0</td>\n",
       "      <td>PT26S</td>\n",
       "      <td>sd</td>\n",
       "      <td>Subscribe to BBC News www.youtube.com/bbcnews\\nWathc this amazing escape for one lucky driver in Taiwan who's brush with death was caught on camera. It all takes place in the middle of a tropical storm and involves a rather large boulder which the motorist is unlikely to forget.\\n\\nSubscribe http://www.youtube.com/bbcnews\\n\\nCheck out our website: http://www.bbc.com/news \\nFacebook: http://www.facebook.com/bbcworldnews \\nTwitter: http://www.twitter.com/bbcworld\\nInstagram: http://instagram.com/bbcnews</td>\n",
       "    </tr>\n",
       "    <tr>\n",
       "      <th>17039</th>\n",
       "      <td>17039</td>\n",
       "      <td>VeSoMDEA7z0</td>\n",
       "      <td>BBC News</td>\n",
       "      <td>SYRIA DEPUTY FM FAISAL MEKDAD INTERVIEW BBC NEWS</td>\n",
       "      <td>['syria', 'syria conflict', 'interview', 'bbc', 'bbc news', 'syria deputy foreign minister', 'Faisal Meqdad (Person)', 'meqdad', 'mekdad', 'faisal mekdad', 'jeremy bowen']</td>\n",
       "      <td>2013-09-02</td>\n",
       "      <td>1348.0</td>\n",
       "      <td>NaN</td>\n",
       "      <td>NaN</td>\n",
       "      <td>PT53S</td>\n",
       "      <td>sd</td>\n",
       "      <td>Subscribe to BBC News www.youtube.com/bbcnews\\nSyria's Deputy Foreign minister tells the BBC that US military action would have dire consequences for the region. He also denied that the Syrian government is responsible for the use of chemical weapons. For the full interview visit our website.\\n\\nSubscribe http://www.youtube.com/bbcnews\\n\\nCheck out our website: http://www.bbc.com/news \\nFacebook: http://www.facebook.com/bbcworldnews \\nTwitter: http://www.twitter.com/bbcworld\\nInstagram: http://instagram.com/bbcnews</td>\n",
       "    </tr>\n",
       "    <tr>\n",
       "      <th>17040</th>\n",
       "      <td>17040</td>\n",
       "      <td>Us6SVEsRK1k</td>\n",
       "      <td>BBC News</td>\n",
       "      <td>GIANT WAVES BATTER CHINA  - BBC NEWS</td>\n",
       "      <td>['china', 'British Broadcasting Corporation Business Operation', 'bbc news', 'china wave', 'news', 'bbc', 'giant wave', 'china giant wave', 'wave', 'amazing', 'and finally']</td>\n",
       "      <td>2013-08-23</td>\n",
       "      <td>2692.0</td>\n",
       "      <td>22.0</td>\n",
       "      <td>6.0</td>\n",
       "      <td>PT33S</td>\n",
       "      <td>sd</td>\n",
       "      <td>Subscribe to BBC News www.youtube.com/bbcnews\\nWatch huge waves battering the Zhejiang province in China. Waves as high as 20 metres were recorded by the local observation station as it crashed along the banks of the river near the city of Haining, setting the highest record in a decade. The huge tide destroyed the protection net along the banks and is thought to have become more powerful due to the impact of the typhoon.\\n\\nSubscribe http://www.youtube.com/bbcnews\\n\\nCheck out our website: http://www.bbc.com/news \\nFacebook: http://www.facebook.com/bbcworldnews \\nTwitter: http://www.twitter.com/bbcworld\\nInstagram: http://instagram.com/bbcnews</td>\n",
       "    </tr>\n",
       "    <tr>\n",
       "      <th>17041</th>\n",
       "      <td>17041</td>\n",
       "      <td>GBQ604MWZTQ</td>\n",
       "      <td>BBC News</td>\n",
       "      <td>ALLEGGED SYRIA TOXIC ATTACKS - BBC NEWS</td>\n",
       "      <td>['syria', 'syria chemical attack', 'syria crisis', 'chemical attack', 'toxic', 'toxic attack', 'news', 'bbc news syria', 'syria news']</td>\n",
       "      <td>2013-08-22</td>\n",
       "      <td>3160.0</td>\n",
       "      <td>39.0</td>\n",
       "      <td>5.0</td>\n",
       "      <td>PT1M42S</td>\n",
       "      <td>sd</td>\n",
       "      <td>Subscribe to BBC News www.youtube.com/bbcnews\\nVIDEO CONTAINS DISTRESSING IMAGES - Opposition activists said that more than 1,000 people were killed after government forces launched rockets with toxic agents into the Damascus suburbs in the Ghouta region. The Syrian government has denied the allegations, describing them as \"illogical and fabricated\". This report contains some very distressing images.\\n\\nSubscribe http://www.youtube.com/bbcnews\\n\\nCheck out our website: http://www.bbc.com/news \\nFacebook: http://www.facebook.com/bbcworldnews \\nTwitter: http://www.twitter.com/bbcworld\\nInstagram: http://instagram.com/bbcnews</td>\n",
       "    </tr>\n",
       "    <tr>\n",
       "      <th>17042</th>\n",
       "      <td>17042</td>\n",
       "      <td>VOilMejK2tk</td>\n",
       "      <td>BBC News</td>\n",
       "      <td>GIANT SINKHOLE SWALLOWS TREES - BBC NEWS</td>\n",
       "      <td>['US', 'bbc news', 'British Broadcasting Corporation Business Operation', 'giant sinkhole', 'bbc', 'sinkhole', 'giant', 'news', 'Louisiana', 'amazing', 'and finally']</td>\n",
       "      <td>2013-08-22</td>\n",
       "      <td>489.0</td>\n",
       "      <td>7.0</td>\n",
       "      <td>4.0</td>\n",
       "      <td>PT31S</td>\n",
       "      <td>sd</td>\n",
       "      <td>Subscribe to BBC News www.youtube.com/bbcnews\\nFootage from the US state of Louisiana show a giant sinkhole swallowing everything in its path.\\n\\nSubscribe http://www.youtube.com/bbcnews\\n\\nCheck out our website: http://www.bbc.com/news \\nFacebook: http://www.facebook.com/bbcworldnews \\nTwitter: http://www.twitter.com/bbcworld\\nInstagram: http://instagram.com/bbcnews</td>\n",
       "    </tr>\n",
       "    <tr>\n",
       "      <th>17043</th>\n",
       "      <td>17043</td>\n",
       "      <td>SnPKetrLNLk</td>\n",
       "      <td>BBC News</td>\n",
       "      <td>NORTHERN LIGHTS ON DISPLAY IN SCOTLAND - BBC NEWS</td>\n",
       "      <td>['scotland', 'Bbc News', 'northern lights', 'Caithness', 'British Broadcasting Corporation Business Operation', 'Bbc', 'celestial', 'News', 'clouds', 'aurora borealis', 'amazing', 'aurora', 'borealis', 'and finally']</td>\n",
       "      <td>2013-08-22</td>\n",
       "      <td>4744.0</td>\n",
       "      <td>26.0</td>\n",
       "      <td>2.0</td>\n",
       "      <td>PT2M22S</td>\n",
       "      <td>sd</td>\n",
       "      <td>Subscribe to BBC News www.youtube.com/bbcnews\\nCheck out this stunning time-lapse video of a rare celestial show that's been captured by an amateur astronomer in Scotland.\\nThe recording is extraordinary because while Maciej Winiayczyk was filming the\"night-shining\"clouds above Caithness, the aurora borealis also put on a vivid display.\\nVideo courtesy of Maciej Winiayczyk\\n\\nSubscribe http://www.youtube.com/bbcnews\\n\\nCheck out our website: http://www.bbc.com/news \\nFacebook: http://www.facebook.com/bbcworldnews \\nTwitter: http://www.twitter.com/bbcworld\\nInstagram: http://instagram.com/bbcnews</td>\n",
       "    </tr>\n",
       "    <tr>\n",
       "      <th>17044</th>\n",
       "      <td>17044</td>\n",
       "      <td>46v2jtu45-0</td>\n",
       "      <td>BBC News</td>\n",
       "      <td>Russia: Military Hovercraft Shocks Sunbathers - BBC NEWS</td>\n",
       "      <td>['russia', 'russia hovercraft', 'beach', 'British Broadcasting Corporation Business Operation', 'Bbc News', 'russia military', 'News', 'Bbc', 'military', 'hovercraft', 'amazing', 'and finally', 'Military Hovercraft Shocks Sunbathers']</td>\n",
       "      <td>2013-08-22</td>\n",
       "      <td>6132.0</td>\n",
       "      <td>85.0</td>\n",
       "      <td>12.0</td>\n",
       "      <td>PT51S</td>\n",
       "      <td>sd</td>\n",
       "      <td>Sunseekers on Russia's Baltic Coast were in for a chock when a military hovercraft made an unannounced beach landing. \\n\\nSubscribe http://www.youtube.com/bbcnews\\n\\nCheck out our website: http://www.bbc.com/news \\nFacebook: http://www.facebook.com/bbcworldnews \\nTwitter: http://www.twitter.com/bbcworld\\nInstagram: http://instagram.com/bbcnews</td>\n",
       "    </tr>\n",
       "    <tr>\n",
       "      <th>17045</th>\n",
       "      <td>17045</td>\n",
       "      <td>BO_7gT3XpTE</td>\n",
       "      <td>BBC News</td>\n",
       "      <td>Tariq Ramadan: 'Egypt's Return to A Mubarak Style Era' - BBC NEWS</td>\n",
       "      <td>['Tariq Ramadan (Author)', 'news', 'bbc', 'bbc news', 'egypt', 'mubarak', 'Mishal Husain (TV Personality)', 'egypt news', 'muslim brotherhood', 'mbs', 'muslims', 'muslim brothers', 'islam']</td>\n",
       "      <td>2013-08-21</td>\n",
       "      <td>812.0</td>\n",
       "      <td>12.0</td>\n",
       "      <td>11.0</td>\n",
       "      <td>PT6M44S</td>\n",
       "      <td>sd</td>\n",
       "      <td>Tariq Ramadan, a Muslim theologian whose grandfather is one of the founding members of the Muslim Brotherhood, told BBC World News that Egypt is on the verge of returning to a 'Mubarak style' era.\\n\\nProfessor Ramadan added that he does not believe that its members are behind the recent attacks on Coptic churches.\\n\\nVisit http://www.bbc.com/news for all the latest news \\n\\nBBC World News Facebook http://www.facebook.com/bbcworldnews \\nBBC World Twitter http://www.twitter.com/bbcworld\\nSubscribe to BBC News: http://www.youtube.com/bbcnews</td>\n",
       "    </tr>\n",
       "    <tr>\n",
       "      <th>17046</th>\n",
       "      <td>17046</td>\n",
       "      <td>RvwIab2likY</td>\n",
       "      <td>BBC News</td>\n",
       "      <td>China: Rooftop 'Rock Villa' On Beijing's Skyline - BBC NEWS</td>\n",
       "      <td>['China', 'Bbc News', 'Beijing (City/Town/Village)', 'British Broadcasting Corporation (Business Operation)', 'Bbc', 'News', 'Rooftop', 'AND FINALLY', 'china', 'china news', 'bbc china', 'bbc chinese']</td>\n",
       "      <td>2013-08-13</td>\n",
       "      <td>13345.0</td>\n",
       "      <td>147.0</td>\n",
       "      <td>50.0</td>\n",
       "      <td>PT35S</td>\n",
       "      <td>sd</td>\n",
       "      <td>A Chinese businessman has been ordered to demolish a bizarre rooftop villa that he's built illegally on top of a 26 storey apartment block in Beijing. \\n\\nWith its trees, shrubs and rocks, the city flat, in the densely packed district of Haidian, looks more like a mountain-top home. \\nNewspaper reports say other residents in the tower block have long complained that the villa complex - built over 6 years - has damaged pipes and the structural integrity of the building.  Officials have given the owner 15 days to take it down.\\n\\nSubscribe http://www.youtube.com/bbcnews\\n\\nCheck out our website: http://www.bbc.com/news \\nFacebook: http://www.facebook.com/bbcworldnews \\nTwitter: http://www.twitter.com/bbcworld\\nInstagram: http://instagram.com/bbcnews</td>\n",
       "    </tr>\n",
       "  </tbody>\n",
       "</table>\n",
       "</div>"
      ],
      "text/plain": [
       "       Unnamed: 0     video_id channel_title  \\\n",
       "17037  17037       KtarVns7wJU  BBC News       \n",
       "17038  17038       TKIX8RaQjgY  BBC News       \n",
       "17039  17039       VeSoMDEA7z0  BBC News       \n",
       "17040  17040       Us6SVEsRK1k  BBC News       \n",
       "17041  17041       GBQ604MWZTQ  BBC News       \n",
       "17042  17042       VOilMejK2tk  BBC News       \n",
       "17043  17043       SnPKetrLNLk  BBC News       \n",
       "17044  17044       46v2jtu45-0  BBC News       \n",
       "17045  17045       BO_7gT3XpTE  BBC News       \n",
       "17046  17046       RvwIab2likY  BBC News       \n",
       "\n",
       "                                                             video_title  \\\n",
       "17037  CHINA MAN GROWS A NOSE ON HIS FOREHEAD BBC NEWS                     \n",
       "17038  AMAZING BOULDER ESCAPE CAUGHT ON CAMERA - BBC NEWS                  \n",
       "17039  SYRIA DEPUTY FM FAISAL MEKDAD INTERVIEW BBC NEWS                    \n",
       "17040  GIANT WAVES BATTER CHINA  - BBC NEWS                                \n",
       "17041  ALLEGGED SYRIA TOXIC ATTACKS - BBC NEWS                             \n",
       "17042  GIANT SINKHOLE SWALLOWS TREES - BBC NEWS                            \n",
       "17043  NORTHERN LIGHTS ON DISPLAY IN SCOTLAND - BBC NEWS                   \n",
       "17044  Russia: Military Hovercraft Shocks Sunbathers - BBC NEWS            \n",
       "17045  Tariq Ramadan: 'Egypt's Return to A Mubarak Style Era' - BBC NEWS   \n",
       "17046  China: Rooftop 'Rock Villa' On Beijing's Skyline - BBC NEWS         \n",
       "\n",
       "                                                                                                                                                                                                                                             tags  \\\n",
       "17037  ['China', 'nose', 'china nose', 'man grows nose on his forehead', 'forehead', 'medicine', 'medical first', 'news', 'bbc', 'bbc news', 'amazing']                                                                                             \n",
       "17038  ['taiwan', 'boulder', 'taiwan boulder', 'escape', 'survival', 'amazing escape', 'lucky', 'driver', 'caught on camera', 'AND FINALLY']                                                                                                        \n",
       "17039  ['syria', 'syria conflict', 'interview', 'bbc', 'bbc news', 'syria deputy foreign minister', 'Faisal Meqdad (Person)', 'meqdad', 'mekdad', 'faisal mekdad', 'jeremy bowen']                                                                  \n",
       "17040  ['china', 'British Broadcasting Corporation Business Operation', 'bbc news', 'china wave', 'news', 'bbc', 'giant wave', 'china giant wave', 'wave', 'amazing', 'and finally']                                                                \n",
       "17041  ['syria', 'syria chemical attack', 'syria crisis', 'chemical attack', 'toxic', 'toxic attack', 'news', 'bbc news syria', 'syria news']                                                                                                       \n",
       "17042  ['US', 'bbc news', 'British Broadcasting Corporation Business Operation', 'giant sinkhole', 'bbc', 'sinkhole', 'giant', 'news', 'Louisiana', 'amazing', 'and finally']                                                                       \n",
       "17043  ['scotland', 'Bbc News', 'northern lights', 'Caithness', 'British Broadcasting Corporation Business Operation', 'Bbc', 'celestial', 'News', 'clouds', 'aurora borealis', 'amazing', 'aurora', 'borealis', 'and finally']                     \n",
       "17044  ['russia', 'russia hovercraft', 'beach', 'British Broadcasting Corporation Business Operation', 'Bbc News', 'russia military', 'News', 'Bbc', 'military', 'hovercraft', 'amazing', 'and finally', 'Military Hovercraft Shocks Sunbathers']   \n",
       "17045  ['Tariq Ramadan (Author)', 'news', 'bbc', 'bbc news', 'egypt', 'mubarak', 'Mishal Husain (TV Personality)', 'egypt news', 'muslim brotherhood', 'mbs', 'muslims', 'muslim brothers', 'islam']                                                \n",
       "17046  ['China', 'Bbc News', 'Beijing (City/Town/Village)', 'British Broadcasting Corporation (Business Operation)', 'Bbc', 'News', 'Rooftop', 'AND FINALLY', 'china', 'china news', 'bbc china', 'bbc chinese']                                    \n",
       "\n",
       "      publishedAt  view_count  like_count  commentCount duration definition  \\\n",
       "17037  2013-09-25  14913.0     125.0       39.0          PT52S    sd          \n",
       "17038  2013-09-02  1603.0      24.0        2.0           PT26S    sd          \n",
       "17039  2013-09-02  1348.0     NaN         NaN            PT53S    sd          \n",
       "17040  2013-08-23  2692.0      22.0        6.0           PT33S    sd          \n",
       "17041  2013-08-22  3160.0      39.0        5.0           PT1M42S  sd          \n",
       "17042  2013-08-22  489.0       7.0         4.0           PT31S    sd          \n",
       "17043  2013-08-22  4744.0      26.0        2.0           PT2M22S  sd          \n",
       "17044  2013-08-22  6132.0      85.0        12.0          PT51S    sd          \n",
       "17045  2013-08-21  812.0       12.0        11.0          PT6M44S  sd          \n",
       "17046  2013-08-13  13345.0     147.0       50.0          PT35S    sd          \n",
       "\n",
       "                                                                                                                                                                                                                                                                                                                                                                                                                                                                                                                                                                                                                                                                                                                                                                                                                       description  \n",
       "17037  Subscribe to BBC News www.youtube.com/bbcnews\\nAn almost unbelievable story from the Fujian province in China where a man has had a new nose grown on his forehead. The 22 year-old man damaged his nose in a traffic accident in August two thousand and twelve but failed to seek treatment. This lead to an infection, meaning surgeons were unable to save his nose.  Instead, in a medical first, they've grown a new one on his forehead, using exisitng skin and cartilege from one of his ribs.  Doctors say the final stage, actually transplanting it, will take place \"soon\".\\n\\nSubscribe http://www.youtube.com/bbcnews\\n\\nCheck out our website: http://www.bbc.com/news \\nFacebook: http://www.facebook.com/bbcworldnews \\nTwitter: http://www.twitter.com/bbcworld\\nInstagram: http://instagram.com/bbcnews  \n",
       "17038  Subscribe to BBC News www.youtube.com/bbcnews\\nWathc this amazing escape for one lucky driver in Taiwan who's brush with death was caught on camera. It all takes place in the middle of a tropical storm and involves a rather large boulder which the motorist is unlikely to forget.\\n\\nSubscribe http://www.youtube.com/bbcnews\\n\\nCheck out our website: http://www.bbc.com/news \\nFacebook: http://www.facebook.com/bbcworldnews \\nTwitter: http://www.twitter.com/bbcworld\\nInstagram: http://instagram.com/bbcnews                                                                                                                                                                                                                                                                                                   \n",
       "17039  Subscribe to BBC News www.youtube.com/bbcnews\\nSyria's Deputy Foreign minister tells the BBC that US military action would have dire consequences for the region. He also denied that the Syrian government is responsible for the use of chemical weapons. For the full interview visit our website.\\n\\nSubscribe http://www.youtube.com/bbcnews\\n\\nCheck out our website: http://www.bbc.com/news \\nFacebook: http://www.facebook.com/bbcworldnews \\nTwitter: http://www.twitter.com/bbcworld\\nInstagram: http://instagram.com/bbcnews                                                                                                                                                                                                                                                                                     \n",
       "17040  Subscribe to BBC News www.youtube.com/bbcnews\\nWatch huge waves battering the Zhejiang province in China. Waves as high as 20 metres were recorded by the local observation station as it crashed along the banks of the river near the city of Haining, setting the highest record in a decade. The huge tide destroyed the protection net along the banks and is thought to have become more powerful due to the impact of the typhoon.\\n\\nSubscribe http://www.youtube.com/bbcnews\\n\\nCheck out our website: http://www.bbc.com/news \\nFacebook: http://www.facebook.com/bbcworldnews \\nTwitter: http://www.twitter.com/bbcworld\\nInstagram: http://instagram.com/bbcnews                                                                                                                                                 \n",
       "17041  Subscribe to BBC News www.youtube.com/bbcnews\\nVIDEO CONTAINS DISTRESSING IMAGES - Opposition activists said that more than 1,000 people were killed after government forces launched rockets with toxic agents into the Damascus suburbs in the Ghouta region. The Syrian government has denied the allegations, describing them as \"illogical and fabricated\". This report contains some very distressing images.\\n\\nSubscribe http://www.youtube.com/bbcnews\\n\\nCheck out our website: http://www.bbc.com/news \\nFacebook: http://www.facebook.com/bbcworldnews \\nTwitter: http://www.twitter.com/bbcworld\\nInstagram: http://instagram.com/bbcnews                                                                                                                                                                       \n",
       "17042  Subscribe to BBC News www.youtube.com/bbcnews\\nFootage from the US state of Louisiana show a giant sinkhole swallowing everything in its path.\\n\\nSubscribe http://www.youtube.com/bbcnews\\n\\nCheck out our website: http://www.bbc.com/news \\nFacebook: http://www.facebook.com/bbcworldnews \\nTwitter: http://www.twitter.com/bbcworld\\nInstagram: http://instagram.com/bbcnews                                                                                                                                                                                                                                                                                                                                                                                                                                            \n",
       "17043  Subscribe to BBC News www.youtube.com/bbcnews\\nCheck out this stunning time-lapse video of a rare celestial show that's been captured by an amateur astronomer in Scotland.\\nThe recording is extraordinary because while Maciej Winiayczyk was filming the\"night-shining\"clouds above Caithness, the aurora borealis also put on a vivid display.\\nVideo courtesy of Maciej Winiayczyk\\n\\nSubscribe http://www.youtube.com/bbcnews\\n\\nCheck out our website: http://www.bbc.com/news \\nFacebook: http://www.facebook.com/bbcworldnews \\nTwitter: http://www.twitter.com/bbcworld\\nInstagram: http://instagram.com/bbcnews                                                                                                                                                                                                   \n",
       "17044  Sunseekers on Russia's Baltic Coast were in for a chock when a military hovercraft made an unannounced beach landing. \\n\\nSubscribe http://www.youtube.com/bbcnews\\n\\nCheck out our website: http://www.bbc.com/news \\nFacebook: http://www.facebook.com/bbcworldnews \\nTwitter: http://www.twitter.com/bbcworld\\nInstagram: http://instagram.com/bbcnews                                                                                                                                                                                                                                                                                                                                                                                                                                                                    \n",
       "17045  Tariq Ramadan, a Muslim theologian whose grandfather is one of the founding members of the Muslim Brotherhood, told BBC World News that Egypt is on the verge of returning to a 'Mubarak style' era.\\n\\nProfessor Ramadan added that he does not believe that its members are behind the recent attacks on Coptic churches.\\n\\nVisit http://www.bbc.com/news for all the latest news \\n\\nBBC World News Facebook http://www.facebook.com/bbcworldnews \\nBBC World Twitter http://www.twitter.com/bbcworld\\nSubscribe to BBC News: http://www.youtube.com/bbcnews                                                                                                                                                                                                                                                             \n",
       "17046  A Chinese businessman has been ordered to demolish a bizarre rooftop villa that he's built illegally on top of a 26 storey apartment block in Beijing. \\n\\nWith its trees, shrubs and rocks, the city flat, in the densely packed district of Haidian, looks more like a mountain-top home. \\nNewspaper reports say other residents in the tower block have long complained that the villa complex - built over 6 years - has damaged pipes and the structural integrity of the building.  Officials have given the owner 15 days to take it down.\\n\\nSubscribe http://www.youtube.com/bbcnews\\n\\nCheck out our website: http://www.bbc.com/news \\nFacebook: http://www.facebook.com/bbcworldnews \\nTwitter: http://www.twitter.com/bbcworld\\nInstagram: http://instagram.com/bbcnews                                        "
      ]
     },
     "execution_count": 84,
     "metadata": {},
     "output_type": "execute_result"
    }
   ],
   "source": [
    "df.tail(10)"
   ]
  },
  {
   "cell_type": "markdown",
   "metadata": {},
   "source": [
    "# DATA CLEANING "
   ]
  },
  {
   "cell_type": "markdown",
   "metadata": {},
   "source": [
    "## DEPRECATION"
   ]
  },
  {
   "cell_type": "markdown",
   "metadata": {},
   "source": [
    "### DROP IRRELEVANT COLUMNS"
   ]
  },
  {
   "cell_type": "code",
   "execution_count": 85,
   "metadata": {},
   "outputs": [],
   "source": [
    "df = df.drop (['Unnamed: 0'], axis = 1)"
   ]
  },
  {
   "cell_type": "code",
   "execution_count": 86,
   "metadata": {},
   "outputs": [
    {
     "data": {
      "text/plain": [
       "video_id         object \n",
       "channel_title    object \n",
       "video_title      object \n",
       "tags             object \n",
       "publishedAt      object \n",
       "view_count       float64\n",
       "like_count       float64\n",
       "commentCount     float64\n",
       "duration         object \n",
       "definition       object \n",
       "description      object \n",
       "dtype: object"
      ]
     },
     "execution_count": 86,
     "metadata": {},
     "output_type": "execute_result"
    }
   ],
   "source": [
    "df.dtypes"
   ]
  },
  {
   "cell_type": "markdown",
   "metadata": {},
   "source": [
    "## FIX"
   ]
  },
  {
   "cell_type": "markdown",
   "metadata": {},
   "source": [
    "### REPLACE NAN VALUES TO 0"
   ]
  },
  {
   "cell_type": "code",
   "execution_count": 87,
   "metadata": {},
   "outputs": [
    {
     "data": {
      "text/plain": [
       "video_id         0  \n",
       "channel_title    0  \n",
       "video_title      0  \n",
       "tags             36 \n",
       "publishedAt      0  \n",
       "view_count       1  \n",
       "like_count       47 \n",
       "commentCount     403\n",
       "duration         0  \n",
       "definition       0  \n",
       "description      4  \n",
       "dtype: int64"
      ]
     },
     "execution_count": 87,
     "metadata": {},
     "output_type": "execute_result"
    }
   ],
   "source": [
    "pd.isna(df).sum()"
   ]
  },
  {
   "cell_type": "code",
   "execution_count": 88,
   "metadata": {},
   "outputs": [
    {
     "data": {
      "text/plain": [
       "video_id         False\n",
       "channel_title    False\n",
       "video_title      False\n",
       "tags             True \n",
       "publishedAt      False\n",
       "view_count       True \n",
       "like_count       True \n",
       "commentCount     True \n",
       "duration         False\n",
       "definition       False\n",
       "description      True \n",
       "dtype: bool"
      ]
     },
     "execution_count": 88,
     "metadata": {},
     "output_type": "execute_result"
    }
   ],
   "source": [
    "df.isnull().any()\n"
   ]
  },
  {
   "cell_type": "code",
   "execution_count": 89,
   "metadata": {},
   "outputs": [],
   "source": [
    "df.fillna(0,inplace=True)"
   ]
  },
  {
   "cell_type": "markdown",
   "metadata": {},
   "source": [
    "## CHANGE"
   ]
  },
  {
   "cell_type": "markdown",
   "metadata": {},
   "source": [
    "### FORMAT DURATION COLUMN DATA TYPE : TIMEDELTA TO MINUTES"
   ]
  },
  {
   "cell_type": "code",
   "execution_count": 90,
   "metadata": {},
   "outputs": [
    {
     "data": {
      "text/plain": [
       "0        PT7M33S\n",
       "1        PT6M56S\n",
       "2        PT4M25S\n",
       "3        PT3M25S\n",
       "4        PT5M7S \n",
       "          ...   \n",
       "17042    PT31S  \n",
       "17043    PT2M22S\n",
       "17044    PT51S  \n",
       "17045    PT6M44S\n",
       "17046    PT35S  \n",
       "Name: duration, Length: 17047, dtype: object"
      ]
     },
     "execution_count": 90,
     "metadata": {},
     "output_type": "execute_result"
    }
   ],
   "source": [
    "df[\"duration\"]"
   ]
  },
  {
   "cell_type": "code",
   "execution_count": 91,
   "metadata": {},
   "outputs": [],
   "source": [
    "index = len(df)\n",
    "for i in range(index):\n",
    "    a = df.loc[i,'duration']\n",
    "    dur = isodate.parse_duration(a)\n",
    "    dur = math.ceil(dur.total_seconds()/60)\n",
    "    #dur = dur.total_seconds()\n",
    "    df.loc[i,'duration'] = dur"
   ]
  },
  {
   "cell_type": "markdown",
   "metadata": {},
   "source": [
    "### Convert view_count,like_count and duration dtypes to int and publishedAt to datetime64"
   ]
  },
  {
   "cell_type": "code",
   "execution_count": 92,
   "metadata": {},
   "outputs": [
    {
     "data": {
      "text/plain": [
       "video_id         object \n",
       "channel_title    object \n",
       "video_title      object \n",
       "tags             object \n",
       "publishedAt      object \n",
       "view_count       float64\n",
       "like_count       float64\n",
       "commentCount     float64\n",
       "duration         object \n",
       "definition       object \n",
       "description      object \n",
       "dtype: object"
      ]
     },
     "execution_count": 92,
     "metadata": {},
     "output_type": "execute_result"
    }
   ],
   "source": [
    "df.dtypes"
   ]
  },
  {
   "cell_type": "code",
   "execution_count": 93,
   "metadata": {},
   "outputs": [],
   "source": [
    "df['view_count'] = df['view_count'].astype(int)\n",
    "df['like_count'] = df['like_count'].astype(int)\n",
    "df['commentCount'] = df['commentCount'].astype(int)\n",
    "df['duration'] = df['duration'].astype(int)\n",
    "df = df.astype({'publishedAt': 'datetime64[ns]'})"
   ]
  },
  {
   "cell_type": "markdown",
   "metadata": {},
   "source": [
    "# PREPROCESSING"
   ]
  },
  {
   "cell_type": "markdown",
   "metadata": {},
   "source": [
    "## Enriching data"
   ]
  },
  {
   "cell_type": "markdown",
   "metadata": {},
   "source": [
    "tagsCount, titleLength, durationCategory, tagCategory, likePercentage and commentPercentage added for further analyze."
   ]
  },
  {
   "cell_type": "code",
   "execution_count": 94,
   "metadata": {},
   "outputs": [],
   "source": [
    "tags = df['tags'].str.count(',').add(1).groupby(df.video_id).sum().astype(int).reset_index(name='tagsCount')\n",
    "df= df.merge(tags, how='left', on='video_id')"
   ]
  },
  {
   "cell_type": "code",
   "execution_count": 95,
   "metadata": {},
   "outputs": [],
   "source": [
    "title = df['video_title'].str.count(' ').add(0).groupby(df.video_id).sum().astype(int).reset_index(name='titleLength')\n",
    "df= df.merge(title, how='left', on='video_id')"
   ]
  },
  {
   "cell_type": "code",
   "execution_count": 96,
   "metadata": {},
   "outputs": [],
   "source": [
    "df['publishedDay'] = pd.Series(df.publishedAt).dt.day_name()"
   ]
  },
  {
   "cell_type": "code",
   "execution_count": 97,
   "metadata": {},
   "outputs": [],
   "source": [
    "df['publishedYear'] = pd.Series(df.publishedAt).dt.year"
   ]
  },
  {
   "cell_type": "code",
   "execution_count": 98,
   "metadata": {},
   "outputs": [],
   "source": [
    "#df['like_prc'] = round(df['like_count']/df['view_count']*100,1)\n",
    "#df['comment_prc'] = round(df['commentCount']/df['view_count']*100,1)"
   ]
  },
  {
   "cell_type": "code",
   "execution_count": 99,
   "metadata": {},
   "outputs": [
    {
     "data": {
      "text/html": [
       "<div>\n",
       "<style scoped>\n",
       "    .dataframe tbody tr th:only-of-type {\n",
       "        vertical-align: middle;\n",
       "    }\n",
       "\n",
       "    .dataframe tbody tr th {\n",
       "        vertical-align: top;\n",
       "    }\n",
       "\n",
       "    .dataframe thead th {\n",
       "        text-align: right;\n",
       "    }\n",
       "</style>\n",
       "<table border=\"1\" class=\"dataframe\">\n",
       "  <thead>\n",
       "    <tr style=\"text-align: right;\">\n",
       "      <th></th>\n",
       "      <th>video_id</th>\n",
       "      <th>channel_title</th>\n",
       "      <th>video_title</th>\n",
       "      <th>tags</th>\n",
       "      <th>publishedAt</th>\n",
       "      <th>view_count</th>\n",
       "      <th>like_count</th>\n",
       "      <th>commentCount</th>\n",
       "      <th>duration</th>\n",
       "      <th>definition</th>\n",
       "      <th>description</th>\n",
       "      <th>tagsCount</th>\n",
       "      <th>titleLength</th>\n",
       "      <th>publishedDay</th>\n",
       "      <th>publishedYear</th>\n",
       "      <th>durationCategory</th>\n",
       "    </tr>\n",
       "  </thead>\n",
       "  <tbody>\n",
       "    <tr>\n",
       "      <th>0</th>\n",
       "      <td>Y8l3zzlyM4M</td>\n",
       "      <td>BBC News</td>\n",
       "      <td>US President Biden shakes hands with Chinese President Xi Jinping in Bali – BBC News</td>\n",
       "      <td>['bbc', 'bbc news', 'news']</td>\n",
       "      <td>2022-11-14</td>\n",
       "      <td>151642</td>\n",
       "      <td>2879</td>\n",
       "      <td>1318</td>\n",
       "      <td>8</td>\n",
       "      <td>hd</td>\n",
       "      <td>The leaders of the US and China have met face-to-face in Bali, in a conversation where the importance of avoiding conflict was stressed.\\n\\nJoe Biden and Xi Jinping met for the first time in five years, and the first time since Mr Biden was elected president.\\n\\nPresident Biden said he was \"committed to keeping the line of communications between us open\" so that the two countries could \"work together on urgent global issues\" including climate change and insecurity.\\n\\nThe leaders are in Indonesia for the G20 meeting, with the ongoing situation in Taiwan expected to top the agenda.\\n\\nPlease subscribe HERE http://bit.ly/1rbfUog\\n\\n#China #G20 #BBCNews</td>\n",
       "      <td>3</td>\n",
       "      <td>14</td>\n",
       "      <td>Monday</td>\n",
       "      <td>2022</td>\n",
       "      <td>between 5min and 10min</td>\n",
       "    </tr>\n",
       "    <tr>\n",
       "      <th>1</th>\n",
       "      <td>ma1Jny_cOjU</td>\n",
       "      <td>BBC News</td>\n",
       "      <td>Suspect arrested after six killed in Istanbul blast – BBC News</td>\n",
       "      <td>['bbc', 'bbc news', 'news']</td>\n",
       "      <td>2022-11-14</td>\n",
       "      <td>72879</td>\n",
       "      <td>1085</td>\n",
       "      <td>499</td>\n",
       "      <td>7</td>\n",
       "      <td>hd</td>\n",
       "      <td>Turkish authorities say a suspect has been arrested after at least six people were killed and 81 wounded in an explosion in a busy area of central Istanbul.\\n\\nThe blast happened at about 16:20 local time (13:20 GMT) on Sunday on a shopping street in the Taksim Square area.\\n\\nVice-President Fuat Oktay earlier said the blast was thought to be a terrorist attack\\n\\nInterior Minister Suleyman Soylu said a person suspected of having left the bomb had been arrested by police, and accused the Kurdistan Workers' Party (PKK) of responsibility.\\n\\nNo one has so far claimed responsibility for the blast.\\n\\n#Turkey #BBCNews\\n\\nPlease subscribe HERE http://bit.ly/1rbfUog\\n\\n#BBCNews</td>\n",
       "      <td>3</td>\n",
       "      <td>10</td>\n",
       "      <td>Monday</td>\n",
       "      <td>2022</td>\n",
       "      <td>between 5min and 10min</td>\n",
       "    </tr>\n",
       "    <tr>\n",
       "      <th>2</th>\n",
       "      <td>VD_BegNj3rs</td>\n",
       "      <td>BBC News</td>\n",
       "      <td>Can AI-generated improvised comedy be funny? - BBC News</td>\n",
       "      <td>['bbc', 'bbc news', 'news']</td>\n",
       "      <td>2022-11-13</td>\n",
       "      <td>22076</td>\n",
       "      <td>366</td>\n",
       "      <td>253</td>\n",
       "      <td>5</td>\n",
       "      <td>hd</td>\n",
       "      <td>Artificial intelligence (AI) is being used in live comedy shows to make people laugh – so how does it work?\\n\\nImprobotics is an improvised science comedy show using a chatbot alongside a human cast.\\n\\nOne of the actors works to type in the words spoken by the cast and manually selects the best response from a list of suggested next lines.\\n\\n“Essentially you’re improvising with this really rogue element – somebody who can’t say yes to you,” said actor Sarah Castell.\\n\\nIn theory, if you give the chatbot a topic and a line of dialogue it should be able to give you something reasonable to say next.\\n\\nThis film is from Click - the BBC’s weekly technology show.\\n\\nPlease subscribe HERE http://bit.ly/1rbfUog\\n\\n#AI #Comedy #BBCNews</td>\n",
       "      <td>3</td>\n",
       "      <td>8</td>\n",
       "      <td>Sunday</td>\n",
       "      <td>2022</td>\n",
       "      <td>between 2min and 5min</td>\n",
       "    </tr>\n",
       "    <tr>\n",
       "      <th>3</th>\n",
       "      <td>WeGIK9qi-KU</td>\n",
       "      <td>BBC News</td>\n",
       "      <td>World War Two: 'I thought I was going on a daytrip when I was evacuated' - BBC News</td>\n",
       "      <td>['bbc', 'bbc news', 'news']</td>\n",
       "      <td>2022-11-13</td>\n",
       "      <td>28744</td>\n",
       "      <td>770</td>\n",
       "      <td>169</td>\n",
       "      <td>4</td>\n",
       "      <td>hd</td>\n",
       "      <td>“I thought I was going on a day trip.”\\n\\nSeptember 1, 1939 was Kitty Baxter’s ninth birthday.\\n\\nIt was also the day her life and millions of other people’s changed with the beginning of World War Two.\\n\\nKitty was among the hundreds of thousands of children taken out of UK cities and into the countryside, away from the risk of German bombs.\\n\\nPlease subscribe HERE http://bit.ly/1rbfUog\\n\\n#BBCNews</td>\n",
       "      <td>3</td>\n",
       "      <td>17</td>\n",
       "      <td>Sunday</td>\n",
       "      <td>2022</td>\n",
       "      <td>between 2min and 5min</td>\n",
       "    </tr>\n",
       "    <tr>\n",
       "      <th>4</th>\n",
       "      <td>qu4RdyQVGZs</td>\n",
       "      <td>BBC News</td>\n",
       "      <td>How could real and virtual people connect in the metaverse? - BBC News</td>\n",
       "      <td>['bbc', 'bbc news', 'news']</td>\n",
       "      <td>2022-11-13</td>\n",
       "      <td>22392</td>\n",
       "      <td>478</td>\n",
       "      <td>317</td>\n",
       "      <td>6</td>\n",
       "      <td>hd</td>\n",
       "      <td>Digital people have become part of the latest developments for the so-called metaverse, which is made up of online virtual realms.\\n\\nReal humans could be sharing the metaverse with digital people, according to Greg Cross, co-founder and CEO of Soul Machines, which specialises in AI.\\n\\n“One of the most interesting things we have learnt about deploying digital people in health and education, is people often prefer to interact with digital people because it removes the fear of human judgement,” he said.\\n\\nRoblox chief business officer, Craig Donato, said for younger users who have grown up with interactive online gaming, the metaverse was “already here”.\\n\\nThis film is from Click - the BBC’s weekly technology show.\\n\\nPlease subscribe HERE http://bit.ly/1rbfUog\\n\\n#Metaverse #Click #BBCNews</td>\n",
       "      <td>3</td>\n",
       "      <td>12</td>\n",
       "      <td>Sunday</td>\n",
       "      <td>2022</td>\n",
       "      <td>between 5min and 10min</td>\n",
       "    </tr>\n",
       "  </tbody>\n",
       "</table>\n",
       "</div>"
      ],
      "text/plain": [
       "      video_id channel_title  \\\n",
       "0  Y8l3zzlyM4M  BBC News       \n",
       "1  ma1Jny_cOjU  BBC News       \n",
       "2  VD_BegNj3rs  BBC News       \n",
       "3  WeGIK9qi-KU  BBC News       \n",
       "4  qu4RdyQVGZs  BBC News       \n",
       "\n",
       "                                                                            video_title  \\\n",
       "0  US President Biden shakes hands with Chinese President Xi Jinping in Bali – BBC News   \n",
       "1  Suspect arrested after six killed in Istanbul blast – BBC News                         \n",
       "2  Can AI-generated improvised comedy be funny? - BBC News                                \n",
       "3  World War Two: 'I thought I was going on a daytrip when I was evacuated' - BBC News    \n",
       "4  How could real and virtual people connect in the metaverse? - BBC News                 \n",
       "\n",
       "                          tags publishedAt  view_count  like_count  \\\n",
       "0  ['bbc', 'bbc news', 'news'] 2022-11-14   151642      2879         \n",
       "1  ['bbc', 'bbc news', 'news'] 2022-11-14   72879       1085         \n",
       "2  ['bbc', 'bbc news', 'news'] 2022-11-13   22076       366          \n",
       "3  ['bbc', 'bbc news', 'news'] 2022-11-13   28744       770          \n",
       "4  ['bbc', 'bbc news', 'news'] 2022-11-13   22392       478          \n",
       "\n",
       "   commentCount  duration definition  \\\n",
       "0  1318          8         hd          \n",
       "1  499           7         hd          \n",
       "2  253           5         hd          \n",
       "3  169           4         hd          \n",
       "4  317           6         hd          \n",
       "\n",
       "                                                                                                                                                                                                                                                                                                                                                                                                                                                                                                                                                                                                                                                                                                                                                                                                                          description  \\\n",
       "0  The leaders of the US and China have met face-to-face in Bali, in a conversation where the importance of avoiding conflict was stressed.\\n\\nJoe Biden and Xi Jinping met for the first time in five years, and the first time since Mr Biden was elected president.\\n\\nPresident Biden said he was \"committed to keeping the line of communications between us open\" so that the two countries could \"work together on urgent global issues\" including climate change and insecurity.\\n\\nThe leaders are in Indonesia for the G20 meeting, with the ongoing situation in Taiwan expected to top the agenda.\\n\\nPlease subscribe HERE http://bit.ly/1rbfUog\\n\\n#China #G20 #BBCNews                                                                                                                                                   \n",
       "1  Turkish authorities say a suspect has been arrested after at least six people were killed and 81 wounded in an explosion in a busy area of central Istanbul.\\n\\nThe blast happened at about 16:20 local time (13:20 GMT) on Sunday on a shopping street in the Taksim Square area.\\n\\nVice-President Fuat Oktay earlier said the blast was thought to be a terrorist attack\\n\\nInterior Minister Suleyman Soylu said a person suspected of having left the bomb had been arrested by police, and accused the Kurdistan Workers' Party (PKK) of responsibility.\\n\\nNo one has so far claimed responsibility for the blast.\\n\\n#Turkey #BBCNews\\n\\nPlease subscribe HERE http://bit.ly/1rbfUog\\n\\n#BBCNews                                                                                                                             \n",
       "2  Artificial intelligence (AI) is being used in live comedy shows to make people laugh – so how does it work?\\n\\nImprobotics is an improvised science comedy show using a chatbot alongside a human cast.\\n\\nOne of the actors works to type in the words spoken by the cast and manually selects the best response from a list of suggested next lines.\\n\\n“Essentially you’re improvising with this really rogue element – somebody who can’t say yes to you,” said actor Sarah Castell.\\n\\nIn theory, if you give the chatbot a topic and a line of dialogue it should be able to give you something reasonable to say next.\\n\\nThis film is from Click - the BBC’s weekly technology show.\\n\\nPlease subscribe HERE http://bit.ly/1rbfUog\\n\\n#AI #Comedy #BBCNews                                                                  \n",
       "3  “I thought I was going on a day trip.”\\n\\nSeptember 1, 1939 was Kitty Baxter’s ninth birthday.\\n\\nIt was also the day her life and millions of other people’s changed with the beginning of World War Two.\\n\\nKitty was among the hundreds of thousands of children taken out of UK cities and into the countryside, away from the risk of German bombs.\\n\\nPlease subscribe HERE http://bit.ly/1rbfUog\\n\\n#BBCNews                                                                                                                                                                                                                                                                                                                                                                                                                  \n",
       "4  Digital people have become part of the latest developments for the so-called metaverse, which is made up of online virtual realms.\\n\\nReal humans could be sharing the metaverse with digital people, according to Greg Cross, co-founder and CEO of Soul Machines, which specialises in AI.\\n\\n“One of the most interesting things we have learnt about deploying digital people in health and education, is people often prefer to interact with digital people because it removes the fear of human judgement,” he said.\\n\\nRoblox chief business officer, Craig Donato, said for younger users who have grown up with interactive online gaming, the metaverse was “already here”.\\n\\nThis film is from Click - the BBC’s weekly technology show.\\n\\nPlease subscribe HERE http://bit.ly/1rbfUog\\n\\n#Metaverse #Click #BBCNews   \n",
       "\n",
       "   tagsCount  titleLength publishedDay  publishedYear        durationCategory  \n",
       "0  3          14           Monday       2022           between 5min and 10min  \n",
       "1  3          10           Monday       2022           between 5min and 10min  \n",
       "2  3          8            Sunday       2022           between 2min and 5min   \n",
       "3  3          17           Sunday       2022           between 2min and 5min   \n",
       "4  3          12           Sunday       2022           between 5min and 10min  "
      ]
     },
     "execution_count": 99,
     "metadata": {},
     "output_type": "execute_result"
    }
   ],
   "source": [
    "# create a list of our conditions\n",
    "conditions = [\n",
    "    (df['duration'] <= 2),\n",
    "    (df['duration'] > 2) & (df['duration'] <= 5),\n",
    "    (df['duration'] > 5) & (df['duration'] <= 10),\n",
    "    (df['duration'] > 10)\n",
    "    ]\n",
    "\n",
    "# create a list of the values we want to assign for each condition\n",
    "values = ['below 2min', 'between 2min and 5min', 'between 5min and 10min', 'more than 10min']\n",
    "\n",
    "# create a new column and use np.select to assign values to it using our lists as arguments\n",
    "df['durationCategory'] = np.select(conditions, values)\n",
    "df['durationCategory'] = pd.Categorical(df['durationCategory'], categories=['below 2min', 'between 2min and 5min', \n",
    "                                                                            'between 5min and 10min', 'more than 10min'], ordered=True)\n",
    "# display updated DataFrame\n",
    "df.head()"
   ]
  },
  {
   "cell_type": "code",
   "execution_count": 100,
   "metadata": {},
   "outputs": [
    {
     "data": {
      "text/html": [
       "<div>\n",
       "<style scoped>\n",
       "    .dataframe tbody tr th:only-of-type {\n",
       "        vertical-align: middle;\n",
       "    }\n",
       "\n",
       "    .dataframe tbody tr th {\n",
       "        vertical-align: top;\n",
       "    }\n",
       "\n",
       "    .dataframe thead th {\n",
       "        text-align: right;\n",
       "    }\n",
       "</style>\n",
       "<table border=\"1\" class=\"dataframe\">\n",
       "  <thead>\n",
       "    <tr style=\"text-align: right;\">\n",
       "      <th></th>\n",
       "      <th>video_id</th>\n",
       "      <th>channel_title</th>\n",
       "      <th>video_title</th>\n",
       "      <th>tags</th>\n",
       "      <th>publishedAt</th>\n",
       "      <th>view_count</th>\n",
       "      <th>like_count</th>\n",
       "      <th>commentCount</th>\n",
       "      <th>duration</th>\n",
       "      <th>definition</th>\n",
       "      <th>description</th>\n",
       "      <th>tagsCount</th>\n",
       "      <th>titleLength</th>\n",
       "      <th>publishedDay</th>\n",
       "      <th>publishedYear</th>\n",
       "      <th>durationCategory</th>\n",
       "      <th>tagCategory</th>\n",
       "    </tr>\n",
       "  </thead>\n",
       "  <tbody>\n",
       "    <tr>\n",
       "      <th>0</th>\n",
       "      <td>Y8l3zzlyM4M</td>\n",
       "      <td>BBC News</td>\n",
       "      <td>US President Biden shakes hands with Chinese President Xi Jinping in Bali – BBC News</td>\n",
       "      <td>['bbc', 'bbc news', 'news']</td>\n",
       "      <td>2022-11-14</td>\n",
       "      <td>151642</td>\n",
       "      <td>2879</td>\n",
       "      <td>1318</td>\n",
       "      <td>8</td>\n",
       "      <td>hd</td>\n",
       "      <td>The leaders of the US and China have met face-to-face in Bali, in a conversation where the importance of avoiding conflict was stressed.\\n\\nJoe Biden and Xi Jinping met for the first time in five years, and the first time since Mr Biden was elected president.\\n\\nPresident Biden said he was \"committed to keeping the line of communications between us open\" so that the two countries could \"work together on urgent global issues\" including climate change and insecurity.\\n\\nThe leaders are in Indonesia for the G20 meeting, with the ongoing situation in Taiwan expected to top the agenda.\\n\\nPlease subscribe HERE http://bit.ly/1rbfUog\\n\\n#China #G20 #BBCNews</td>\n",
       "      <td>3</td>\n",
       "      <td>14</td>\n",
       "      <td>Monday</td>\n",
       "      <td>2022</td>\n",
       "      <td>between 5min and 10min</td>\n",
       "      <td>between 0&amp;10</td>\n",
       "    </tr>\n",
       "    <tr>\n",
       "      <th>1</th>\n",
       "      <td>ma1Jny_cOjU</td>\n",
       "      <td>BBC News</td>\n",
       "      <td>Suspect arrested after six killed in Istanbul blast – BBC News</td>\n",
       "      <td>['bbc', 'bbc news', 'news']</td>\n",
       "      <td>2022-11-14</td>\n",
       "      <td>72879</td>\n",
       "      <td>1085</td>\n",
       "      <td>499</td>\n",
       "      <td>7</td>\n",
       "      <td>hd</td>\n",
       "      <td>Turkish authorities say a suspect has been arrested after at least six people were killed and 81 wounded in an explosion in a busy area of central Istanbul.\\n\\nThe blast happened at about 16:20 local time (13:20 GMT) on Sunday on a shopping street in the Taksim Square area.\\n\\nVice-President Fuat Oktay earlier said the blast was thought to be a terrorist attack\\n\\nInterior Minister Suleyman Soylu said a person suspected of having left the bomb had been arrested by police, and accused the Kurdistan Workers' Party (PKK) of responsibility.\\n\\nNo one has so far claimed responsibility for the blast.\\n\\n#Turkey #BBCNews\\n\\nPlease subscribe HERE http://bit.ly/1rbfUog\\n\\n#BBCNews</td>\n",
       "      <td>3</td>\n",
       "      <td>10</td>\n",
       "      <td>Monday</td>\n",
       "      <td>2022</td>\n",
       "      <td>between 5min and 10min</td>\n",
       "      <td>between 0&amp;10</td>\n",
       "    </tr>\n",
       "    <tr>\n",
       "      <th>2</th>\n",
       "      <td>VD_BegNj3rs</td>\n",
       "      <td>BBC News</td>\n",
       "      <td>Can AI-generated improvised comedy be funny? - BBC News</td>\n",
       "      <td>['bbc', 'bbc news', 'news']</td>\n",
       "      <td>2022-11-13</td>\n",
       "      <td>22076</td>\n",
       "      <td>366</td>\n",
       "      <td>253</td>\n",
       "      <td>5</td>\n",
       "      <td>hd</td>\n",
       "      <td>Artificial intelligence (AI) is being used in live comedy shows to make people laugh – so how does it work?\\n\\nImprobotics is an improvised science comedy show using a chatbot alongside a human cast.\\n\\nOne of the actors works to type in the words spoken by the cast and manually selects the best response from a list of suggested next lines.\\n\\n“Essentially you’re improvising with this really rogue element – somebody who can’t say yes to you,” said actor Sarah Castell.\\n\\nIn theory, if you give the chatbot a topic and a line of dialogue it should be able to give you something reasonable to say next.\\n\\nThis film is from Click - the BBC’s weekly technology show.\\n\\nPlease subscribe HERE http://bit.ly/1rbfUog\\n\\n#AI #Comedy #BBCNews</td>\n",
       "      <td>3</td>\n",
       "      <td>8</td>\n",
       "      <td>Sunday</td>\n",
       "      <td>2022</td>\n",
       "      <td>between 2min and 5min</td>\n",
       "      <td>between 0&amp;10</td>\n",
       "    </tr>\n",
       "    <tr>\n",
       "      <th>3</th>\n",
       "      <td>WeGIK9qi-KU</td>\n",
       "      <td>BBC News</td>\n",
       "      <td>World War Two: 'I thought I was going on a daytrip when I was evacuated' - BBC News</td>\n",
       "      <td>['bbc', 'bbc news', 'news']</td>\n",
       "      <td>2022-11-13</td>\n",
       "      <td>28744</td>\n",
       "      <td>770</td>\n",
       "      <td>169</td>\n",
       "      <td>4</td>\n",
       "      <td>hd</td>\n",
       "      <td>“I thought I was going on a day trip.”\\n\\nSeptember 1, 1939 was Kitty Baxter’s ninth birthday.\\n\\nIt was also the day her life and millions of other people’s changed with the beginning of World War Two.\\n\\nKitty was among the hundreds of thousands of children taken out of UK cities and into the countryside, away from the risk of German bombs.\\n\\nPlease subscribe HERE http://bit.ly/1rbfUog\\n\\n#BBCNews</td>\n",
       "      <td>3</td>\n",
       "      <td>17</td>\n",
       "      <td>Sunday</td>\n",
       "      <td>2022</td>\n",
       "      <td>between 2min and 5min</td>\n",
       "      <td>between 0&amp;10</td>\n",
       "    </tr>\n",
       "    <tr>\n",
       "      <th>4</th>\n",
       "      <td>qu4RdyQVGZs</td>\n",
       "      <td>BBC News</td>\n",
       "      <td>How could real and virtual people connect in the metaverse? - BBC News</td>\n",
       "      <td>['bbc', 'bbc news', 'news']</td>\n",
       "      <td>2022-11-13</td>\n",
       "      <td>22392</td>\n",
       "      <td>478</td>\n",
       "      <td>317</td>\n",
       "      <td>6</td>\n",
       "      <td>hd</td>\n",
       "      <td>Digital people have become part of the latest developments for the so-called metaverse, which is made up of online virtual realms.\\n\\nReal humans could be sharing the metaverse with digital people, according to Greg Cross, co-founder and CEO of Soul Machines, which specialises in AI.\\n\\n“One of the most interesting things we have learnt about deploying digital people in health and education, is people often prefer to interact with digital people because it removes the fear of human judgement,” he said.\\n\\nRoblox chief business officer, Craig Donato, said for younger users who have grown up with interactive online gaming, the metaverse was “already here”.\\n\\nThis film is from Click - the BBC’s weekly technology show.\\n\\nPlease subscribe HERE http://bit.ly/1rbfUog\\n\\n#Metaverse #Click #BBCNews</td>\n",
       "      <td>3</td>\n",
       "      <td>12</td>\n",
       "      <td>Sunday</td>\n",
       "      <td>2022</td>\n",
       "      <td>between 5min and 10min</td>\n",
       "      <td>between 0&amp;10</td>\n",
       "    </tr>\n",
       "  </tbody>\n",
       "</table>\n",
       "</div>"
      ],
      "text/plain": [
       "      video_id channel_title  \\\n",
       "0  Y8l3zzlyM4M  BBC News       \n",
       "1  ma1Jny_cOjU  BBC News       \n",
       "2  VD_BegNj3rs  BBC News       \n",
       "3  WeGIK9qi-KU  BBC News       \n",
       "4  qu4RdyQVGZs  BBC News       \n",
       "\n",
       "                                                                            video_title  \\\n",
       "0  US President Biden shakes hands with Chinese President Xi Jinping in Bali – BBC News   \n",
       "1  Suspect arrested after six killed in Istanbul blast – BBC News                         \n",
       "2  Can AI-generated improvised comedy be funny? - BBC News                                \n",
       "3  World War Two: 'I thought I was going on a daytrip when I was evacuated' - BBC News    \n",
       "4  How could real and virtual people connect in the metaverse? - BBC News                 \n",
       "\n",
       "                          tags publishedAt  view_count  like_count  \\\n",
       "0  ['bbc', 'bbc news', 'news'] 2022-11-14   151642      2879         \n",
       "1  ['bbc', 'bbc news', 'news'] 2022-11-14   72879       1085         \n",
       "2  ['bbc', 'bbc news', 'news'] 2022-11-13   22076       366          \n",
       "3  ['bbc', 'bbc news', 'news'] 2022-11-13   28744       770          \n",
       "4  ['bbc', 'bbc news', 'news'] 2022-11-13   22392       478          \n",
       "\n",
       "   commentCount  duration definition  \\\n",
       "0  1318          8         hd          \n",
       "1  499           7         hd          \n",
       "2  253           5         hd          \n",
       "3  169           4         hd          \n",
       "4  317           6         hd          \n",
       "\n",
       "                                                                                                                                                                                                                                                                                                                                                                                                                                                                                                                                                                                                                                                                                                                                                                                                                          description  \\\n",
       "0  The leaders of the US and China have met face-to-face in Bali, in a conversation where the importance of avoiding conflict was stressed.\\n\\nJoe Biden and Xi Jinping met for the first time in five years, and the first time since Mr Biden was elected president.\\n\\nPresident Biden said he was \"committed to keeping the line of communications between us open\" so that the two countries could \"work together on urgent global issues\" including climate change and insecurity.\\n\\nThe leaders are in Indonesia for the G20 meeting, with the ongoing situation in Taiwan expected to top the agenda.\\n\\nPlease subscribe HERE http://bit.ly/1rbfUog\\n\\n#China #G20 #BBCNews                                                                                                                                                   \n",
       "1  Turkish authorities say a suspect has been arrested after at least six people were killed and 81 wounded in an explosion in a busy area of central Istanbul.\\n\\nThe blast happened at about 16:20 local time (13:20 GMT) on Sunday on a shopping street in the Taksim Square area.\\n\\nVice-President Fuat Oktay earlier said the blast was thought to be a terrorist attack\\n\\nInterior Minister Suleyman Soylu said a person suspected of having left the bomb had been arrested by police, and accused the Kurdistan Workers' Party (PKK) of responsibility.\\n\\nNo one has so far claimed responsibility for the blast.\\n\\n#Turkey #BBCNews\\n\\nPlease subscribe HERE http://bit.ly/1rbfUog\\n\\n#BBCNews                                                                                                                             \n",
       "2  Artificial intelligence (AI) is being used in live comedy shows to make people laugh – so how does it work?\\n\\nImprobotics is an improvised science comedy show using a chatbot alongside a human cast.\\n\\nOne of the actors works to type in the words spoken by the cast and manually selects the best response from a list of suggested next lines.\\n\\n“Essentially you’re improvising with this really rogue element – somebody who can’t say yes to you,” said actor Sarah Castell.\\n\\nIn theory, if you give the chatbot a topic and a line of dialogue it should be able to give you something reasonable to say next.\\n\\nThis film is from Click - the BBC’s weekly technology show.\\n\\nPlease subscribe HERE http://bit.ly/1rbfUog\\n\\n#AI #Comedy #BBCNews                                                                  \n",
       "3  “I thought I was going on a day trip.”\\n\\nSeptember 1, 1939 was Kitty Baxter’s ninth birthday.\\n\\nIt was also the day her life and millions of other people’s changed with the beginning of World War Two.\\n\\nKitty was among the hundreds of thousands of children taken out of UK cities and into the countryside, away from the risk of German bombs.\\n\\nPlease subscribe HERE http://bit.ly/1rbfUog\\n\\n#BBCNews                                                                                                                                                                                                                                                                                                                                                                                                                  \n",
       "4  Digital people have become part of the latest developments for the so-called metaverse, which is made up of online virtual realms.\\n\\nReal humans could be sharing the metaverse with digital people, according to Greg Cross, co-founder and CEO of Soul Machines, which specialises in AI.\\n\\n“One of the most interesting things we have learnt about deploying digital people in health and education, is people often prefer to interact with digital people because it removes the fear of human judgement,” he said.\\n\\nRoblox chief business officer, Craig Donato, said for younger users who have grown up with interactive online gaming, the metaverse was “already here”.\\n\\nThis film is from Click - the BBC’s weekly technology show.\\n\\nPlease subscribe HERE http://bit.ly/1rbfUog\\n\\n#Metaverse #Click #BBCNews   \n",
       "\n",
       "   tagsCount  titleLength publishedDay  publishedYear        durationCategory  \\\n",
       "0  3          14           Monday       2022           between 5min and 10min   \n",
       "1  3          10           Monday       2022           between 5min and 10min   \n",
       "2  3          8            Sunday       2022           between 2min and 5min    \n",
       "3  3          17           Sunday       2022           between 2min and 5min    \n",
       "4  3          12           Sunday       2022           between 5min and 10min   \n",
       "\n",
       "    tagCategory  \n",
       "0  between 0&10  \n",
       "1  between 0&10  \n",
       "2  between 0&10  \n",
       "3  between 0&10  \n",
       "4  between 0&10  "
      ]
     },
     "execution_count": 100,
     "metadata": {},
     "output_type": "execute_result"
    }
   ],
   "source": [
    "# create a list of our conditions\n",
    "conditions = [\n",
    "    (df['tagsCount'] >= 0) & (df['tagsCount'] <= 10),\n",
    "    (df['tagsCount'] > 10) & (df['tagsCount'] <= 20),\n",
    "    (df['tagsCount'] > 20) & (df['tagsCount'] <= 30),\n",
    "    (df['tagsCount'] > 30) &  (df['tagsCount'] <= 40),\n",
    "    (df['tagsCount'] > 40) &  (df['tagsCount'] <= 50),\n",
    "    (df['tagsCount'] > 50) &  (df['tagsCount'] <= 60),\n",
    "    (df['tagsCount'] > 60) &  (df['tagsCount'] <= 70),\n",
    "    (df['tagsCount'] > 70)  ]\n",
    "\n",
    "# create a list of the values we want to assign for each condition\n",
    "values = ['between 0&10','between 10&20', 'between 20&30', 'between 30&40', 'between 40&50', 'between 50&60','between 60&70','more than 70']\n",
    "\n",
    "# create a new column and use np.select to assign values to it using our lists as arguments\n",
    "df['tagCategory'] = np.select(conditions, values)\n",
    "df['tagCategory'] = pd.Categorical(df['tagCategory'], categories=['between 0&10','between 10&20', 'between 20&30', 'between 30&40', \n",
    "                                                                    'between 40&50', 'between 50&60','between 60&70','more than 70'],ordered=True)\n",
    "# display updated DataFrame\n",
    "df.head()"
   ]
  },
  {
   "cell_type": "markdown",
   "metadata": {},
   "source": [
    "# STATISTICS"
   ]
  },
  {
   "cell_type": "markdown",
   "metadata": {},
   "source": [
    "## Get video statistics"
   ]
  },
  {
   "cell_type": "markdown",
   "metadata": {},
   "source": [
    " 16576 video processed as seen in below."
   ]
  },
  {
   "cell_type": "code",
   "execution_count": 101,
   "metadata": {},
   "outputs": [
    {
     "data": {
      "text/html": [
       "<div>\n",
       "<style scoped>\n",
       "    .dataframe tbody tr th:only-of-type {\n",
       "        vertical-align: middle;\n",
       "    }\n",
       "\n",
       "    .dataframe tbody tr th {\n",
       "        vertical-align: top;\n",
       "    }\n",
       "\n",
       "    .dataframe thead th {\n",
       "        text-align: right;\n",
       "    }\n",
       "</style>\n",
       "<table border=\"1\" class=\"dataframe\">\n",
       "  <thead>\n",
       "    <tr style=\"text-align: right;\">\n",
       "      <th></th>\n",
       "      <th>Total</th>\n",
       "      <th>Average</th>\n",
       "      <th>Max</th>\n",
       "      <th>Min</th>\n",
       "    </tr>\n",
       "  </thead>\n",
       "  <tbody>\n",
       "    <tr>\n",
       "      <th>View</th>\n",
       "      <td>4120690209</td>\n",
       "      <td>241725.2</td>\n",
       "      <td>65759359</td>\n",
       "      <td>0</td>\n",
       "    </tr>\n",
       "    <tr>\n",
       "      <th>Like</th>\n",
       "      <td>43632086</td>\n",
       "      <td>2559.5</td>\n",
       "      <td>1082103</td>\n",
       "      <td>0</td>\n",
       "    </tr>\n",
       "    <tr>\n",
       "      <th>Comment</th>\n",
       "      <td>14382369</td>\n",
       "      <td>843.7</td>\n",
       "      <td>147558</td>\n",
       "      <td>0</td>\n",
       "    </tr>\n",
       "    <tr>\n",
       "      <th>Duration(min)</th>\n",
       "      <td>79462</td>\n",
       "      <td>4.7</td>\n",
       "      <td>536</td>\n",
       "      <td>1</td>\n",
       "    </tr>\n",
       "  </tbody>\n",
       "</table>\n",
       "</div>"
      ],
      "text/plain": [
       "                    Total   Average       Max  Min\n",
       "View           4120690209  241725.2  65759359  0  \n",
       "Like           43632086    2559.5    1082103   0  \n",
       "Comment        14382369    843.7     147558    0  \n",
       "Duration(min)  79462       4.7       536       1  "
      ]
     },
     "execution_count": 101,
     "metadata": {},
     "output_type": "execute_result"
    }
   ],
   "source": [
    "total_view = df['view_count'].sum()\n",
    "avg_view = round(df['view_count'].mean(),1)\n",
    "max_view = df['view_count'].max()\n",
    "min_view= df['view_count'].min()\n",
    "total_like = df['like_count'].sum()\n",
    "avg_like = round(df['like_count'].mean(),1)\n",
    "max_like = df['like_count'].max()\n",
    "min_like= df['like_count'].min()\n",
    "total_comment = df['commentCount'].sum()\n",
    "avg_comment= round(df['commentCount'].mean(),1)\n",
    "max_comment= df['commentCount'].max()\n",
    "min_comment = df['commentCount'].min()\n",
    "total_duration = df['duration'].sum()\n",
    "avg_duration = round(df['duration'].mean(),1)\n",
    "max_duration= df['duration'].max()\n",
    "min_duration = df['duration'].min()\n",
    "StatsBBC = pd.DataFrame({'Total': [total_view,total_like,total_comment,total_duration], \n",
    "                        'Average': [avg_view,avg_like,avg_comment,avg_duration],\n",
    "                         'Max'   :        [max_view, max_like,max_comment, max_duration],\n",
    "                           'Min'  :       [min_view, min_like, min_comment, min_duration]}, \n",
    "                                    index=[['View','Like', 'Comment', 'Duration(min)']])\n",
    "StatsBBC\n"
   ]
  },
  {
   "cell_type": "markdown",
   "metadata": {},
   "source": [
    "Further exploration as evidence; \n",
    "- most of the videos have duration between 2min and 5min.\n",
    "\n",
    "\n",
    "- most of the videos have tags between 0 to 10."
   ]
  },
  {
   "cell_type": "code",
   "execution_count": 102,
   "metadata": {},
   "outputs": [
    {
     "data": {
      "text/plain": [
       "0    between 2min and 5min\n",
       "Name: durationCategory, dtype: category\n",
       "Categories (4, object): ['below 2min' < 'between 2min and 5min' < 'between 5min and 10min' < 'more than 10min']"
      ]
     },
     "execution_count": 102,
     "metadata": {},
     "output_type": "execute_result"
    }
   ],
   "source": [
    "df[\"durationCategory\"].mode()"
   ]
  },
  {
   "cell_type": "markdown",
   "metadata": {},
   "source": [
    "Most of the videos have tags between 0 to 10."
   ]
  },
  {
   "cell_type": "code",
   "execution_count": 103,
   "metadata": {},
   "outputs": [
    {
     "data": {
      "text/plain": [
       "0    between 0&10\n",
       "Name: tagCategory, dtype: category\n",
       "Categories (8, object): ['between 0&10' < 'between 10&20' < 'between 20&30' < 'between 30&40' < 'between 40&50' < 'between 50&60' < 'between 60&70' < 'more than 70']"
      ]
     },
     "execution_count": 103,
     "metadata": {},
     "output_type": "execute_result"
    }
   ],
   "source": [
    "df[\"tagCategory\"].mode()"
   ]
  },
  {
   "cell_type": "markdown",
   "metadata": {},
   "source": [
    "Correlation between like and view count is the highest, followed by comment count-view count, and comment count-like count. To see these relationships closely, let's set a hypothesis and plot the data."
   ]
  },
  {
   "cell_type": "code",
   "execution_count": 104,
   "metadata": {},
   "outputs": [
    {
     "data": {
      "text/plain": [
       "<AxesSubplot:>"
      ]
     },
     "execution_count": 104,
     "metadata": {},
     "output_type": "execute_result"
    },
    {
     "data": {
      "image/png": "[encoded data removed]",
      "text/plain": [
       "<Figure size 842.4x595.44 with 2 Axes>"
      ]
     },
     "metadata": {},
     "output_type": "display_data"
    }
   ],
   "source": [
    "sns.set(rc={'figure.figsize':(11.7,8.27)})\n",
    "sns.heatmap(df.corr(), annot = True, fmt='.2g',cmap= 'coolwarm')"
   ]
  },
  {
   "cell_type": "markdown",
   "metadata": {},
   "source": [
    "The videos that have the highest view ever on BBC Youtube Channel:"
   ]
  },
  {
   "cell_type": "code",
   "execution_count": 105,
   "metadata": {},
   "outputs": [
    {
     "data": {
      "image/png": "[encoded data removed]",
      "text/plain": [
       "<Figure size 842.4x595.44 with 1 Axes>"
      ]
     },
     "metadata": {},
     "output_type": "display_data"
    }
   ],
   "source": [
    "ax = sns.barplot(x = 'video_title', y = 'view_count', data = df.sort_values('view_count', ascending=False)[0:9])\n",
    "plot = ax.set_xticklabels(ax.get_xticklabels(), rotation=90)\n",
    "ax.yaxis.set_major_formatter(ticker.FuncFormatter(lambda x, pos:'{:,.0f}'.format(x/1000) + 'K'))"
   ]
  },
  {
   "cell_type": "markdown",
   "metadata": {},
   "source": [
    "## Questions : \n",
    "\n",
    "### 1:  Does the number of views and comments  have an effect on like number?"
   ]
  },
  {
   "cell_type": "markdown",
   "metadata": {},
   "source": [
    "It is obvious in correlation table that views and likes has strong correlation. The graphs below explain that relationship clearly; the more view and comment a video get, the more likely this video gets like. "
   ]
  },
  {
   "cell_type": "code",
   "execution_count": 106,
   "metadata": {},
   "outputs": [
    {
     "data": {
      "text/plain": [
       "<AxesSubplot:xlabel='commentCount', ylabel='view_count'>"
      ]
     },
     "execution_count": 106,
     "metadata": {},
     "output_type": "execute_result"
    },
    {
     "data": {
      "image/png": "[encoded data removed]",
      "text/plain": [
       "<Figure size 842.4x595.44 with 2 Axes>"
      ]
     },
     "metadata": {},
     "output_type": "display_data"
    }
   ],
   "source": [
    "fig, ax =plt.subplots(1,2)\n",
    "sns.regplot(data=df ,x=\"like_count\", y=\"view_count\", ax=ax[0])\n",
    "sns.regplot(data=df ,x=\"commentCount\", y=\"view_count\", ax=ax[1])"
   ]
  },
  {
   "cell_type": "markdown",
   "metadata": {},
   "source": [
    "### 2: Does video duration matter for video to get more likes and views?"
   ]
  },
  {
   "cell_type": "markdown",
   "metadata": {},
   "source": [
    "Shorter videos have more views and likes than longer videos. Overall, there is no positive correlation between duration and interactions with videos."
   ]
  },
  {
   "cell_type": "code",
   "execution_count": 107,
   "metadata": {},
   "outputs": [
    {
     "data": {
      "text/plain": [
       "<AxesSubplot:xlabel='duration', ylabel='like_count'>"
      ]
     },
     "execution_count": 107,
     "metadata": {},
     "output_type": "execute_result"
    },
    {
     "data": {
      "image/png": "[encoded data removed]",
      "text/plain": [
       "<Figure size 842.4x595.44 with 2 Axes>"
      ]
     },
     "metadata": {},
     "output_type": "display_data"
    }
   ],
   "source": [
    "fig, ax =plt.subplots(1,2)\n",
    "sns.scatterplot(data = df, x = \"duration\", y = \"view_count\", ax=ax[0])\n",
    "sns.scatterplot(data = df, x = \"duration\", y = \"like_count\", ax=ax[1])"
   ]
  },
  {
   "cell_type": "markdown",
   "metadata": {},
   "source": [
    "- To get more details, let's create new table with durationCategory and graphs that show relationships between view, comment and like numbers."
   ]
  },
  {
   "cell_type": "code",
   "execution_count": 108,
   "metadata": {},
   "outputs": [
    {
     "data": {
      "text/html": [
       "<div>\n",
       "<style scoped>\n",
       "    .dataframe tbody tr th:only-of-type {\n",
       "        vertical-align: middle;\n",
       "    }\n",
       "\n",
       "    .dataframe tbody tr th {\n",
       "        vertical-align: top;\n",
       "    }\n",
       "\n",
       "    .dataframe thead th {\n",
       "        text-align: right;\n",
       "    }\n",
       "</style>\n",
       "<table border=\"1\" class=\"dataframe\">\n",
       "  <thead>\n",
       "    <tr style=\"text-align: right;\">\n",
       "      <th></th>\n",
       "      <th>durationCategory</th>\n",
       "      <th>view_count</th>\n",
       "      <th>like_count</th>\n",
       "      <th>comment_count</th>\n",
       "    </tr>\n",
       "  </thead>\n",
       "  <tbody>\n",
       "    <tr>\n",
       "      <th>0</th>\n",
       "      <td>below 2min</td>\n",
       "      <td>979411885</td>\n",
       "      <td>10460084</td>\n",
       "      <td>1882399</td>\n",
       "    </tr>\n",
       "    <tr>\n",
       "      <th>1</th>\n",
       "      <td>between 2min and 5min</td>\n",
       "      <td>1600485381</td>\n",
       "      <td>17497791</td>\n",
       "      <td>6127003</td>\n",
       "    </tr>\n",
       "    <tr>\n",
       "      <th>2</th>\n",
       "      <td>between 5min and 10min</td>\n",
       "      <td>997411737</td>\n",
       "      <td>10632951</td>\n",
       "      <td>4208592</td>\n",
       "    </tr>\n",
       "    <tr>\n",
       "      <th>3</th>\n",
       "      <td>more than 10min</td>\n",
       "      <td>543381206</td>\n",
       "      <td>5041260</td>\n",
       "      <td>2164375</td>\n",
       "    </tr>\n",
       "  </tbody>\n",
       "</table>\n",
       "</div>"
      ],
      "text/plain": [
       "         durationCategory  view_count  like_count  comment_count\n",
       "0  below 2min              979411885   10460084    1882399      \n",
       "1  between 2min and 5min   1600485381  17497791    6127003      \n",
       "2  between 5min and 10min  997411737   10632951    4208592      \n",
       "3  more than 10min         543381206   5041260     2164375      "
      ]
     },
     "execution_count": 108,
     "metadata": {},
     "output_type": "execute_result"
    }
   ],
   "source": [
    "df_duration=df.copy()\n",
    "df_duration=df_duration.groupby([\"durationCategory\"]).agg({\"view_count\":\"sum\",\"like_count\":\"sum\",\"commentCount\":\"sum\"}).reset_index()\n",
    "df_duration.columns=[\"durationCategory\",\"view_count\",\"like_count\",\"comment_count\"]\n",
    "df_duration=df_duration.sort_values(by=[\"durationCategory\"])\n",
    "df_duration.reset_index(inplace=True,drop=True)\n",
    "df_duration"
   ]
  },
  {
   "cell_type": "code",
   "execution_count": 109,
   "metadata": {},
   "outputs": [
    {
     "data": {
      "text/html": [
       "\n",
       "    <div class=\"bk-root\">\n",
       "        <a href=\"https://bokeh.org\" target=\"_blank\" class=\"bk-logo bk-logo-small bk-logo-notebook\"></a>\n",
       "        <span id=\"1295\">Loading BokehJS ...</span>\n",
       "    </div>"
      ]
     },
     "metadata": {},
     "output_type": "display_data"
    },
    {
     "data": {
      "application/javascript": "\n(function(root) {\n  function now() {\n    return new Date();\n  }\n\n  const force = true;\n\n  if (typeof root._bokeh_onload_callbacks === \"undefined\" || force === true) {\n    root._bokeh_onload_callbacks = [];\n    root._bokeh_is_loading = undefined;\n  }\n\n  const JS_MIME_TYPE = 'application/javascript';\n  const HTML_MIME_TYPE = 'text/html';\n  const EXEC_MIME_TYPE = 'application/vnd.bokehjs_exec.v0+json';\n  const CLASS_NAME = 'output_bokeh rendered_html';\n\n  /**\n   * Render data to the DOM node\n   */\n  function render(props, node) {\n    const script = document.createElement(\"script\");\n    node.appendChild(script);\n  }\n\n  /**\n   * Handle when an output is cleared or removed\n   */\n  function handleClearOutput(event, handle) {\n    const cell = handle.cell;\n\n    const id = cell.output_area._bokeh_element_id;\n    const server_id = cell.output_area._bokeh_server_id;\n    // Clean up Bokeh references\n    if (id != null && id in Bokeh.index) {\n      Bokeh.index[id].model.document.clear();\n      delete Bokeh.index[id];\n    }\n\n    if (server_id !== undefined) {\n      // Clean up Bokeh references\n      const cmd_clean = \"from bokeh.io.state import curstate; print(curstate().uuid_to_server['\" + server_id + \"'].get_sessions()[0].document.roots[0]._id)\";\n      cell.notebook.kernel.execute(cmd_clean, {\n        iopub: {\n          output: function(msg) {\n            const id = msg.content.text.trim();\n            if (id in Bokeh.index) {\n              Bokeh.index[id].model.document.clear();\n              delete Bokeh.index[id];\n            }\n          }\n        }\n      });\n      // Destroy server and session\n      const cmd_destroy = \"import bokeh.io.notebook as ion; ion.destroy_server('\" + server_id + \"')\";\n      cell.notebook.kernel.execute(cmd_destroy);\n    }\n  }\n\n  /**\n   * Handle when a new output is added\n   */\n  function handleAddOutput(event, handle) {\n    const output_area = handle.output_area;\n    const output = handle.output;\n\n    // limit handleAddOutput to display_data with EXEC_MIME_TYPE content only\n    if ((output.output_type != \"display_data\") || (!Object.prototype.hasOwnProperty.call(output.data, EXEC_MIME_TYPE))) {\n      return\n    }\n\n    const toinsert = output_area.element.find(\".\" + CLASS_NAME.split(' ')[0]);\n\n    if (output.metadata[EXEC_MIME_TYPE][\"id\"] !== undefined) {\n      toinsert[toinsert.length - 1].firstChild.textContent = output.data[JS_MIME_TYPE];\n      // store reference to embed id on output_area\n      output_area._bokeh_element_id = output.metadata[EXEC_MIME_TYPE][\"id\"];\n    }\n    if (output.metadata[EXEC_MIME_TYPE][\"server_id\"] !== undefined) {\n      const bk_div = document.createElement(\"div\");\n      bk_div.innerHTML = output.data[HTML_MIME_TYPE];\n      const script_attrs = bk_div.children[0].attributes;\n      for (let i = 0; i < script_attrs.length; i++) {\n        toinsert[toinsert.length - 1].firstChild.setAttribute(script_attrs[i].name, script_attrs[i].value);\n        toinsert[toinsert.length - 1].firstChild.textContent = bk_div.children[0].textContent\n      }\n      // store reference to server id on output_area\n      output_area._bokeh_server_id = output.metadata[EXEC_MIME_TYPE][\"server_id\"];\n    }\n  }\n\n  function register_renderer(events, OutputArea) {\n\n    function append_mime(data, metadata, element) {\n      // create a DOM node to render to\n      const toinsert = this.create_output_subarea(\n        metadata,\n        CLASS_NAME,\n        EXEC_MIME_TYPE\n      );\n      this.keyboard_manager.register_events(toinsert);\n      // Render to node\n      const props = {data: data, metadata: metadata[EXEC_MIME_TYPE]};\n      render(props, toinsert[toinsert.length - 1]);\n      element.append(toinsert);\n      return toinsert\n    }\n\n    /* Handle when an output is cleared or removed */\n    events.on('clear_output.CodeCell', handleClearOutput);\n    events.on('delete.Cell', handleClearOutput);\n\n    /* Handle when a new output is added */\n    events.on('output_added.OutputArea', handleAddOutput);\n\n    /**\n     * Register the mime type and append_mime function with output_area\n     */\n    OutputArea.prototype.register_mime_type(EXEC_MIME_TYPE, append_mime, {\n      /* Is output safe? */\n      safe: true,\n      /* Index of renderer in `output_area.display_order` */\n      index: 0\n    });\n  }\n\n  // register the mime type if in Jupyter Notebook environment and previously unregistered\n  if (root.Jupyter !== undefined) {\n    const events = require('base/js/events');\n    const OutputArea = require('notebook/js/outputarea').OutputArea;\n\n    if (OutputArea.prototype.mime_types().indexOf(EXEC_MIME_TYPE) == -1) {\n      register_renderer(events, OutputArea);\n    }\n  }\n\n  \n  if (typeof (root._bokeh_timeout) === \"undefined\" || force === true) {\n    root._bokeh_timeout = Date.now() + 5000;\n    root._bokeh_failed_load = false;\n  }\n\n  const NB_LOAD_WARNING = {'data': {'text/html':\n     \"<div style='background-color: #fdd'>\\n\"+\n     \"<p>\\n\"+\n     \"BokehJS does not appear to have successfully loaded. If loading BokehJS from CDN, this \\n\"+\n     \"may be due to a slow or bad network connection. Possible fixes:\\n\"+\n     \"</p>\\n\"+\n     \"<ul>\\n\"+\n     \"<li>re-rerun `output_notebook()` to attempt to load from CDN again, or</li>\\n\"+\n     \"<li>use INLINE resources instead, as so:</li>\\n\"+\n     \"</ul>\\n\"+\n     \"<code>\\n\"+\n     \"from bokeh.resources import INLINE\\n\"+\n     \"output_notebook(resources=INLINE)\\n\"+\n     \"</code>\\n\"+\n     \"</div>\"}};\n\n  function display_loaded() {\n    const el = document.getElementById(\"1295\");\n    if (el != null) {\n      el.textContent = \"BokehJS is loading...\";\n    }\n    if (root.Bokeh !== undefined) {\n      if (el != null) {\n        el.textContent = \"BokehJS \" + root.Bokeh.version + \" successfully loaded.\";\n      }\n    } else if (Date.now() < root._bokeh_timeout) {\n      setTimeout(display_loaded, 100)\n    }\n  }\n\n\n  function run_callbacks() {\n    try {\n      root._bokeh_onload_callbacks.forEach(function(callback) {\n        if (callback != null)\n          callback();\n      });\n    } finally {\n      delete root._bokeh_onload_callbacks\n    }\n    console.debug(\"Bokeh: all callbacks have finished\");\n  }\n\n  function load_libs(css_urls, js_urls, callback) {\n    if (css_urls == null) css_urls = [];\n    if (js_urls == null) js_urls = [];\n\n    root._bokeh_onload_callbacks.push(callback);\n    if (root._bokeh_is_loading > 0) {\n      console.debug(\"Bokeh: BokehJS is being loaded, scheduling callback at\", now());\n      return null;\n    }\n    if (js_urls == null || js_urls.length === 0) {\n      run_callbacks();\n      return null;\n    }\n    console.debug(\"Bokeh: BokehJS not loaded, scheduling load and callback at\", now());\n    root._bokeh_is_loading = css_urls.length + js_urls.length;\n\n    function on_load() {\n      root._bokeh_is_loading--;\n      if (root._bokeh_is_loading === 0) {\n        console.debug(\"Bokeh: all BokehJS libraries/stylesheets loaded\");\n        run_callbacks()\n      }\n    }\n\n    function on_error(url) {\n      console.error(\"failed to load \" + url);\n    }\n\n    for (let i = 0; i < css_urls.length; i++) {\n      const url = css_urls[i];\n      const element = document.createElement(\"link\");\n      element.onload = on_load;\n      element.onerror = on_error.bind(null, url);\n      element.rel = \"stylesheet\";\n      element.type = \"text/css\";\n      element.href = url;\n      console.debug(\"Bokeh: injecting link tag for BokehJS stylesheet: \", url);\n      document.body.appendChild(element);\n    }\n\n    for (let i = 0; i < js_urls.length; i++) {\n      const url = js_urls[i];\n      const element = document.createElement('script');\n      element.onload = on_load;\n      element.onerror = on_error.bind(null, url);\n      element.async = false;\n      element.src = url;\n      console.debug(\"Bokeh: injecting script tag for BokehJS library: \", url);\n      document.head.appendChild(element);\n    }\n  };\n\n  function inject_raw_css(css) {\n    const element = document.createElement(\"style\");\n    element.appendChild(document.createTextNode(css));\n    document.body.appendChild(element);\n  }\n\n  \n  const js_urls = [\"https://cdn.bokeh.org/bokeh/release/bokeh-2.4.2.min.js\", \"https://cdn.bokeh.org/bokeh/release/bokeh-gl-2.4.2.min.js\", \"https://cdn.bokeh.org/bokeh/release/bokeh-widgets-2.4.2.min.js\", \"https://cdn.bokeh.org/bokeh/release/bokeh-tables-2.4.2.min.js\", \"https://cdn.bokeh.org/bokeh/release/bokeh-mathjax-2.4.2.min.js\"];\n  const css_urls = [];\n  \n\n  const inline_js = [\n    function(Bokeh) {\n      Bokeh.set_log_level(\"info\");\n    },\n    function(Bokeh) {\n    \n    \n    }\n  ];\n\n  function run_inline_js() {\n    \n    if (root.Bokeh !== undefined || force === true) {\n      \n    for (let i = 0; i < inline_js.length; i++) {\n      inline_js[i].call(root, root.Bokeh);\n    }\n    if (force === true) {\n        display_loaded();\n      }} else if (Date.now() < root._bokeh_timeout) {\n      setTimeout(run_inline_js, 100);\n    } else if (!root._bokeh_failed_load) {\n      console.log(\"Bokeh: BokehJS failed to load within specified timeout.\");\n      root._bokeh_failed_load = true;\n    } else if (force !== true) {\n      const cell = $(document.getElementById(\"1295\")).parents('.cell').data().cell;\n      cell.output_area.append_execute_result(NB_LOAD_WARNING)\n    }\n\n  }\n\n  if (root._bokeh_is_loading === 0) {\n    console.debug(\"Bokeh: BokehJS loaded, going straight to plotting\");\n    run_inline_js();\n  } else {\n    load_libs(css_urls, js_urls, function() {\n      console.debug(\"Bokeh: BokehJS plotting callback run at\", now());\n      run_inline_js();\n    });\n  }\n}(window));",
      "application/vnd.bokehjs_load.v0+json": ""
     },
     "metadata": {},
     "output_type": "display_data"
    },
    {
     "data": {
      "text/html": [
       "\n",
       "\n",
       "\n",
       "\n",
       "\n",
       "\n",
       "  <div class=\"bk-root\" id=\"56978db4-391b-4165-b0f0-0f7e8665b8ce\" data-root-id=\"1385\"></div>\n"
      ]
     },
     "metadata": {},
     "output_type": "display_data"
    },
    {
     "data": {
      "application/javascript": "(function(root) {\n  function embed_document(root) {\n    \n  const docs_json = {\"63d2be0a-a25b-45b0-ab7d-4a8775ab2178\":{\"defs\":[],\"roots\":{\"references\":[{\"attributes\":{\"children\":[{\"id\":\"1296\"},{\"id\":\"1323\"}]},\"id\":\"1385\",\"type\":\"Column\"},{\"attributes\":{},\"id\":\"1418\",\"type\":\"AllLabels\"},{\"attributes\":{\"bottom\":{\"expr\":{\"id\":\"1344\"}},\"fill_alpha\":{\"value\":0.1},\"fill_color\":{\"value\":\"#718dbf\"},\"hatch_alpha\":{\"value\":0.1},\"hatch_color\":{\"value\":\"#718dbf\"},\"line_alpha\":{\"value\":0.1},\"line_color\":{\"value\":\"#718dbf\"},\"top\":{\"expr\":{\"id\":\"1345\"}},\"width\":{\"value\":0.9},\"x\":{\"field\":\"durationCategory\"}},\"id\":\"1367\",\"type\":\"VBar\"},{\"attributes\":{},\"id\":\"1338\",\"type\":\"BasicTicker\"},{\"attributes\":{},\"id\":\"1303\",\"type\":\"CategoricalScale\"},{\"attributes\":{},\"id\":\"1305\",\"type\":\"LinearScale\"},{\"attributes\":{\"axis\":{\"id\":\"1307\"},\"coordinates\":null,\"grid_line_color\":null,\"group\":null,\"ticker\":null},\"id\":\"1309\",\"type\":\"Grid\"},{\"attributes\":{},\"id\":\"1321\",\"type\":\"NumeralTickFormatter\"},{\"attributes\":{},\"id\":\"1417\",\"type\":\"CategoricalTickFormatter\"},{\"attributes\":{\"label\":{\"value\":\"like_count\"},\"renderers\":[{\"id\":\"1351\"}]},\"id\":\"1363\",\"type\":\"LegendItem\"},{\"attributes\":{\"fields\":[\"like_count\",\"comment_count\"]},\"id\":\"1345\",\"type\":\"Stack\"},{\"attributes\":{\"below\":[{\"id\":\"1307\"}],\"center\":[{\"id\":\"1309\"},{\"id\":\"1313\"}],\"height\":250,\"left\":[{\"id\":\"1310\"}],\"renderers\":[{\"id\":\"1319\"}],\"title\":{\"id\":\"1297\"},\"toolbar\":{\"id\":\"1314\"},\"toolbar_location\":null,\"x_range\":{\"id\":\"1299\"},\"x_scale\":{\"id\":\"1303\"},\"y_range\":{\"id\":\"1301\"},\"y_scale\":{\"id\":\"1305\"}},\"id\":\"1296\",\"subtype\":\"Figure\",\"type\":\"Plot\"},{\"attributes\":{\"fields\":[]},\"id\":\"1342\",\"type\":\"Stack\"},{\"attributes\":{\"axis\":{\"id\":\"1310\"},\"coordinates\":null,\"dimension\":1,\"group\":null,\"ticker\":null},\"id\":\"1313\",\"type\":\"Grid\"},{\"attributes\":{\"start\":0},\"id\":\"1301\",\"type\":\"DataRange1d\"},{\"attributes\":{\"data\":{\"top\":[979411885,1600485381,997411737,543381206],\"x\":[\"below 2min\",\"between 2min and 5min\",\"between 5min and 10min\",\"more than 10min\"]},\"selected\":{\"id\":\"1425\"},\"selection_policy\":{\"id\":\"1424\"}},\"id\":\"1315\",\"type\":\"ColumnDataSource\"},{\"attributes\":{\"axis\":{\"id\":\"1337\"},\"coordinates\":null,\"dimension\":1,\"group\":null,\"ticker\":null},\"id\":\"1340\",\"type\":\"Grid\"},{\"attributes\":{},\"id\":\"1358\",\"type\":\"CategoricalTickFormatter\"},{\"attributes\":{\"label\":{\"value\":\"comment_count\"},\"renderers\":[{\"id\":\"1369\"}]},\"id\":\"1382\",\"type\":\"LegendItem\"},{\"attributes\":{},\"id\":\"1314\",\"type\":\"Toolbar\"},{\"attributes\":{},\"id\":\"1361\",\"type\":\"Selection\"},{\"attributes\":{},\"id\":\"1381\",\"type\":\"Selection\"},{\"attributes\":{\"coordinates\":null,\"formatter\":{\"id\":\"1417\"},\"group\":null,\"major_label_policy\":{\"id\":\"1418\"},\"ticker\":{\"id\":\"1308\"}},\"id\":\"1307\",\"type\":\"CategoricalAxis\"},{\"attributes\":{\"fields\":[\"like_count\"]},\"id\":\"1344\",\"type\":\"Stack\"},{\"attributes\":{},\"id\":\"1311\",\"type\":\"BasicTicker\"},{\"attributes\":{\"fill_color\":{\"value\":\"#1f77b4\"},\"line_color\":{\"value\":\"#1f77b4\"},\"top\":{\"field\":\"top\"},\"width\":{\"value\":0.9},\"x\":{\"field\":\"x\"}},\"id\":\"1316\",\"type\":\"VBar\"},{\"attributes\":{},\"id\":\"1360\",\"type\":\"UnionRenderers\"},{\"attributes\":{\"bottom\":{\"expr\":{\"id\":\"1342\"}},\"fill_alpha\":{\"value\":0.1},\"fill_color\":{\"value\":\"#c9d9d3\"},\"hatch_alpha\":{\"value\":0.1},\"hatch_color\":{\"value\":\"#c9d9d3\"},\"line_alpha\":{\"value\":0.1},\"line_color\":{\"value\":\"#c9d9d3\"},\"top\":{\"expr\":{\"id\":\"1343\"}},\"width\":{\"value\":0.9},\"x\":{\"field\":\"durationCategory\"}},\"id\":\"1349\",\"type\":\"VBar\"},{\"attributes\":{\"bottom\":{\"expr\":{\"id\":\"1342\"}},\"fill_alpha\":{\"value\":0.2},\"fill_color\":{\"value\":\"#c9d9d3\"},\"hatch_alpha\":{\"value\":0.2},\"hatch_color\":{\"value\":\"#c9d9d3\"},\"line_alpha\":{\"value\":0.2},\"line_color\":{\"value\":\"#c9d9d3\"},\"top\":{\"expr\":{\"id\":\"1343\"}},\"width\":{\"value\":0.9},\"x\":{\"field\":\"durationCategory\"}},\"id\":\"1350\",\"type\":\"VBar\"},{\"attributes\":{\"below\":[{\"id\":\"1334\"}],\"center\":[{\"id\":\"1336\"},{\"id\":\"1340\"},{\"id\":\"1362\"}],\"height\":250,\"left\":[{\"id\":\"1337\"}],\"outline_line_color\":null,\"renderers\":[{\"id\":\"1351\"},{\"id\":\"1369\"}],\"title\":{\"id\":\"1324\"},\"toolbar\":{\"id\":\"1341\"},\"toolbar_location\":null,\"x_range\":{\"id\":\"1326\"},\"x_scale\":{\"id\":\"1330\"},\"y_range\":{\"id\":\"1328\"},\"y_scale\":{\"id\":\"1332\"}},\"id\":\"1323\",\"subtype\":\"Figure\",\"type\":\"Plot\"},{\"attributes\":{\"coordinates\":null,\"data_source\":{\"id\":\"1346\"},\"glyph\":{\"id\":\"1348\"},\"group\":null,\"hover_glyph\":null,\"muted_glyph\":{\"id\":\"1350\"},\"name\":\"like_count\",\"nonselection_glyph\":{\"id\":\"1349\"},\"view\":{\"id\":\"1352\"}},\"id\":\"1351\",\"type\":\"GlyphRenderer\"},{\"attributes\":{\"fill_alpha\":{\"value\":0.2},\"fill_color\":{\"value\":\"#1f77b4\"},\"hatch_alpha\":{\"value\":0.2},\"line_alpha\":{\"value\":0.2},\"line_color\":{\"value\":\"#1f77b4\"},\"top\":{\"field\":\"top\"},\"width\":{\"value\":0.9},\"x\":{\"field\":\"x\"}},\"id\":\"1318\",\"type\":\"VBar\"},{\"attributes\":{},\"id\":\"1380\",\"type\":\"UnionRenderers\"},{\"attributes\":{\"coordinates\":null,\"formatter\":{\"id\":\"1321\"},\"group\":null,\"major_label_policy\":{\"id\":\"1415\"},\"ticker\":{\"id\":\"1311\"}},\"id\":\"1310\",\"type\":\"LinearAxis\"},{\"attributes\":{\"factors\":[\"below 2min\",\"between 2min and 5min\",\"between 5min and 10min\",\"more than 10min\"]},\"id\":\"1326\",\"type\":\"FactorRange\"},{\"attributes\":{},\"id\":\"1356\",\"type\":\"AllLabels\"},{\"attributes\":{\"coordinates\":null,\"data_source\":{\"id\":\"1315\"},\"glyph\":{\"id\":\"1316\"},\"group\":null,\"hover_glyph\":null,\"muted_glyph\":{\"id\":\"1318\"},\"nonselection_glyph\":{\"id\":\"1317\"},\"view\":{\"id\":\"1320\"}},\"id\":\"1319\",\"type\":\"GlyphRenderer\"},{\"attributes\":{\"start\":0},\"id\":\"1328\",\"type\":\"DataRange1d\"},{\"attributes\":{\"coordinates\":null,\"data_source\":{\"id\":\"1364\"},\"glyph\":{\"id\":\"1366\"},\"group\":null,\"hover_glyph\":null,\"muted_glyph\":{\"id\":\"1368\"},\"name\":\"comment_count\",\"nonselection_glyph\":{\"id\":\"1367\"},\"view\":{\"id\":\"1370\"}},\"id\":\"1369\",\"type\":\"GlyphRenderer\"},{\"attributes\":{\"coordinates\":null,\"group\":null,\"text\":\"Total View Count per Duration Category\"},\"id\":\"1297\",\"type\":\"Title\"},{\"attributes\":{\"coordinates\":null,\"formatter\":{\"id\":\"1358\"},\"group\":null,\"major_label_policy\":{\"id\":\"1359\"},\"minor_tick_line_color\":null,\"ticker\":{\"id\":\"1335\"}},\"id\":\"1334\",\"type\":\"CategoricalAxis\"},{\"attributes\":{},\"id\":\"1308\",\"type\":\"CategoricalTicker\"},{\"attributes\":{},\"id\":\"1383\",\"type\":\"NumeralTickFormatter\"},{\"attributes\":{},\"id\":\"1335\",\"type\":\"CategoricalTicker\"},{\"attributes\":{\"factors\":[\"below 2min\",\"between 2min and 5min\",\"between 5min and 10min\",\"more than 10min\"]},\"id\":\"1299\",\"type\":\"FactorRange\"},{\"attributes\":{\"bottom\":{\"expr\":{\"id\":\"1342\"}},\"fill_color\":{\"value\":\"#c9d9d3\"},\"hatch_color\":{\"value\":\"#c9d9d3\"},\"line_color\":{\"value\":\"#c9d9d3\"},\"top\":{\"expr\":{\"id\":\"1343\"}},\"width\":{\"value\":0.9},\"x\":{\"field\":\"durationCategory\"}},\"id\":\"1348\",\"type\":\"VBar\"},{\"attributes\":{\"coordinates\":null,\"group\":null,\"text\":\"Total Like and Comment by Duration Category\"},\"id\":\"1324\",\"type\":\"Title\"},{\"attributes\":{\"source\":{\"id\":\"1315\"}},\"id\":\"1320\",\"type\":\"CDSView\"},{\"attributes\":{\"data\":{\"comment_count\":[1882399,6127003,4208592,2164375],\"durationCategory\":[\"below 2min\",\"between 2min and 5min\",\"between 5min and 10min\",\"more than 10min\"],\"index\":[0,1,2,3],\"like_count\":[10460084,17497791,10632951,5041260],\"view_count\":[979411885,1600485381,997411737,543381206]},\"selected\":{\"id\":\"1361\"},\"selection_policy\":{\"id\":\"1360\"}},\"id\":\"1346\",\"type\":\"ColumnDataSource\"},{\"attributes\":{},\"id\":\"1332\",\"type\":\"LinearScale\"},{\"attributes\":{\"data\":{\"comment_count\":[1882399,6127003,4208592,2164375],\"durationCategory\":[\"below 2min\",\"between 2min and 5min\",\"between 5min and 10min\",\"more than 10min\"],\"index\":[0,1,2,3],\"like_count\":[10460084,17497791,10632951,5041260],\"view_count\":[979411885,1600485381,997411737,543381206]},\"selected\":{\"id\":\"1381\"},\"selection_policy\":{\"id\":\"1380\"}},\"id\":\"1364\",\"type\":\"ColumnDataSource\"},{\"attributes\":{\"source\":{\"id\":\"1346\"}},\"id\":\"1352\",\"type\":\"CDSView\"},{\"attributes\":{\"fields\":[\"like_count\"]},\"id\":\"1343\",\"type\":\"Stack\"},{\"attributes\":{\"bottom\":{\"expr\":{\"id\":\"1344\"}},\"fill_alpha\":{\"value\":0.2},\"fill_color\":{\"value\":\"#718dbf\"},\"hatch_alpha\":{\"value\":0.2},\"hatch_color\":{\"value\":\"#718dbf\"},\"line_alpha\":{\"value\":0.2},\"line_color\":{\"value\":\"#718dbf\"},\"top\":{\"expr\":{\"id\":\"1345\"}},\"width\":{\"value\":0.9},\"x\":{\"field\":\"durationCategory\"}},\"id\":\"1368\",\"type\":\"VBar\"},{\"attributes\":{},\"id\":\"1359\",\"type\":\"AllLabels\"},{\"attributes\":{},\"id\":\"1424\",\"type\":\"UnionRenderers\"},{\"attributes\":{},\"id\":\"1341\",\"type\":\"Toolbar\"},{\"attributes\":{\"fill_alpha\":{\"value\":0.1},\"fill_color\":{\"value\":\"#1f77b4\"},\"hatch_alpha\":{\"value\":0.1},\"line_alpha\":{\"value\":0.1},\"line_color\":{\"value\":\"#1f77b4\"},\"top\":{\"field\":\"top\"},\"width\":{\"value\":0.9},\"x\":{\"field\":\"x\"}},\"id\":\"1317\",\"type\":\"VBar\"},{\"attributes\":{},\"id\":\"1330\",\"type\":\"CategoricalScale\"},{\"attributes\":{},\"id\":\"1425\",\"type\":\"Selection\"},{\"attributes\":{\"source\":{\"id\":\"1364\"}},\"id\":\"1370\",\"type\":\"CDSView\"},{\"attributes\":{\"coordinates\":null,\"formatter\":{\"id\":\"1383\"},\"group\":null,\"major_label_policy\":{\"id\":\"1356\"},\"minor_tick_line_color\":null,\"ticker\":{\"id\":\"1338\"}},\"id\":\"1337\",\"type\":\"LinearAxis\"},{\"attributes\":{\"bottom\":{\"expr\":{\"id\":\"1344\"}},\"fill_color\":{\"value\":\"#718dbf\"},\"hatch_color\":{\"value\":\"#718dbf\"},\"line_color\":{\"value\":\"#718dbf\"},\"top\":{\"expr\":{\"id\":\"1345\"}},\"width\":{\"value\":0.9},\"x\":{\"field\":\"durationCategory\"}},\"id\":\"1366\",\"type\":\"VBar\"},{\"attributes\":{\"coordinates\":null,\"group\":null,\"items\":[{\"id\":\"1363\"},{\"id\":\"1382\"}],\"orientation\":\"horizontal\"},\"id\":\"1362\",\"type\":\"Legend\"},{\"attributes\":{},\"id\":\"1415\",\"type\":\"AllLabels\"},{\"attributes\":{\"axis\":{\"id\":\"1334\"},\"coordinates\":null,\"grid_line_color\":null,\"group\":null,\"ticker\":null},\"id\":\"1336\",\"type\":\"Grid\"}],\"root_ids\":[\"1385\"]},\"title\":\"Bokeh Application\",\"version\":\"2.4.2\"}};\n  const render_items = [{\"docid\":\"63d2be0a-a25b-45b0-ab7d-4a8775ab2178\",\"root_ids\":[\"1385\"],\"roots\":{\"1385\":\"56978db4-391b-4165-b0f0-0f7e8665b8ce\"}}];\n  root.Bokeh.embed.embed_items_notebook(docs_json, render_items);\n\n  }\n  if (root.Bokeh !== undefined) {\n    embed_document(root);\n  } else {\n    let attempts = 0;\n    const timer = setInterval(function(root) {\n      if (root.Bokeh !== undefined) {\n        clearInterval(timer);\n        embed_document(root);\n      } else {\n        attempts++;\n        if (attempts > 100) {\n          clearInterval(timer);\n          console.log(\"Bokeh: ERROR: Unable to run BokehJS code because BokehJS library is missing\");\n        }\n      }\n    }, 10, root)\n  }\n})(window);",
      "application/vnd.bokehjs_exec.v0+json": ""
     },
     "metadata": {
      "application/vnd.bokehjs_exec.v0+json": {
       "id": "1385"
      }
     },
     "output_type": "display_data"
    }
   ],
   "source": [
    "\n",
    "output_notebook()\n",
    "colors = [\"#c9d9d3\", \"#718dbf\"]\n",
    "duration = df_duration[\"durationCategory\"].to_list()\n",
    "a =[\"like_count\",\"comment_count\"]\n",
    "view = df_duration[\"view_count\"].to_list()\n",
    "\n",
    "\n",
    "p= figure(x_range=duration, height=250, title=\"Total View Count per Duration Category\",\n",
    "           toolbar_location=None, tools=\"\")\n",
    "\n",
    "p.vbar(x=duration, top=view, width=0.9)\n",
    "\n",
    "p.yaxis[0].formatter = NumeralTickFormatter(format=\"0,0\")\n",
    "p.xgrid.grid_line_color = None\n",
    "p.y_range.start = 0\n",
    "\n",
    "#stacked bar chart\n",
    "\n",
    "p1 = figure(x_range=duration, height=250, title=\"Total Like and Comment by Duration Category\",\n",
    "           toolbar_location=None, tools=\"\")\n",
    "\n",
    "p1.vbar_stack(a, x='durationCategory', width=0.9, color=colors, source=df_duration,legend_label=a)\n",
    "\n",
    "p1.y_range.start = 0\n",
    "p1.yaxis[0].formatter = NumeralTickFormatter(format=\"0,0\")\n",
    "\n",
    "#p2.x_range.range_padding = 10000\n",
    "p1.xgrid.grid_line_color = None\n",
    "p1.axis.minor_tick_line_color = None\n",
    "p1.outline_line_color = None\n",
    "p1.legend.location = \"top_right\"\n",
    "p1.legend.orientation = \"horizontal\"\n",
    "show(column(p,p1))\n"
   ]
  },
  {
   "cell_type": "markdown",
   "metadata": {},
   "source": [
    "As can be seen the most viewed videos have duration between 2 to 5 minutes. And also the most liked and commented videos are in the same category. And like numbers are lower than comments in every duration category."
   ]
  },
  {
   "cell_type": "markdown",
   "metadata": {},
   "source": [
    "### 3: Does tag numbers affect to view counts?"
   ]
  },
  {
   "cell_type": "markdown",
   "metadata": {},
   "source": [
    "To insight into the tags, let's create new table and add together view counts by tag category."
   ]
  },
  {
   "cell_type": "code",
   "execution_count": 110,
   "metadata": {},
   "outputs": [
    {
     "data": {
      "text/html": [
       "<div>\n",
       "<style scoped>\n",
       "    .dataframe tbody tr th:only-of-type {\n",
       "        vertical-align: middle;\n",
       "    }\n",
       "\n",
       "    .dataframe tbody tr th {\n",
       "        vertical-align: top;\n",
       "    }\n",
       "\n",
       "    .dataframe thead th {\n",
       "        text-align: right;\n",
       "    }\n",
       "</style>\n",
       "<table border=\"1\" class=\"dataframe\">\n",
       "  <thead>\n",
       "    <tr style=\"text-align: right;\">\n",
       "      <th></th>\n",
       "      <th>tagCategory</th>\n",
       "      <th>view_count</th>\n",
       "    </tr>\n",
       "  </thead>\n",
       "  <tbody>\n",
       "    <tr>\n",
       "      <th>0</th>\n",
       "      <td>between 0&amp;10</td>\n",
       "      <td>1863413804</td>\n",
       "    </tr>\n",
       "    <tr>\n",
       "      <th>1</th>\n",
       "      <td>between 10&amp;20</td>\n",
       "      <td>1187462263</td>\n",
       "    </tr>\n",
       "    <tr>\n",
       "      <th>2</th>\n",
       "      <td>between 20&amp;30</td>\n",
       "      <td>566918901</td>\n",
       "    </tr>\n",
       "    <tr>\n",
       "      <th>3</th>\n",
       "      <td>between 30&amp;40</td>\n",
       "      <td>135338764</td>\n",
       "    </tr>\n",
       "    <tr>\n",
       "      <th>4</th>\n",
       "      <td>between 40&amp;50</td>\n",
       "      <td>100995283</td>\n",
       "    </tr>\n",
       "    <tr>\n",
       "      <th>5</th>\n",
       "      <td>between 50&amp;60</td>\n",
       "      <td>111536019</td>\n",
       "    </tr>\n",
       "    <tr>\n",
       "      <th>6</th>\n",
       "      <td>between 60&amp;70</td>\n",
       "      <td>141802975</td>\n",
       "    </tr>\n",
       "    <tr>\n",
       "      <th>7</th>\n",
       "      <td>more than 70</td>\n",
       "      <td>13222200</td>\n",
       "    </tr>\n",
       "  </tbody>\n",
       "</table>\n",
       "</div>"
      ],
      "text/plain": [
       "     tagCategory  view_count\n",
       "0  between 0&10   1863413804\n",
       "1  between 10&20  1187462263\n",
       "2  between 20&30  566918901 \n",
       "3  between 30&40  135338764 \n",
       "4  between 40&50  100995283 \n",
       "5  between 50&60  111536019 \n",
       "6  between 60&70  141802975 \n",
       "7  more than 70   13222200  "
      ]
     },
     "execution_count": 110,
     "metadata": {},
     "output_type": "execute_result"
    }
   ],
   "source": [
    "df_tags=df.copy()\n",
    "df_tags=df_tags.groupby([\"tagCategory\"]).agg({\"view_count\":\"sum\"}).reset_index()\n",
    "df_tags.columns=[\"tagCategory\",\"view_count\"]\n",
    "df_tags=df_tags.sort_values(by=[\"tagCategory\"])\n",
    "df_tags.reset_index(inplace=True,drop=True)\n",
    "df_tags\n"
   ]
  },
  {
   "cell_type": "markdown",
   "metadata": {},
   "source": [
    "#"
   ]
  },
  {
   "cell_type": "markdown",
   "metadata": {},
   "source": [
    "It is obvious that tag numbers do not have any effect in view numbers. Videos, which have high views, have tag numbers between 0 to 10."
   ]
  },
  {
   "cell_type": "code",
   "execution_count": 111,
   "metadata": {},
   "outputs": [
    {
     "data": {
      "text/html": [
       "\n",
       "    <div class=\"bk-root\">\n",
       "        <a href=\"https://bokeh.org\" target=\"_blank\" class=\"bk-logo bk-logo-small bk-logo-notebook\"></a>\n",
       "        <span id=\"1520\">Loading BokehJS ...</span>\n",
       "    </div>"
      ]
     },
     "metadata": {},
     "output_type": "display_data"
    },
    {
     "data": {
      "application/javascript": "\n(function(root) {\n  function now() {\n    return new Date();\n  }\n\n  const force = true;\n\n  if (typeof root._bokeh_onload_callbacks === \"undefined\" || force === true) {\n    root._bokeh_onload_callbacks = [];\n    root._bokeh_is_loading = undefined;\n  }\n\n  const JS_MIME_TYPE = 'application/javascript';\n  const HTML_MIME_TYPE = 'text/html';\n  const EXEC_MIME_TYPE = 'application/vnd.bokehjs_exec.v0+json';\n  const CLASS_NAME = 'output_bokeh rendered_html';\n\n  /**\n   * Render data to the DOM node\n   */\n  function render(props, node) {\n    const script = document.createElement(\"script\");\n    node.appendChild(script);\n  }\n\n  /**\n   * Handle when an output is cleared or removed\n   */\n  function handleClearOutput(event, handle) {\n    const cell = handle.cell;\n\n    const id = cell.output_area._bokeh_element_id;\n    const server_id = cell.output_area._bokeh_server_id;\n    // Clean up Bokeh references\n    if (id != null && id in Bokeh.index) {\n      Bokeh.index[id].model.document.clear();\n      delete Bokeh.index[id];\n    }\n\n    if (server_id !== undefined) {\n      // Clean up Bokeh references\n      const cmd_clean = \"from bokeh.io.state import curstate; print(curstate().uuid_to_server['\" + server_id + \"'].get_sessions()[0].document.roots[0]._id)\";\n      cell.notebook.kernel.execute(cmd_clean, {\n        iopub: {\n          output: function(msg) {\n            const id = msg.content.text.trim();\n            if (id in Bokeh.index) {\n              Bokeh.index[id].model.document.clear();\n              delete Bokeh.index[id];\n            }\n          }\n        }\n      });\n      // Destroy server and session\n      const cmd_destroy = \"import bokeh.io.notebook as ion; ion.destroy_server('\" + server_id + \"')\";\n      cell.notebook.kernel.execute(cmd_destroy);\n    }\n  }\n\n  /**\n   * Handle when a new output is added\n   */\n  function handleAddOutput(event, handle) {\n    const output_area = handle.output_area;\n    const output = handle.output;\n\n    // limit handleAddOutput to display_data with EXEC_MIME_TYPE content only\n    if ((output.output_type != \"display_data\") || (!Object.prototype.hasOwnProperty.call(output.data, EXEC_MIME_TYPE))) {\n      return\n    }\n\n    const toinsert = output_area.element.find(\".\" + CLASS_NAME.split(' ')[0]);\n\n    if (output.metadata[EXEC_MIME_TYPE][\"id\"] !== undefined) {\n      toinsert[toinsert.length - 1].firstChild.textContent = output.data[JS_MIME_TYPE];\n      // store reference to embed id on output_area\n      output_area._bokeh_element_id = output.metadata[EXEC_MIME_TYPE][\"id\"];\n    }\n    if (output.metadata[EXEC_MIME_TYPE][\"server_id\"] !== undefined) {\n      const bk_div = document.createElement(\"div\");\n      bk_div.innerHTML = output.data[HTML_MIME_TYPE];\n      const script_attrs = bk_div.children[0].attributes;\n      for (let i = 0; i < script_attrs.length; i++) {\n        toinsert[toinsert.length - 1].firstChild.setAttribute(script_attrs[i].name, script_attrs[i].value);\n        toinsert[toinsert.length - 1].firstChild.textContent = bk_div.children[0].textContent\n      }\n      // store reference to server id on output_area\n      output_area._bokeh_server_id = output.metadata[EXEC_MIME_TYPE][\"server_id\"];\n    }\n  }\n\n  function register_renderer(events, OutputArea) {\n\n    function append_mime(data, metadata, element) {\n      // create a DOM node to render to\n      const toinsert = this.create_output_subarea(\n        metadata,\n        CLASS_NAME,\n        EXEC_MIME_TYPE\n      );\n      this.keyboard_manager.register_events(toinsert);\n      // Render to node\n      const props = {data: data, metadata: metadata[EXEC_MIME_TYPE]};\n      render(props, toinsert[toinsert.length - 1]);\n      element.append(toinsert);\n      return toinsert\n    }\n\n    /* Handle when an output is cleared or removed */\n    events.on('clear_output.CodeCell', handleClearOutput);\n    events.on('delete.Cell', handleClearOutput);\n\n    /* Handle when a new output is added */\n    events.on('output_added.OutputArea', handleAddOutput);\n\n    /**\n     * Register the mime type and append_mime function with output_area\n     */\n    OutputArea.prototype.register_mime_type(EXEC_MIME_TYPE, append_mime, {\n      /* Is output safe? */\n      safe: true,\n      /* Index of renderer in `output_area.display_order` */\n      index: 0\n    });\n  }\n\n  // register the mime type if in Jupyter Notebook environment and previously unregistered\n  if (root.Jupyter !== undefined) {\n    const events = require('base/js/events');\n    const OutputArea = require('notebook/js/outputarea').OutputArea;\n\n    if (OutputArea.prototype.mime_types().indexOf(EXEC_MIME_TYPE) == -1) {\n      register_renderer(events, OutputArea);\n    }\n  }\n\n  \n  if (typeof (root._bokeh_timeout) === \"undefined\" || force === true) {\n    root._bokeh_timeout = Date.now() + 5000;\n    root._bokeh_failed_load = false;\n  }\n\n  const NB_LOAD_WARNING = {'data': {'text/html':\n     \"<div style='background-color: #fdd'>\\n\"+\n     \"<p>\\n\"+\n     \"BokehJS does not appear to have successfully loaded. If loading BokehJS from CDN, this \\n\"+\n     \"may be due to a slow or bad network connection. Possible fixes:\\n\"+\n     \"</p>\\n\"+\n     \"<ul>\\n\"+\n     \"<li>re-rerun `output_notebook()` to attempt to load from CDN again, or</li>\\n\"+\n     \"<li>use INLINE resources instead, as so:</li>\\n\"+\n     \"</ul>\\n\"+\n     \"<code>\\n\"+\n     \"from bokeh.resources import INLINE\\n\"+\n     \"output_notebook(resources=INLINE)\\n\"+\n     \"</code>\\n\"+\n     \"</div>\"}};\n\n  function display_loaded() {\n    const el = document.getElementById(\"1520\");\n    if (el != null) {\n      el.textContent = \"BokehJS is loading...\";\n    }\n    if (root.Bokeh !== undefined) {\n      if (el != null) {\n        el.textContent = \"BokehJS \" + root.Bokeh.version + \" successfully loaded.\";\n      }\n    } else if (Date.now() < root._bokeh_timeout) {\n      setTimeout(display_loaded, 100)\n    }\n  }\n\n\n  function run_callbacks() {\n    try {\n      root._bokeh_onload_callbacks.forEach(function(callback) {\n        if (callback != null)\n          callback();\n      });\n    } finally {\n      delete root._bokeh_onload_callbacks\n    }\n    console.debug(\"Bokeh: all callbacks have finished\");\n  }\n\n  function load_libs(css_urls, js_urls, callback) {\n    if (css_urls == null) css_urls = [];\n    if (js_urls == null) js_urls = [];\n\n    root._bokeh_onload_callbacks.push(callback);\n    if (root._bokeh_is_loading > 0) {\n      console.debug(\"Bokeh: BokehJS is being loaded, scheduling callback at\", now());\n      return null;\n    }\n    if (js_urls == null || js_urls.length === 0) {\n      run_callbacks();\n      return null;\n    }\n    console.debug(\"Bokeh: BokehJS not loaded, scheduling load and callback at\", now());\n    root._bokeh_is_loading = css_urls.length + js_urls.length;\n\n    function on_load() {\n      root._bokeh_is_loading--;\n      if (root._bokeh_is_loading === 0) {\n        console.debug(\"Bokeh: all BokehJS libraries/stylesheets loaded\");\n        run_callbacks()\n      }\n    }\n\n    function on_error(url) {\n      console.error(\"failed to load \" + url);\n    }\n\n    for (let i = 0; i < css_urls.length; i++) {\n      const url = css_urls[i];\n      const element = document.createElement(\"link\");\n      element.onload = on_load;\n      element.onerror = on_error.bind(null, url);\n      element.rel = \"stylesheet\";\n      element.type = \"text/css\";\n      element.href = url;\n      console.debug(\"Bokeh: injecting link tag for BokehJS stylesheet: \", url);\n      document.body.appendChild(element);\n    }\n\n    for (let i = 0; i < js_urls.length; i++) {\n      const url = js_urls[i];\n      const element = document.createElement('script');\n      element.onload = on_load;\n      element.onerror = on_error.bind(null, url);\n      element.async = false;\n      element.src = url;\n      console.debug(\"Bokeh: injecting script tag for BokehJS library: \", url);\n      document.head.appendChild(element);\n    }\n  };\n\n  function inject_raw_css(css) {\n    const element = document.createElement(\"style\");\n    element.appendChild(document.createTextNode(css));\n    document.body.appendChild(element);\n  }\n\n  \n  const js_urls = [\"https://cdn.bokeh.org/bokeh/release/bokeh-2.4.2.min.js\", \"https://cdn.bokeh.org/bokeh/release/bokeh-gl-2.4.2.min.js\", \"https://cdn.bokeh.org/bokeh/release/bokeh-widgets-2.4.2.min.js\", \"https://cdn.bokeh.org/bokeh/release/bokeh-tables-2.4.2.min.js\", \"https://cdn.bokeh.org/bokeh/release/bokeh-mathjax-2.4.2.min.js\"];\n  const css_urls = [];\n  \n\n  const inline_js = [\n    function(Bokeh) {\n      Bokeh.set_log_level(\"info\");\n    },\n    function(Bokeh) {\n    \n    \n    }\n  ];\n\n  function run_inline_js() {\n    \n    if (root.Bokeh !== undefined || force === true) {\n      \n    for (let i = 0; i < inline_js.length; i++) {\n      inline_js[i].call(root, root.Bokeh);\n    }\n    if (force === true) {\n        display_loaded();\n      }} else if (Date.now() < root._bokeh_timeout) {\n      setTimeout(run_inline_js, 100);\n    } else if (!root._bokeh_failed_load) {\n      console.log(\"Bokeh: BokehJS failed to load within specified timeout.\");\n      root._bokeh_failed_load = true;\n    } else if (force !== true) {\n      const cell = $(document.getElementById(\"1520\")).parents('.cell').data().cell;\n      cell.output_area.append_execute_result(NB_LOAD_WARNING)\n    }\n\n  }\n\n  if (root._bokeh_is_loading === 0) {\n    console.debug(\"Bokeh: BokehJS loaded, going straight to plotting\");\n    run_inline_js();\n  } else {\n    load_libs(css_urls, js_urls, function() {\n      console.debug(\"Bokeh: BokehJS plotting callback run at\", now());\n      run_inline_js();\n    });\n  }\n}(window));",
      "application/vnd.bokehjs_load.v0+json": ""
     },
     "metadata": {},
     "output_type": "display_data"
    },
    {
     "data": {
      "text/html": [
       "\n",
       "\n",
       "\n",
       "\n",
       "\n",
       "\n",
       "  <div class=\"bk-root\" id=\"a7b07fa9-97ff-44b0-a81c-cc91b0b8cdd9\" data-root-id=\"1521\"></div>\n"
      ]
     },
     "metadata": {},
     "output_type": "display_data"
    },
    {
     "data": {
      "application/javascript": "(function(root) {\n  function embed_document(root) {\n    \n  const docs_json = {\"bb88dd99-302e-453b-abc1-d0b31043c40c\":{\"defs\":[],\"roots\":{\"references\":[{\"attributes\":{\"below\":[{\"id\":\"1532\"}],\"center\":[{\"id\":\"1534\"},{\"id\":\"1538\"}],\"height\":250,\"left\":[{\"id\":\"1535\"}],\"renderers\":[{\"id\":\"1544\"}],\"title\":{\"id\":\"1522\"},\"toolbar\":{\"id\":\"1539\"},\"toolbar_location\":null,\"x_range\":{\"id\":\"1524\"},\"x_scale\":{\"id\":\"1528\"},\"y_range\":{\"id\":\"1526\"},\"y_scale\":{\"id\":\"1530\"}},\"id\":\"1521\",\"subtype\":\"Figure\",\"type\":\"Plot\"},{\"attributes\":{\"fill_color\":{\"value\":\"#1f77b4\"},\"line_color\":{\"value\":\"#1f77b4\"},\"top\":{\"field\":\"top\"},\"width\":{\"value\":0.9},\"x\":{\"field\":\"x\"}},\"id\":\"1541\",\"type\":\"VBar\"},{\"attributes\":{},\"id\":\"1546\",\"type\":\"NumeralTickFormatter\"},{\"attributes\":{\"start\":0},\"id\":\"1526\",\"type\":\"DataRange1d\"},{\"attributes\":{},\"id\":\"1598\",\"type\":\"UnionRenderers\"},{\"attributes\":{\"coordinates\":null,\"formatter\":{\"id\":\"1546\"},\"group\":null,\"major_label_policy\":{\"id\":\"1594\"},\"ticker\":{\"id\":\"1536\"}},\"id\":\"1535\",\"type\":\"LinearAxis\"},{\"attributes\":{\"axis\":{\"id\":\"1532\"},\"coordinates\":null,\"grid_line_color\":null,\"group\":null,\"ticker\":null},\"id\":\"1534\",\"type\":\"Grid\"},{\"attributes\":{},\"id\":\"1596\",\"type\":\"CategoricalTickFormatter\"},{\"attributes\":{\"factors\":[\"between 0&10\",\"between 10&20\",\"between 20&30\",\"between 30&40\",\"between 40&50\",\"between 50&60\",\"between 60&70\",\"more than 70\"]},\"id\":\"1524\",\"type\":\"FactorRange\"},{\"attributes\":{},\"id\":\"1539\",\"type\":\"Toolbar\"},{\"attributes\":{\"coordinates\":null,\"formatter\":{\"id\":\"1596\"},\"group\":null,\"major_label_orientation\":1,\"major_label_policy\":{\"id\":\"1597\"},\"ticker\":{\"id\":\"1533\"}},\"id\":\"1532\",\"type\":\"CategoricalAxis\"},{\"attributes\":{},\"id\":\"1599\",\"type\":\"Selection\"},{\"attributes\":{\"source\":{\"id\":\"1540\"}},\"id\":\"1545\",\"type\":\"CDSView\"},{\"attributes\":{\"fill_alpha\":{\"value\":0.1},\"fill_color\":{\"value\":\"#1f77b4\"},\"hatch_alpha\":{\"value\":0.1},\"line_alpha\":{\"value\":0.1},\"line_color\":{\"value\":\"#1f77b4\"},\"top\":{\"field\":\"top\"},\"width\":{\"value\":0.9},\"x\":{\"field\":\"x\"}},\"id\":\"1542\",\"type\":\"VBar\"},{\"attributes\":{},\"id\":\"1594\",\"type\":\"AllLabels\"},{\"attributes\":{},\"id\":\"1597\",\"type\":\"AllLabels\"},{\"attributes\":{},\"id\":\"1528\",\"type\":\"CategoricalScale\"},{\"attributes\":{\"axis\":{\"id\":\"1535\"},\"coordinates\":null,\"dimension\":1,\"group\":null,\"ticker\":null},\"id\":\"1538\",\"type\":\"Grid\"},{\"attributes\":{\"coordinates\":null,\"group\":null,\"text\":\"Total Number of Views According to The Number of Tags\"},\"id\":\"1522\",\"type\":\"Title\"},{\"attributes\":{\"coordinates\":null,\"data_source\":{\"id\":\"1540\"},\"glyph\":{\"id\":\"1541\"},\"group\":null,\"hover_glyph\":null,\"muted_glyph\":{\"id\":\"1543\"},\"nonselection_glyph\":{\"id\":\"1542\"},\"view\":{\"id\":\"1545\"}},\"id\":\"1544\",\"type\":\"GlyphRenderer\"},{\"attributes\":{\"fill_alpha\":{\"value\":0.2},\"fill_color\":{\"value\":\"#1f77b4\"},\"hatch_alpha\":{\"value\":0.2},\"line_alpha\":{\"value\":0.2},\"line_color\":{\"value\":\"#1f77b4\"},\"top\":{\"field\":\"top\"},\"width\":{\"value\":0.9},\"x\":{\"field\":\"x\"}},\"id\":\"1543\",\"type\":\"VBar\"},{\"attributes\":{},\"id\":\"1533\",\"type\":\"CategoricalTicker\"},{\"attributes\":{\"data\":{\"top\":[1863413804,1187462263,566918901,135338764,100995283,111536019,141802975,13222200],\"x\":[\"between 0&10\",\"between 10&20\",\"between 20&30\",\"between 30&40\",\"between 40&50\",\"between 50&60\",\"between 60&70\",\"more than 70\"]},\"selected\":{\"id\":\"1599\"},\"selection_policy\":{\"id\":\"1598\"}},\"id\":\"1540\",\"type\":\"ColumnDataSource\"},{\"attributes\":{},\"id\":\"1536\",\"type\":\"BasicTicker\"},{\"attributes\":{},\"id\":\"1530\",\"type\":\"LinearScale\"}],\"root_ids\":[\"1521\"]},\"title\":\"Bokeh Application\",\"version\":\"2.4.2\"}};\n  const render_items = [{\"docid\":\"bb88dd99-302e-453b-abc1-d0b31043c40c\",\"root_ids\":[\"1521\"],\"roots\":{\"1521\":\"a7b07fa9-97ff-44b0-a81c-cc91b0b8cdd9\"}}];\n  root.Bokeh.embed.embed_items_notebook(docs_json, render_items);\n\n  }\n  if (root.Bokeh !== undefined) {\n    embed_document(root);\n  } else {\n    let attempts = 0;\n    const timer = setInterval(function(root) {\n      if (root.Bokeh !== undefined) {\n        clearInterval(timer);\n        embed_document(root);\n      } else {\n        attempts++;\n        if (attempts > 100) {\n          clearInterval(timer);\n          console.log(\"Bokeh: ERROR: Unable to run BokehJS code because BokehJS library is missing\");\n        }\n      }\n    }, 10, root)\n  }\n})(window);",
      "application/vnd.bokehjs_exec.v0+json": ""
     },
     "metadata": {
      "application/vnd.bokehjs_exec.v0+json": {
       "id": "1521"
      }
     },
     "output_type": "display_data"
    }
   ],
   "source": [
    "\n",
    "output_notebook()\n",
    "tags = df_tags[\"tagCategory\"].to_list()\n",
    "view = df_tags[\"view_count\"].to_list()\n",
    "\n",
    "\n",
    "p= figure(x_range=tags, height=250, title=\"Total Number of Views According to The Number of Tags\",\n",
    "           toolbar_location=None, tools=\"\")\n",
    "\n",
    "p.vbar(x=tags, top=view ,width=0.9)\n",
    "\n",
    "p.yaxis[0].formatter = NumeralTickFormatter(format=\"0,0\")\n",
    "p.xgrid.grid_line_color = None\n",
    "p.y_range.start = 0\n",
    "p.xaxis.major_label_orientation = 1\n",
    "\n",
    "#stacked bar chart\n",
    "\n",
    "\n",
    "show(p)\n"
   ]
  },
  {
   "cell_type": "markdown",
   "metadata": {},
   "source": [
    "### 4: Does title length matter for views?\n"
   ]
  },
  {
   "cell_type": "markdown",
   "metadata": {},
   "source": [
    "The scatterplot shows that, there is no clear correlation between title length and view count. Most viewed videos have around 7 to 10 characters."
   ]
  },
  {
   "cell_type": "code",
   "execution_count": 112,
   "metadata": {},
   "outputs": [
    {
     "data": {
      "text/plain": [
       "<AxesSubplot:xlabel='titleLength', ylabel='view_count'>"
      ]
     },
     "execution_count": 112,
     "metadata": {},
     "output_type": "execute_result"
    },
    {
     "data": {
      "image/png": "[encoded data removed]",
      "text/plain": [
       "<Figure size 842.4x595.44 with 1 Axes>"
      ]
     },
     "metadata": {},
     "output_type": "display_data"
    }
   ],
   "source": [
    "sns.scatterplot(data = df, x = \"titleLength\", y = \"view_count\")"
   ]
  },
  {
   "cell_type": "markdown",
   "metadata": {},
   "source": [
    "## Distribution of video published by date"
   ]
  },
  {
   "cell_type": "markdown",
   "metadata": {},
   "source": [
    "- Yearly"
   ]
  },
  {
   "cell_type": "code",
   "execution_count": 113,
   "metadata": {},
   "outputs": [
    {
     "data": {
      "image/png": "[encoded data removed]",
      "text/plain": [
       "<Figure size 864x432 with 1 Axes>"
      ]
     },
     "metadata": {},
     "output_type": "display_data"
    }
   ],
   "source": [
    "ax = df.groupby(df.publishedAt.dt.year)['video_id'].count().plot(kind='bar', figsize=(12, 6))\n",
    "ax.set(xlabel='Year', ylabel='Number of Videos', title=\"Videos Published Every Year\")\n",
    "plt.show()"
   ]
  },
  {
   "cell_type": "markdown",
   "metadata": {},
   "source": [
    "- Monthly"
   ]
  },
  {
   "cell_type": "code",
   "execution_count": 114,
   "metadata": {},
   "outputs": [
    {
     "data": {
      "image/png": "[encoded data removed]",
      "text/plain": [
       "<Figure size 842.4x595.44 with 1 Axes>"
      ]
     },
     "metadata": {},
     "output_type": "display_data"
    }
   ],
   "source": [
    "ax = df.groupby(df.publishedAt.dt.month)['video_id'].count().plot(kind='bar')\n",
    "months = ['JAN',  'FEB', 'MAR', 'APR', 'MAY', 'JUN', 'JUL', 'AUG', 'SEP', 'OCT', 'NOV', 'DEC']\n",
    "ax.set_xticklabels(months)\n",
    "ax.set(xlabel='Month', ylabel='Number of Videos', title=\"Videos Published Every Month\")\n",
    "plt.show()"
   ]
  },
  {
   "cell_type": "markdown",
   "metadata": {},
   "source": [
    "- Daily"
   ]
  },
  {
   "cell_type": "markdown",
   "metadata": {},
   "source": [
    "Video publish routine is crassly similar on weekdays, the busiest day is Wednesday around 2,700 videos. As expected, a very less number of videos are published on weekends. Saturday has the lowest number of video published, just below 1,500 videos  followed by Sunday with a small difference just over 1,500 videos."
   ]
  },
  {
   "cell_type": "code",
   "execution_count": 115,
   "metadata": {},
   "outputs": [
    {
     "data": {
      "image/png": "[encoded data removed]",
      "text/plain": [
       "<Figure size 842.4x595.44 with 1 Axes>"
      ]
     },
     "metadata": {},
     "output_type": "display_data"
    }
   ],
   "source": [
    "ax = df.groupby(df.publishedAt.dt.weekday)['video_id'].count().plot(kind='bar')\n",
    "days_of_week = ['MON', 'TUE', 'WED', 'THU', 'FRI', 'SAT', 'SUN']\n",
    "ax.set_xticklabels(days_of_week)\n",
    "ax.set(xlabel='Day of Week', ylabel='Number of Videos', title=\"Videos Published Every WeekDay\")\n",
    "plt.show()"
   ]
  },
  {
   "cell_type": "markdown",
   "metadata": {},
   "source": [
    "- Highest number of videos published in the year 2021 and lowest in 2013.\n",
    "\n",
    "\n",
    "- July and November shares the place that the higher number of videos published. All other months hover around same figures between 1200 to 1400 videos, except February just below 1200.\n",
    "\n",
    "\n",
    "- Wednesday is the busiest day in the week.\n",
    "\n"
   ]
  },
  {
   "cell_type": "markdown",
   "metadata": {},
   "source": [
    "## What is the day which has the highest numbers of videos published? What was the occasion?"
   ]
  },
  {
   "cell_type": "markdown",
   "metadata": {},
   "source": [
    "As we see, when we count number of video published by day, we can see 24.10.2013 the highest at 36 videos and  followed by 13.12.2029 with 20 videos. If we remove these two days and plot the data we can have a clear understanding about general trend."
   ]
  },
  {
   "cell_type": "code",
   "execution_count": 116,
   "metadata": {},
   "outputs": [
    {
     "data": {
      "text/plain": [
       "2013-10-24    36\n",
       "2019-12-13    20\n",
       "2013-11-08    17\n",
       "2017-07-07    16\n",
       "2018-05-19    16\n",
       "2017-09-15    16\n",
       "2016-11-09    15\n",
       "2015-04-16    15\n",
       "2021-01-20    15\n",
       "2015-11-12    14\n",
       "Name: publishedAt, dtype: int64"
      ]
     },
     "execution_count": 116,
     "metadata": {},
     "output_type": "execute_result"
    }
   ],
   "source": [
    "df['publishedAt'].value_counts().head(10)"
   ]
  },
  {
   "cell_type": "markdown",
   "metadata": {},
   "source": [
    "Generally number of videos released have been scattered around 2 to 10 videos each day with many exceptions every year. With using Natural Language Toolkit(nltk), we will identify the trends, which showed irregularity, by using the video_title and description columns throughout the period."
   ]
  },
  {
   "cell_type": "code",
   "execution_count": 117,
   "metadata": {},
   "outputs": [
    {
     "data": {
      "image/png": "[encoded data removed]",
      "text/plain": [
       "<Figure size 864x432 with 1 Axes>"
      ]
     },
     "metadata": {},
     "output_type": "display_data"
    }
   ],
   "source": [
    "ax = df['publishedAt'].value_counts()[2:].plot(color='red', figsize=(12,6))\n",
    "ax.set(xlabel='Date', ylabel='Number of Videos')\n",
    "plt.show()"
   ]
  },
  {
   "cell_type": "markdown",
   "metadata": {},
   "source": [
    "## World analysis with NLTK on 2013-10-24 "
   ]
  },
  {
   "cell_type": "code",
   "execution_count": 118,
   "metadata": {},
   "outputs": [
    {
     "data": {
      "text/html": [
       "<style type=\"text/css\">\n",
       "</style>\n",
       "<table id=\"T_59a0b\" style='display:inline'>\n",
       "  <caption>Title Word Frequency</caption>\n",
       "  <thead>\n",
       "    <tr>\n",
       "      <th class=\"blank level0\" >&nbsp;</th>\n",
       "      <th id=\"T_59a0b_level0_col0\" class=\"col_heading level0 col0\" >Word</th>\n",
       "      <th id=\"T_59a0b_level0_col1\" class=\"col_heading level0 col1\" >Frequency</th>\n",
       "    </tr>\n",
       "  </thead>\n",
       "  <tbody>\n",
       "    <tr>\n",
       "      <th id=\"T_59a0b_level0_row0\" class=\"row_heading level0 row0\" >0</th>\n",
       "      <td id=\"T_59a0b_row0_col0\" class=\"data row0 col0\" >interview</td>\n",
       "      <td id=\"T_59a0b_row0_col1\" class=\"data row0 col1\" >4</td>\n",
       "    </tr>\n",
       "    <tr>\n",
       "      <th id=\"T_59a0b_level0_row1\" class=\"row_heading level0 row1\" >1</th>\n",
       "      <td id=\"T_59a0b_row1_col0\" class=\"data row1 col0\" >india</td>\n",
       "      <td id=\"T_59a0b_row1_col1\" class=\"data row1 col1\" >2</td>\n",
       "    </tr>\n",
       "    <tr>\n",
       "      <th id=\"T_59a0b_level0_row2\" class=\"row_heading level0 row2\" >2</th>\n",
       "      <td id=\"T_59a0b_row2_col0\" class=\"data row2 col0\" >war</td>\n",
       "      <td id=\"T_59a0b_row2_col1\" class=\"data row2 col1\" >2</td>\n",
       "    </tr>\n",
       "    <tr>\n",
       "      <th id=\"T_59a0b_level0_row3\" class=\"row_heading level0 row3\" >3</th>\n",
       "      <td id=\"T_59a0b_row3_col0\" class=\"data row3 col0\" >us</td>\n",
       "      <td id=\"T_59a0b_row3_col1\" class=\"data row3 col1\" >2</td>\n",
       "    </tr>\n",
       "    <tr>\n",
       "      <th id=\"T_59a0b_level0_row4\" class=\"row_heading level0 row4\" >4</th>\n",
       "      <td id=\"T_59a0b_row4_col0\" class=\"data row4 col0\" >russia</td>\n",
       "      <td id=\"T_59a0b_row4_col1\" class=\"data row4 col1\" >2</td>\n",
       "    </tr>\n",
       "    <tr>\n",
       "      <th id=\"T_59a0b_level0_row5\" class=\"row_heading level0 row5\" >5</th>\n",
       "      <td id=\"T_59a0b_row5_col0\" class=\"data row5 col0\" >syrian</td>\n",
       "      <td id=\"T_59a0b_row5_col1\" class=\"data row5 col1\" >2</td>\n",
       "    </tr>\n",
       "    <tr>\n",
       "      <th id=\"T_59a0b_level0_row6\" class=\"row_heading level0 row6\" >6</th>\n",
       "      <td id=\"T_59a0b_row6_col0\" class=\"data row6 col0\" >australian</td>\n",
       "      <td id=\"T_59a0b_row6_col1\" class=\"data row6 col1\" >2</td>\n",
       "    </tr>\n",
       "    <tr>\n",
       "      <th id=\"T_59a0b_level0_row7\" class=\"row_heading level0 row7\" >7</th>\n",
       "      <td id=\"T_59a0b_row7_col0\" class=\"data row7 col0\" >fires</td>\n",
       "      <td id=\"T_59a0b_row7_col1\" class=\"data row7 col1\" >2</td>\n",
       "    </tr>\n",
       "    <tr>\n",
       "      <th id=\"T_59a0b_level0_row8\" class=\"row_heading level0 row8\" >8</th>\n",
       "      <td id=\"T_59a0b_row8_col0\" class=\"data row8 col0\" >sends</td>\n",
       "      <td id=\"T_59a0b_row8_col1\" class=\"data row8 col1\" >1</td>\n",
       "    </tr>\n",
       "    <tr>\n",
       "      <th id=\"T_59a0b_level0_row9\" class=\"row_heading level0 row9\" >9</th>\n",
       "      <td id=\"T_59a0b_row9_col0\" class=\"data row9 col0\" >messages</td>\n",
       "      <td id=\"T_59a0b_row9_col1\" class=\"data row9 col1\" >1</td>\n",
       "    </tr>\n",
       "  </tbody>\n",
       "</table>\n",
       "<style type=\"text/css\">\n",
       "</style>\n",
       "<table id=\"T_1aa6b\" style='display:inline'>\n",
       "  <caption>Description Word frequency</caption>\n",
       "  <thead>\n",
       "    <tr>\n",
       "      <th class=\"blank level0\" >&nbsp;</th>\n",
       "      <th id=\"T_1aa6b_level0_col0\" class=\"col_heading level0 col0\" >Word</th>\n",
       "      <th id=\"T_1aa6b_level0_col1\" class=\"col_heading level0 col1\" >Frequency</th>\n",
       "    </tr>\n",
       "  </thead>\n",
       "  <tbody>\n",
       "    <tr>\n",
       "      <th id=\"T_1aa6b_level0_row0\" class=\"row_heading level0 row0\" >0</th>\n",
       "      <td id=\"T_1aa6b_row0_col0\" class=\"data row0 col0\" >us</td>\n",
       "      <td id=\"T_1aa6b_row0_col1\" class=\"data row0 col1\" >8</td>\n",
       "    </tr>\n",
       "    <tr>\n",
       "      <th id=\"T_1aa6b_level0_row1\" class=\"row_heading level0 row1\" >1</th>\n",
       "      <td id=\"T_1aa6b_row1_col0\" class=\"data row1 col0\" >looks</td>\n",
       "      <td id=\"T_1aa6b_row1_col1\" class=\"data row1 col1\" >6</td>\n",
       "    </tr>\n",
       "    <tr>\n",
       "      <th id=\"T_1aa6b_level0_row2\" class=\"row_heading level0 row2\" >2</th>\n",
       "      <td id=\"T_1aa6b_row2_col0\" class=\"data row2 col0\" >woman</td>\n",
       "      <td id=\"T_1aa6b_row2_col1\" class=\"data row2 col1\" >5</td>\n",
       "    </tr>\n",
       "    <tr>\n",
       "      <th id=\"T_1aa6b_level0_row3\" class=\"row_heading level0 row3\" >3</th>\n",
       "      <td id=\"T_1aa6b_row3_col0\" class=\"data row3 col0\" >part</td>\n",
       "      <td id=\"T_1aa6b_row3_col1\" class=\"data row3 col1\" >4</td>\n",
       "    </tr>\n",
       "    <tr>\n",
       "      <th id=\"T_1aa6b_level0_row4\" class=\"row_heading level0 row4\" >4</th>\n",
       "      <td id=\"T_1aa6b_row4_col0\" class=\"data row4 col0\" >war</td>\n",
       "      <td id=\"T_1aa6b_row4_col1\" class=\"data row4 col1\" >4</td>\n",
       "    </tr>\n",
       "    <tr>\n",
       "      <th id=\"T_1aa6b_level0_row5\" class=\"row_heading level0 row5\" >5</th>\n",
       "      <td id=\"T_1aa6b_row5_col0\" class=\"data row5 col0\" >left</td>\n",
       "      <td id=\"T_1aa6b_row5_col1\" class=\"data row5 col1\" >3</td>\n",
       "    </tr>\n",
       "    <tr>\n",
       "      <th id=\"T_1aa6b_level0_row6\" class=\"row_heading level0 row6\" >6</th>\n",
       "      <td id=\"T_1aa6b_row6_col0\" class=\"data row6 col0\" >york</td>\n",
       "      <td id=\"T_1aa6b_row6_col1\" class=\"data row6 col1\" >3</td>\n",
       "    </tr>\n",
       "    <tr>\n",
       "      <th id=\"T_1aa6b_level0_row7\" class=\"row_heading level0 row7\" >7</th>\n",
       "      <td id=\"T_1aa6b_row7_col0\" class=\"data row7 col0\" >work</td>\n",
       "      <td id=\"T_1aa6b_row7_col1\" class=\"data row7 col1\" >3</td>\n",
       "    </tr>\n",
       "    <tr>\n",
       "      <th id=\"T_1aa6b_level0_row8\" class=\"row_heading level0 row8\" >8</th>\n",
       "      <td id=\"T_1aa6b_row8_col0\" class=\"data row8 col0\" >old</td>\n",
       "      <td id=\"T_1aa6b_row8_col1\" class=\"data row8 col1\" >3</td>\n",
       "    </tr>\n",
       "    <tr>\n",
       "      <th id=\"T_1aa6b_level0_row9\" class=\"row_heading level0 row9\" >9</th>\n",
       "      <td id=\"T_1aa6b_row9_col0\" class=\"data row9 col0\" >series</td>\n",
       "      <td id=\"T_1aa6b_row9_col1\" class=\"data row9 col1\" >3</td>\n",
       "    </tr>\n",
       "  </tbody>\n",
       "</table>\n"
      ]
     },
     "metadata": {},
     "output_type": "display_data"
    }
   ],
   "source": [
    "import re\n",
    "import string\n",
    "import nltk\n",
    "from collections import Counter\n",
    "from nltk.tokenize import word_tokenize\n",
    "from nltk.corpus import stopwords\n",
    "from nltk.stem.porter import PorterStemmer\n",
    "from IPython.display import display_html\n",
    "\n",
    "\n",
    "STOP_WORDS = stopwords.words(\"english\")\n",
    "new_stopwords = [\"bbc\", \"news\",\"new\",\"subscribe\",\"check\",\"facebook\",\"twitter\",\"instagram\",\"world\",\" year\",\"sec\",\"look\",\"sinc\",\"websit\",\n",
    "\"website\",\"said\",\"big\",\"says\",\"bbcnews\",\"bbcs\",\"people\",\"good\",\"pictures\",\"one\",\"first\",\"two\",\"years\",\"newsnight\", \"women\",\"men\",\"man\",\"reportssubscribe\",\n",
    "                \"one\",\"first\",\"two\",\"years\",\"newsnight\",\"–\",\"mr\",\"please\",\"would\",\"also\",\"told\",\"since\",\"‘\",\"ten\",\"last\",\"video\",\"wanted\",\n",
    "                \"bbctrending\",\"take\",\"time\",\"year\",\"use\",\"say\",\"many\",\"seconds\",\"click\"]\n",
    "STOP_WORDS.extend(new_stopwords)\n",
    "\n",
    "def cleaning(text):\n",
    "    \"\"\"\n",
    "    Convert to lowercase.\n",
    "    Remove URL links, special characters and punctuation.\n",
    "    Tokenize and remove stop words.\n",
    "    \"\"\"\n",
    "    text = text.lower()\n",
    "    text = re.sub('https?://\\S+|www\\.\\S+', '', text)\n",
    "    text = re.sub('<.*?>+', '', text)\n",
    "    text = re.sub('[%s]' % re.escape(string.punctuation), '', text)\n",
    "    text = re.sub('\\n', '', text)\n",
    "    text = re.sub('[’“”…]', '', text)\n",
    "\n",
    "    #remove numbers\n",
    "    text = re.sub(r'\\d+', '', text)\n",
    "     \n",
    "    # removing the stop-words\n",
    "    text_tokens = word_tokenize(text)\n",
    "    tokens_without_sw = [\n",
    "        word for word in text_tokens if not word in STOP_WORDS]\n",
    "    filtered_sentence = (\" \").join(tokens_without_sw)\n",
    "    text = filtered_sentence\n",
    "\n",
    "    return text\n",
    "\n",
    "\n",
    "if __name__ == \"__main__\":\n",
    "    max_rows = None # 'None' to read whole file\n",
    "    dt = df[df.publishedAt=='2013-10-24']['video_title'].apply(str).apply(cleaning)\n",
    "    dt_1 = df[df.publishedAt=='2013-10-24']['description'].apply(str).apply(cleaning)\n",
    "\n",
    "    word_count = Counter(\" \".join(dt).split()).most_common(10)\n",
    "    word_count_ds = Counter(\" \".join(dt_1).split()).most_common(10)\n",
    "\n",
    "    word_frequency = pd.DataFrame(word_count, columns = ['Word', 'Frequency'])\n",
    "    word_frequency_ds = pd.DataFrame(word_count_ds, columns = ['Word', 'Frequency'])\n",
    "  \n",
    "    # display 2 DataFrame side by side\n",
    "    df1_styler = word_frequency.style.set_table_attributes(\"style='display:inline'\").set_caption('Title Word Frequency')\n",
    "    df2_styler = word_frequency_ds.style.set_table_attributes(\"style='display:inline'\").set_caption('Description Word frequency')\n",
    "\n",
    "    display_html(df1_styler._repr_html_()+df2_styler._repr_html_(), raw=True)\n",
    "    \n"
   ]
  },
  {
   "cell_type": "markdown",
   "metadata": {},
   "source": [
    "When we do a little bit research, can be easily find out that BBC News channel shared a series which has named 100 Women on 24.10.2013, this explains frequency of 'women' and 'woman' words. Additionally there was wild fires in Australia"
   ]
  },
  {
   "cell_type": "markdown",
   "metadata": {},
   "source": [
    "## World analysis with NLTK on 2019-12-13"
   ]
  },
  {
   "cell_type": "markdown",
   "metadata": {},
   "source": [
    "As we dive into the news on 2019-12-13, we can see there was election in The UK. Boris Johnson's Conservative Party has won a clear majority in the general election, Labour Party (Jeremy Corbyn is the leader) produced the worst results since from 1935. Additionally BBC News declare that Boris Johnson gave a promise about get Brexit done by the end of January next year.And lastly Liberal Democratic leader Jo Swinson lost her seat after election, this is explains 'seat', 'swinson' words."
   ]
  },
  {
   "cell_type": "code",
   "execution_count": 119,
   "metadata": {},
   "outputs": [
    {
     "data": {
      "text/html": [
       "<style type=\"text/css\">\n",
       "</style>\n",
       "<table id=\"T_dc65a\" style='display:inline'>\n",
       "  <caption>Title Word Frequency</caption>\n",
       "  <thead>\n",
       "    <tr>\n",
       "      <th class=\"blank level0\" >&nbsp;</th>\n",
       "      <th id=\"T_dc65a_level0_col0\" class=\"col_heading level0 col0\" >Word</th>\n",
       "      <th id=\"T_dc65a_level0_col1\" class=\"col_heading level0 col1\" >Frequency</th>\n",
       "    </tr>\n",
       "  </thead>\n",
       "  <tbody>\n",
       "    <tr>\n",
       "      <th id=\"T_dc65a_level0_row0\" class=\"row_heading level0 row0\" >0</th>\n",
       "      <td id=\"T_dc65a_row0_col0\" class=\"data row0 col0\" >election</td>\n",
       "      <td id=\"T_dc65a_row0_col1\" class=\"data row0 col1\" >15</td>\n",
       "    </tr>\n",
       "    <tr>\n",
       "      <th id=\"T_dc65a_level0_row1\" class=\"row_heading level0 row1\" >1</th>\n",
       "      <td id=\"T_dc65a_row1_col0\" class=\"data row1 col0\" >results</td>\n",
       "      <td id=\"T_dc65a_row1_col1\" class=\"data row1 col1\" >15</td>\n",
       "    </tr>\n",
       "    <tr>\n",
       "      <th id=\"T_dc65a_level0_row2\" class=\"row_heading level0 row2\" >2</th>\n",
       "      <td id=\"T_dc65a_row2_col0\" class=\"data row2 col0\" >boris</td>\n",
       "      <td id=\"T_dc65a_row2_col1\" class=\"data row2 col1\" >5</td>\n",
       "    </tr>\n",
       "    <tr>\n",
       "      <th id=\"T_dc65a_level0_row3\" class=\"row_heading level0 row3\" >3</th>\n",
       "      <td id=\"T_dc65a_row3_col0\" class=\"data row3 col0\" >johnson</td>\n",
       "      <td id=\"T_dc65a_row3_col1\" class=\"data row3 col1\" >5</td>\n",
       "    </tr>\n",
       "    <tr>\n",
       "      <th id=\"T_dc65a_level0_row4\" class=\"row_heading level0 row4\" >4</th>\n",
       "      <td id=\"T_dc65a_row4_col0\" class=\"data row4 col0\" >conservatives</td>\n",
       "      <td id=\"T_dc65a_row4_col1\" class=\"data row4 col1\" >4</td>\n",
       "    </tr>\n",
       "    <tr>\n",
       "      <th id=\"T_dc65a_level0_row5\" class=\"row_heading level0 row5\" >5</th>\n",
       "      <td id=\"T_dc65a_row5_col0\" class=\"data row5 col0\" >win</td>\n",
       "      <td id=\"T_dc65a_row5_col1\" class=\"data row5 col1\" >3</td>\n",
       "    </tr>\n",
       "    <tr>\n",
       "      <th id=\"T_dc65a_level0_row6\" class=\"row_heading level0 row6\" >6</th>\n",
       "      <td id=\"T_dc65a_row6_col0\" class=\"data row6 col0\" >majority</td>\n",
       "      <td id=\"T_dc65a_row6_col1\" class=\"data row6 col1\" >3</td>\n",
       "    </tr>\n",
       "    <tr>\n",
       "      <th id=\"T_dc65a_level0_row7\" class=\"row_heading level0 row7\" >7</th>\n",
       "      <td id=\"T_dc65a_row7_col0\" class=\"data row7 col0\" >jeremy</td>\n",
       "      <td id=\"T_dc65a_row7_col1\" class=\"data row7 col1\" >3</td>\n",
       "    </tr>\n",
       "    <tr>\n",
       "      <th id=\"T_dc65a_level0_row8\" class=\"row_heading level0 row8\" >8</th>\n",
       "      <td id=\"T_dc65a_row8_col0\" class=\"data row8 col0\" >corbyn</td>\n",
       "      <td id=\"T_dc65a_row8_col1\" class=\"data row8 col1\" >3</td>\n",
       "    </tr>\n",
       "    <tr>\n",
       "      <th id=\"T_dc65a_level0_row9\" class=\"row_heading level0 row9\" >9</th>\n",
       "      <td id=\"T_dc65a_row9_col0\" class=\"data row9 col0\" >swinson</td>\n",
       "      <td id=\"T_dc65a_row9_col1\" class=\"data row9 col1\" >3</td>\n",
       "    </tr>\n",
       "  </tbody>\n",
       "</table>\n",
       "<style type=\"text/css\">\n",
       "</style>\n",
       "<table id=\"T_eb59f\" style='display:inline'>\n",
       "  <caption>Description Word frequency</caption>\n",
       "  <thead>\n",
       "    <tr>\n",
       "      <th class=\"blank level0\" >&nbsp;</th>\n",
       "      <th id=\"T_eb59f_level0_col0\" class=\"col_heading level0 col0\" >Word</th>\n",
       "      <th id=\"T_eb59f_level0_col1\" class=\"col_heading level0 col1\" >Frequency</th>\n",
       "    </tr>\n",
       "  </thead>\n",
       "  <tbody>\n",
       "    <tr>\n",
       "      <th id=\"T_eb59f_level0_row0\" class=\"row_heading level0 row0\" >0</th>\n",
       "      <td id=\"T_eb59f_row0_col0\" class=\"data row0 col0\" >brexit</td>\n",
       "      <td id=\"T_eb59f_row0_col1\" class=\"data row0 col1\" >19</td>\n",
       "    </tr>\n",
       "    <tr>\n",
       "      <th id=\"T_eb59f_level0_row1\" class=\"row_heading level0 row1\" >1</th>\n",
       "      <td id=\"T_eb59f_row1_col0\" class=\"data row1 col0\" >labour</td>\n",
       "      <td id=\"T_eb59f_row1_col1\" class=\"data row1 col1\" >17</td>\n",
       "    </tr>\n",
       "    <tr>\n",
       "      <th id=\"T_eb59f_level0_row2\" class=\"row_heading level0 row2\" >2</th>\n",
       "      <td id=\"T_eb59f_row2_col0\" class=\"data row2 col0\" >majority</td>\n",
       "      <td id=\"T_eb59f_row2_col1\" class=\"data row2 col1\" >15</td>\n",
       "    </tr>\n",
       "    <tr>\n",
       "      <th id=\"T_eb59f_level0_row3\" class=\"row_heading level0 row3\" >3</th>\n",
       "      <td id=\"T_eb59f_row3_col0\" class=\"data row3 col0\" >election</td>\n",
       "      <td id=\"T_eb59f_row3_col1\" class=\"data row3 col1\" >14</td>\n",
       "    </tr>\n",
       "    <tr>\n",
       "      <th id=\"T_eb59f_level0_row4\" class=\"row_heading level0 row4\" >4</th>\n",
       "      <td id=\"T_eb59f_row4_col0\" class=\"data row4 col0\" >get</td>\n",
       "      <td id=\"T_eb59f_row4_col1\" class=\"data row4 col1\" >12</td>\n",
       "    </tr>\n",
       "    <tr>\n",
       "      <th id=\"T_eb59f_level0_row5\" class=\"row_heading level0 row5\" >5</th>\n",
       "      <td id=\"T_eb59f_row5_col0\" class=\"data row5 col0\" >seats</td>\n",
       "      <td id=\"T_eb59f_row5_col1\" class=\"data row5 col1\" >11</td>\n",
       "    </tr>\n",
       "    <tr>\n",
       "      <th id=\"T_eb59f_level0_row6\" class=\"row_heading level0 row6\" >6</th>\n",
       "      <td id=\"T_eb59f_row6_col0\" class=\"data row6 col0\" >seat</td>\n",
       "      <td id=\"T_eb59f_row6_col1\" class=\"data row6 col1\" >11</td>\n",
       "    </tr>\n",
       "    <tr>\n",
       "      <th id=\"T_eb59f_level0_row7\" class=\"row_heading level0 row7\" >7</th>\n",
       "      <td id=\"T_eb59f_row7_col0\" class=\"data row7 col0\" >minister</td>\n",
       "      <td id=\"T_eb59f_row7_col1\" class=\"data row7 col1\" >10</td>\n",
       "    </tr>\n",
       "    <tr>\n",
       "      <th id=\"T_eb59f_level0_row8\" class=\"row_heading level0 row8\" >8</th>\n",
       "      <td id=\"T_eb59f_row8_col0\" class=\"data row8 col0\" >conservatives</td>\n",
       "      <td id=\"T_eb59f_row8_col1\" class=\"data row8 col1\" >10</td>\n",
       "    </tr>\n",
       "    <tr>\n",
       "      <th id=\"T_eb59f_level0_row9\" class=\"row_heading level0 row9\" >9</th>\n",
       "      <td id=\"T_eb59f_row9_col0\" class=\"data row9 col0\" >leader</td>\n",
       "      <td id=\"T_eb59f_row9_col1\" class=\"data row9 col1\" >10</td>\n",
       "    </tr>\n",
       "  </tbody>\n",
       "</table>\n"
      ]
     },
     "metadata": {},
     "output_type": "display_data"
    }
   ],
   "source": [
    "if __name__ == \"__main__\":\n",
    "    max_rows = None # 'None' to read whole file\n",
    "    dt = df[df.publishedAt=='2019-12-13']['video_title'].apply(str).apply(cleaning)\n",
    "    dt_1 = df[df.publishedAt=='2019-12-13']['description'].apply(str).apply(cleaning)\n",
    "\n",
    "    word_count = Counter(\" \".join(dt).split()).most_common(10)\n",
    "    word_count_ds = Counter(\" \".join(dt_1).split()).most_common(10)\n",
    "\n",
    "    word_frequency = pd.DataFrame(word_count, columns = ['Word', 'Frequency'])\n",
    "    word_frequency_ds = pd.DataFrame(word_count_ds, columns = ['Word', 'Frequency'])\n",
    "  \n",
    "    # display 2 DataFrame side by side\n",
    "    df1_styler = word_frequency.style.set_table_attributes(\"style='display:inline'\").set_caption('Title Word Frequency')\n",
    "    df2_styler = word_frequency_ds.style.set_table_attributes(\"style='display:inline'\").set_caption('Description Word frequency')\n",
    "\n",
    "    display_html(df1_styler._repr_html_()+df2_styler._repr_html_(), raw=True)\n",
    "    \n"
   ]
  },
  {
   "cell_type": "markdown",
   "metadata": {},
   "source": [
    "Quick peak for topics over the years :"
   ]
  },
  {
   "cell_type": "code",
   "execution_count": 120,
   "metadata": {},
   "outputs": [
    {
     "data": {
      "text/html": [
       "<style type=\"text/css\">\n",
       "</style>\n",
       "<table id=\"T_2eae8\" style='display:inline'>\n",
       "  <caption>Title Word Frequency</caption>\n",
       "  <thead>\n",
       "    <tr>\n",
       "      <th class=\"blank level0\" >&nbsp;</th>\n",
       "      <th id=\"T_2eae8_level0_col0\" class=\"col_heading level0 col0\" >Word</th>\n",
       "      <th id=\"T_2eae8_level0_col1\" class=\"col_heading level0 col1\" >Frequency</th>\n",
       "    </tr>\n",
       "  </thead>\n",
       "  <tbody>\n",
       "    <tr>\n",
       "      <th id=\"T_2eae8_level0_row0\" class=\"row_heading level0 row0\" >0</th>\n",
       "      <td id=\"T_2eae8_row0_col0\" class=\"data row0 col0\" >us</td>\n",
       "      <td id=\"T_2eae8_row0_col1\" class=\"data row0 col1\" >903</td>\n",
       "    </tr>\n",
       "    <tr>\n",
       "      <th id=\"T_2eae8_level0_row1\" class=\"row_heading level0 row1\" >1</th>\n",
       "      <td id=\"T_2eae8_row1_col0\" class=\"data row1 col0\" >trump</td>\n",
       "      <td id=\"T_2eae8_row1_col1\" class=\"data row1 col1\" >726</td>\n",
       "    </tr>\n",
       "    <tr>\n",
       "      <th id=\"T_2eae8_level0_row2\" class=\"row_heading level0 row2\" >2</th>\n",
       "      <td id=\"T_2eae8_row2_col0\" class=\"data row2 col0\" >coronavirus</td>\n",
       "      <td id=\"T_2eae8_row2_col1\" class=\"data row2 col1\" >722</td>\n",
       "    </tr>\n",
       "    <tr>\n",
       "      <th id=\"T_2eae8_level0_row3\" class=\"row_heading level0 row3\" >3</th>\n",
       "      <td id=\"T_2eae8_row3_col0\" class=\"data row3 col0\" >uk</td>\n",
       "      <td id=\"T_2eae8_row3_col1\" class=\"data row3 col1\" >649</td>\n",
       "    </tr>\n",
       "    <tr>\n",
       "      <th id=\"T_2eae8_level0_row4\" class=\"row_heading level0 row4\" >4</th>\n",
       "      <td id=\"T_2eae8_row4_col0\" class=\"data row4 col0\" >covid</td>\n",
       "      <td id=\"T_2eae8_row4_col1\" class=\"data row4 col1\" >466</td>\n",
       "    </tr>\n",
       "    <tr>\n",
       "      <th id=\"T_2eae8_level0_row5\" class=\"row_heading level0 row5\" >5</th>\n",
       "      <td id=\"T_2eae8_row5_col0\" class=\"data row5 col0\" >ukraine</td>\n",
       "      <td id=\"T_2eae8_row5_col1\" class=\"data row5 col1\" >457</td>\n",
       "    </tr>\n",
       "    <tr>\n",
       "      <th id=\"T_2eae8_level0_row6\" class=\"row_heading level0 row6\" >6</th>\n",
       "      <td id=\"T_2eae8_row6_col0\" class=\"data row6 col0\" >president</td>\n",
       "      <td id=\"T_2eae8_row6_col1\" class=\"data row6 col1\" >388</td>\n",
       "    </tr>\n",
       "    <tr>\n",
       "      <th id=\"T_2eae8_level0_row7\" class=\"row_heading level0 row7\" >7</th>\n",
       "      <td id=\"T_2eae8_row7_col0\" class=\"data row7 col0\" >election</td>\n",
       "      <td id=\"T_2eae8_row7_col1\" class=\"data row7 col1\" >372</td>\n",
       "    </tr>\n",
       "    <tr>\n",
       "      <th id=\"T_2eae8_level0_row8\" class=\"row_heading level0 row8\" >8</th>\n",
       "      <td id=\"T_2eae8_row8_col0\" class=\"data row8 col0\" >russia</td>\n",
       "      <td id=\"T_2eae8_row8_col1\" class=\"data row8 col1\" >337</td>\n",
       "    </tr>\n",
       "    <tr>\n",
       "      <th id=\"T_2eae8_level0_row9\" class=\"row_heading level0 row9\" >9</th>\n",
       "      <td id=\"T_2eae8_row9_col0\" class=\"data row9 col0\" >brexit</td>\n",
       "      <td id=\"T_2eae8_row9_col1\" class=\"data row9 col1\" >323</td>\n",
       "    </tr>\n",
       "  </tbody>\n",
       "</table>\n",
       "<style type=\"text/css\">\n",
       "</style>\n",
       "<table id=\"T_e1807\" style='display:inline'>\n",
       "  <caption>Description Word frequency</caption>\n",
       "  <thead>\n",
       "    <tr>\n",
       "      <th class=\"blank level0\" >&nbsp;</th>\n",
       "      <th id=\"T_e1807_level0_col0\" class=\"col_heading level0 col0\" >Word</th>\n",
       "      <th id=\"T_e1807_level0_col1\" class=\"col_heading level0 col1\" >Frequency</th>\n",
       "    </tr>\n",
       "  </thead>\n",
       "  <tbody>\n",
       "    <tr>\n",
       "      <th id=\"T_e1807_level0_row0\" class=\"row_heading level0 row0\" >0</th>\n",
       "      <td id=\"T_e1807_row0_col0\" class=\"data row0 col0\" >hitters</td>\n",
       "      <td id=\"T_e1807_row0_col1\" class=\"data row0 col1\" >3488</td>\n",
       "    </tr>\n",
       "    <tr>\n",
       "      <th id=\"T_e1807_level0_row1\" class=\"row_heading level0 row1\" >1</th>\n",
       "      <td id=\"T_e1807_row1_col0\" class=\"data row1 col0\" >us</td>\n",
       "      <td id=\"T_e1807_row1_col1\" class=\"data row1 col1\" >3483</td>\n",
       "    </tr>\n",
       "    <tr>\n",
       "      <th id=\"T_e1807_level0_row2\" class=\"row_heading level0 row2\" >2</th>\n",
       "      <td id=\"T_e1807_row2_col0\" class=\"data row2 col0\" >president</td>\n",
       "      <td id=\"T_e1807_row2_col1\" class=\"data row2 col1\" >2579</td>\n",
       "    </tr>\n",
       "    <tr>\n",
       "      <th id=\"T_e1807_level0_row3\" class=\"row_heading level0 row3\" >3</th>\n",
       "      <td id=\"T_e1807_row3_col0\" class=\"data row3 col0\" >uk</td>\n",
       "      <td id=\"T_e1807_row3_col1\" class=\"data row3 col1\" >2302</td>\n",
       "    </tr>\n",
       "    <tr>\n",
       "      <th id=\"T_e1807_level0_row4\" class=\"row_heading level0 row4\" >4</th>\n",
       "      <td id=\"T_e1807_row4_col0\" class=\"data row4 col0\" >government</td>\n",
       "      <td id=\"T_e1807_row4_col1\" class=\"data row4 col1\" >1802</td>\n",
       "    </tr>\n",
       "    <tr>\n",
       "      <th id=\"T_e1807_level0_row5\" class=\"row_heading level0 row5\" >5</th>\n",
       "      <td id=\"T_e1807_row5_col0\" class=\"data row5 col0\" >police</td>\n",
       "      <td id=\"T_e1807_row5_col1\" class=\"data row5 col1\" >1501</td>\n",
       "    </tr>\n",
       "    <tr>\n",
       "      <th id=\"T_e1807_level0_row6\" class=\"row_heading level0 row6\" >6</th>\n",
       "      <td id=\"T_e1807_row6_col0\" class=\"data row6 col0\" >minister</td>\n",
       "      <td id=\"T_e1807_row6_col1\" class=\"data row6 col1\" >1471</td>\n",
       "    </tr>\n",
       "    <tr>\n",
       "      <th id=\"T_e1807_level0_row7\" class=\"row_heading level0 row7\" >7</th>\n",
       "      <td id=\"T_e1807_row7_col0\" class=\"data row7 col0\" >trump</td>\n",
       "      <td id=\"T_e1807_row7_col1\" class=\"data row7 col1\" >1399</td>\n",
       "    </tr>\n",
       "    <tr>\n",
       "      <th id=\"T_e1807_level0_row8\" class=\"row_heading level0 row8\" >8</th>\n",
       "      <td id=\"T_e1807_row8_col0\" class=\"data row8 col0\" >country</td>\n",
       "      <td id=\"T_e1807_row8_col1\" class=\"data row8 col1\" >1396</td>\n",
       "    </tr>\n",
       "    <tr>\n",
       "      <th id=\"T_e1807_level0_row9\" class=\"row_heading level0 row9\" >9</th>\n",
       "      <td id=\"T_e1807_row9_col0\" class=\"data row9 col0\" >city</td>\n",
       "      <td id=\"T_e1807_row9_col1\" class=\"data row9 col1\" >1312</td>\n",
       "    </tr>\n",
       "  </tbody>\n",
       "</table>\n"
      ]
     },
     "metadata": {},
     "output_type": "display_data"
    }
   ],
   "source": [
    "if __name__ == \"__main__\":\n",
    "    max_rows = None # 'None' to read whole file\n",
    "    dt = df['video_title'].apply(str).apply(cleaning)\n",
    "    dt_1 = df['description'].apply(str).apply(cleaning)\n",
    "\n",
    "    word_count = Counter(\" \".join(dt).split()).most_common(10)\n",
    "    word_count_ds = Counter(\" \".join(dt_1).split()).most_common(10)\n",
    "\n",
    "    word_frequency = pd.DataFrame(word_count, columns = ['Word', 'Frequency'])\n",
    "    word_frequency_ds = pd.DataFrame(word_count_ds, columns = ['Word', 'Frequency'])\n",
    "  \n",
    "    # display 2 DataFrame side by side\n",
    "    df1_styler = word_frequency.style.set_table_attributes(\"style='display:inline'\").set_caption('Title Word Frequency')\n",
    "    df2_styler = word_frequency_ds.style.set_table_attributes(\"style='display:inline'\").set_caption('Description Word frequency')\n",
    "\n",
    "    display_html(df1_styler._repr_html_()+df2_styler._repr_html_(), raw=True)\n",
    "    \n"
   ]
  },
  {
   "cell_type": "code",
   "execution_count": 121,
   "metadata": {},
   "outputs": [
    {
     "name": "stdout",
     "output_type": "stream",
     "text": [
      "         Word  Frequency  year\n",
      "0   city       329        2022\n",
      "1   country    285        2022\n",
      "2   president  562        2022\n",
      "3   russia     1043       2022\n",
      "4   russian    815        2022\n",
      "5   russias    48         2022\n",
      "6   uk         454        2022\n",
      "7   ukraine    1338       2022\n",
      "8   ukraines   69         2022\n",
      "9   ukrainian  465        2022\n",
      "10  us         615        2022\n",
      "11  war        392        2022\n",
      "           Word  Frequency  year\n",
      "0   city         329        2022\n",
      "1   country      285        2022\n",
      "2   president    562        2022\n",
      "3   russia       1043       2022\n",
      "4   russian      815        2022\n",
      "5   russias      48         2022\n",
      "6   uk           454        2022\n",
      "7   ukraine      1338       2022\n",
      "8   ukraines     69         2022\n",
      "9   ukrainian    465        2022\n",
      "10  us           615        2022\n",
      "11  war          392        2022\n",
      "12  afghanistan  80         2021\n",
      "13  biden        61         2021\n",
      "14  climate      57         2021\n",
      "15  country      248        2021\n",
      "16  covid        768        2021\n",
      "17  editor       259        2021\n",
      "18  government   315        2021\n",
      "19  police       285        2021\n",
      "20  presents     347        2021\n",
      "21  president    357        2021\n",
      "22  reporting    361        2021\n",
      "23  taliban      72         2021\n",
      "24  uk           606        2021\n",
      "25  us           753        2021\n",
      "26  vaccine      59         2021\n",
      "             Word  Frequency  year\n",
      "0   city           329        2022\n",
      "1   country        285        2022\n",
      "2   president      562        2022\n",
      "3   russia         1043       2022\n",
      "4   russian        815        2022\n",
      "5   russias        48         2022\n",
      "6   uk             454        2022\n",
      "7   ukraine        1338       2022\n",
      "8   ukraines       69         2022\n",
      "9   ukrainian      465        2022\n",
      "10  us             615        2022\n",
      "11  war            392        2022\n",
      "12  afghanistan    80         2021\n",
      "13  biden          61         2021\n",
      "14  climate        57         2021\n",
      "15  country        248        2021\n",
      "16  covid          768        2021\n",
      "17  editor         259        2021\n",
      "18  government     315        2021\n",
      "19  police         285        2021\n",
      "20  presents       347        2021\n",
      "21  president      357        2021\n",
      "22  reporting      361        2021\n",
      "23  taliban        72         2021\n",
      "24  uk             606        2021\n",
      "25  us             753        2021\n",
      "26  vaccine        59         2021\n",
      "27  boris          77         2020\n",
      "28  cases          406        2020\n",
      "29  coronavirus    1668       2020\n",
      "30  correspondent  545        2020\n",
      "31  covid          140        2020\n",
      "32  editor         536        2020\n",
      "33  election       84         2020\n",
      "34  england        72         2020\n",
      "35  government     464        2020\n",
      "36  health         498        2020\n",
      "37  johnson        75         2020\n",
      "38  lockdown       129        2020\n",
      "39  presents       578        2020\n",
      "40  reporting      451        2020\n",
      "41  trump          134        2020\n",
      "42  uk             894        2020\n",
      "43  us             759        2020\n",
      "             Word  Frequency  year\n",
      "0   city           329        2022\n",
      "1   country        285        2022\n",
      "2   president      562        2022\n",
      "3   russia         1043       2022\n",
      "4   russian        815        2022\n",
      "5   russias        48         2022\n",
      "6   uk             454        2022\n",
      "7   ukraine        1338       2022\n",
      "8   ukraines       69         2022\n",
      "9   ukrainian      465        2022\n",
      "10  us             615        2022\n",
      "11  war            392        2022\n",
      "12  afghanistan    80         2021\n",
      "13  biden          61         2021\n",
      "14  climate        57         2021\n",
      "15  country        248        2021\n",
      "16  covid          768        2021\n",
      "17  editor         259        2021\n",
      "18  government     315        2021\n",
      "19  police         285        2021\n",
      "20  presents       347        2021\n",
      "21  president      357        2021\n",
      "22  reporting      361        2021\n",
      "23  taliban        72         2021\n",
      "24  uk             606        2021\n",
      "25  us             753        2021\n",
      "26  vaccine        59         2021\n",
      "27  boris          77         2020\n",
      "28  cases          406        2020\n",
      "29  coronavirus    1668       2020\n",
      "30  correspondent  545        2020\n",
      "31  covid          140        2020\n",
      "32  editor         536        2020\n",
      "33  election       84         2020\n",
      "34  england        72         2020\n",
      "35  government     464        2020\n",
      "36  health         498        2020\n",
      "37  johnson        75         2020\n",
      "38  lockdown       129        2020\n",
      "39  presents       578        2020\n",
      "40  reporting      451        2020\n",
      "41  trump          134        2020\n",
      "42  uk             894        2020\n",
      "43  us             759        2020\n",
      "44  boris          54         2019\n",
      "45  brexit         399        2019\n",
      "46  election       92         2019\n",
      "47  government     217        2019\n",
      "48  hong           51         2019\n",
      "49  india          44         2019\n",
      "50  johnson        230        2019\n",
      "51  kong           47         2019\n",
      "52  minister       222        2019\n",
      "53  political      159        2019\n",
      "54  president      291        2019\n",
      "55  prime          225        2019\n",
      "56  protests       44         2019\n",
      "57  trump          307        2019\n",
      "58  uk             269        2019\n",
      "59  us             307        2019\n",
      "         Word  Frequency  year\n",
      "0   city       329        2022\n",
      "1   country    285        2022\n",
      "2   president  562        2022\n",
      "3   russia     1043       2022\n",
      "4   russian    815        2022\n",
      "..      ...    ...         ...\n",
      "71  syria      33         2018\n",
      "72  trump      401        2018\n",
      "73  uk         119        2018\n",
      "74  us         466        2018\n",
      "75  wedding    42         2018\n",
      "\n",
      "[76 rows x 3 columns]\n",
      "         Word  Frequency  year\n",
      "0   city       329        2022\n",
      "1   country    285        2022\n",
      "2   president  562        2022\n",
      "3   russia     1043       2022\n",
      "4   russian    815        2022\n",
      "..      ...    ...         ...\n",
      "87  president  346        2017\n",
      "88  state      153        2017\n",
      "89  trump      449        2017\n",
      "90  uk         146        2017\n",
      "91  us         468        2017\n",
      "\n",
      "[92 rows x 3 columns]\n",
      "          Word  Frequency  year\n",
      "0    city       329        2022\n",
      "1    country    285        2022\n",
      "2    president  562        2022\n",
      "3    russia     1043       2022\n",
      "4    russian    815        2022\n",
      "..       ...    ...         ...\n",
      "104  states     634        2016\n",
      "105  syria      39         2016\n",
      "106  trump      236        2016\n",
      "107  uk         142        2016\n",
      "108  us         304        2016\n",
      "\n",
      "[109 rows x 3 columns]\n",
      "          Word  Frequency  year\n",
      "0    city       329        2022\n",
      "1    country    285        2022\n",
      "2    president  562        2022\n",
      "3    russia     1043       2022\n",
      "4    russian    815        2022\n",
      "..       ...    ...         ...\n",
      "121  state      236        2015\n",
      "122  syria      46         2015\n",
      "123  uk         151        2015\n",
      "124  ukraine    40         2015\n",
      "125  us         303        2015\n",
      "\n",
      "[126 rows x 3 columns]\n",
      "          Word  Frequency  year\n",
      "0    city       329        2022\n",
      "1    country    285        2022\n",
      "2    president  562        2022\n",
      "3    russia     1043       2022\n",
      "4    russian    815        2022\n",
      "..       ...    ...         ...\n",
      "137  president  83         2014\n",
      "138  reports    176        2014\n",
      "139  state      186        2014\n",
      "140  ukraine    67         2014\n",
      "141  us         290        2014\n",
      "\n",
      "[142 rows x 3 columns]\n",
      "          Word  Frequency  year\n",
      "0    city       329        2022\n",
      "1    country    285        2022\n",
      "2    president  562        2022\n",
      "3    russia     1043       2022\n",
      "4    russian    815        2022\n",
      "..       ...    ...         ...\n",
      "153  tacloban   7          2013\n",
      "154  talks      17         2013\n",
      "155  thailand   7          2013\n",
      "156  typhoon    48         2013\n",
      "157  us         77         2013\n",
      "\n",
      "[158 rows x 3 columns]\n"
     ]
    }
   ],
   "source": [
    "final = pd.DataFrame()\n",
    "year = df[\"publishedYear\"].unique()\n",
    "i=0\n",
    "for i in range(0,10,1):\n",
    "    data_frame = df[df.publishedYear==year[i]]['video_title'].apply(str).apply(cleaning)\n",
    "    data_frame_1 = df[df.publishedYear==year[i]]['description'].apply(str).apply(cleaning)\n",
    "    \n",
    "\n",
    "    word_count_1 = Counter(\" \".join(data_frame).split()).most_common(10)\n",
    "    word_count_2 = Counter(\" \".join(data_frame_1).split()).most_common(10)\n",
    "    \n",
    "\n",
    "    word_frequency_1 = pd.DataFrame(word_count_1, columns = ['Word', 'Frequency'])\n",
    "    word_frequency_2 = pd.DataFrame(word_count_2, columns = ['Word', 'Frequency'])\n",
    "    words = pd.concat([word_frequency_1, word_frequency_2]).groupby(['Word']).sum().reset_index()\n",
    "    words['year']=year[i]\n",
    "    final=pd.concat([final,words], ignore_index=True)\n",
    "    print(final) \n",
    "\n",
    "   \n"
   ]
  },
  {
   "cell_type": "code",
   "execution_count": 122,
   "metadata": {},
   "outputs": [
    {
     "data": {
      "text/html": [
       "<div>\n",
       "<style scoped>\n",
       "    .dataframe tbody tr th:only-of-type {\n",
       "        vertical-align: middle;\n",
       "    }\n",
       "\n",
       "    .dataframe tbody tr th {\n",
       "        vertical-align: top;\n",
       "    }\n",
       "\n",
       "    .dataframe thead th {\n",
       "        text-align: right;\n",
       "    }\n",
       "</style>\n",
       "<table border=\"1\" class=\"dataframe\">\n",
       "  <thead>\n",
       "    <tr style=\"text-align: right;\">\n",
       "      <th></th>\n",
       "      <th>Word</th>\n",
       "      <th>Frequency</th>\n",
       "    </tr>\n",
       "    <tr>\n",
       "      <th>year</th>\n",
       "      <th></th>\n",
       "      <th></th>\n",
       "    </tr>\n",
       "  </thead>\n",
       "  <tbody>\n",
       "    <tr>\n",
       "      <th>2022</th>\n",
       "      <td>city</td>\n",
       "      <td>329</td>\n",
       "    </tr>\n",
       "    <tr>\n",
       "      <th>2022</th>\n",
       "      <td>country</td>\n",
       "      <td>285</td>\n",
       "    </tr>\n",
       "    <tr>\n",
       "      <th>2022</th>\n",
       "      <td>president</td>\n",
       "      <td>562</td>\n",
       "    </tr>\n",
       "    <tr>\n",
       "      <th>2022</th>\n",
       "      <td>russia</td>\n",
       "      <td>1043</td>\n",
       "    </tr>\n",
       "    <tr>\n",
       "      <th>2022</th>\n",
       "      <td>russian</td>\n",
       "      <td>815</td>\n",
       "    </tr>\n",
       "    <tr>\n",
       "      <th>...</th>\n",
       "      <td>...</td>\n",
       "      <td>...</td>\n",
       "    </tr>\n",
       "    <tr>\n",
       "      <th>2013</th>\n",
       "      <td>tacloban</td>\n",
       "      <td>7</td>\n",
       "    </tr>\n",
       "    <tr>\n",
       "      <th>2013</th>\n",
       "      <td>talks</td>\n",
       "      <td>17</td>\n",
       "    </tr>\n",
       "    <tr>\n",
       "      <th>2013</th>\n",
       "      <td>thailand</td>\n",
       "      <td>7</td>\n",
       "    </tr>\n",
       "    <tr>\n",
       "      <th>2013</th>\n",
       "      <td>typhoon</td>\n",
       "      <td>48</td>\n",
       "    </tr>\n",
       "    <tr>\n",
       "      <th>2013</th>\n",
       "      <td>us</td>\n",
       "      <td>77</td>\n",
       "    </tr>\n",
       "  </tbody>\n",
       "</table>\n",
       "<p>158 rows × 2 columns</p>\n",
       "</div>"
      ],
      "text/plain": [
       "           Word  Frequency\n",
       "year                      \n",
       "2022  city       329      \n",
       "2022  country    285      \n",
       "2022  president  562      \n",
       "2022  russia     1043     \n",
       "2022  russian    815      \n",
       "...      ...      ...     \n",
       "2013  tacloban   7        \n",
       "2013  talks      17       \n",
       "2013  thailand   7        \n",
       "2013  typhoon    48       \n",
       "2013  us         77       \n",
       "\n",
       "[158 rows x 2 columns]"
      ]
     },
     "execution_count": 122,
     "metadata": {},
     "output_type": "execute_result"
    }
   ],
   "source": [
    "final.set_index(\"year\", inplace=True)\n",
    "final"
   ]
  },
  {
   "cell_type": "code",
   "execution_count": 125,
   "metadata": {},
   "outputs": [],
   "source": [
    "final.to_csv(\"word_count.csv\")"
   ]
  },
  {
   "cell_type": "markdown",
   "metadata": {},
   "source": [
    "## Conclusion "
   ]
  },
  {
   "cell_type": "markdown",
   "metadata": {},
   "source": [
    "In this project, I explored BBC News Youtube Channel and showed revealing information about how one of the most known news source perform on Youtube.\n",
    "\n",
    "\n",
    "Overall, analysis indicates that more view brings more like and comment, contrary to ordinary comment numbers are higher than likes and have a higher correlation with a view like. This is understandable that the audience tends to discuss daily topics in the comment section instead of liking the video. Turning to the duration, between 2 and 5 min duration category has the highest number of views. Longer videos do not get more interactions. In terms of tag numbers, we see that tags also do not have any good results on view. Lastly, videos that have moderate-length of titles have higher views. This means too long or short titles have a negative effect on the audience.\n"
   ]
  },
  {
   "cell_type": "markdown",
   "metadata": {},
   "source": [
    "## Further Analysis"
   ]
  },
  {
   "cell_type": "markdown",
   "metadata": {},
   "source": [
    "In next project, other new channels data can be considered and compare with each others. To researching relationships between stock market and news could be nice to analyze. Also sentiment analysis can be done in the comments."
   ]
  },
  {
   "cell_type": "markdown",
   "metadata": {},
   "source": [
    "## Resources "
   ]
  },
  {
   "cell_type": "markdown",
   "metadata": {},
   "source": [
    "[1] Wikipedia Youtube introduction: https://en.wikipedia.org/wiki/YouTube\n",
    "\n",
    "\n",
    "[2] Wikipedia Youtube API : https://en.wikipedia.org/wiki/YouTube_API\n",
    "\n",
    "\n",
    "\n",
    "[3] Youtube API Guides can be found : https://developers.google.com/youtube/v3\n",
    "\n",
    "\n",
    "[4] http://bokeh.org/\n",
    "\n",
    "\n",
    "[5] https://www.nltk.org/"
   ]
  }
 ],
 "metadata": {
  "kernelspec": {
   "display_name": "Python 3.9.12 ('base')",
   "language": "python",
   "name": "python3"
  },
  "language_info": {
   "codemirror_mode": {
    "name": "ipython",
    "version": 3
   },
   "file_extension": ".py",
   "mimetype": "text/x-python",
   "name": "python",
   "nbconvert_exporter": "python",
   "pygments_lexer": "ipython3",
   "version": "3.9.12"
  },
  "orig_nbformat": 4,
  "vscode": {
   "interpreter": {
    "hash": "701d4f28dcd0866722f5108a3a4cbcd08882d26398b6d44117e791d7b8102912"
   }
  }
 },
 "nbformat": 4,
 "nbformat_minor": 2
}
